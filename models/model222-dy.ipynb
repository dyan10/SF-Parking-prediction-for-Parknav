{
 "cells": [
  {
   "cell_type": "markdown",
   "metadata": {},
   "source": [
    "### Version wk of 2/22\n",
    "- Mean encoding of single, double, triple variables\n",
    "- Add weight to different point in random forest\n",
    "- Geo-clustering of the train only\n",
    "- For sensor data, group by street,dow and hour then get mean and ratio - then join to train\n",
    "- Fixed f0.5 score\n",
    "- Run Random Forest model (through grid search max_depth = 3, max_feature = 0.6)"
   ]
  },
  {
   "cell_type": "markdown",
   "metadata": {},
   "source": [
    "### Things to include in next version:\n",
    "- Geo-clustering of sensor and parking record data if possible\n",
    "- Join with other tables based on Street or Geo-clustering\n",
    "- PM district and area - join to train as a categorical variable"
   ]
  },
  {
   "cell_type": "code",
   "execution_count": 2,
   "metadata": {
    "collapsed": true
   },
   "outputs": [],
   "source": [
    "import pandas as pd\n",
    "import numpy as np"
   ]
  },
  {
   "cell_type": "code",
   "execution_count": 16,
   "metadata": {
    "collapsed": true
   },
   "outputs": [],
   "source": [
    "# helper function\n",
    "def display_all(df):\n",
    "    with pd.option_context(\"display.max_rows\", 1000): \n",
    "        with pd.option_context(\"display.max_columns\", 1000): \n",
    "            display(df)"
   ]
  },
  {
   "cell_type": "markdown",
   "metadata": {},
   "source": [
    "#### Import train and test files"
   ]
  },
  {
   "cell_type": "code",
   "execution_count": 37,
   "metadata": {
    "collapsed": true
   },
   "outputs": [],
   "source": [
    "train = pd.read_csv('../data/train-parking.csv', parse_dates=[[3,4]], infer_datetime_format=True)\n",
    "test=pd.read_csv('../data/test-no-label-parking.csv', parse_dates=[[3,4]], infer_datetime_format=True)"
   ]
  },
  {
   "cell_type": "markdown",
   "metadata": {},
   "source": [
    "#### Import geocoded street files & Join with train & test"
   ]
  },
  {
   "cell_type": "code",
   "execution_count": 38,
   "metadata": {},
   "outputs": [
    {
     "data": {
      "text/html": [
       "<div>\n",
       "<style>\n",
       "    .dataframe thead tr:only-child th {\n",
       "        text-align: right;\n",
       "    }\n",
       "\n",
       "    .dataframe thead th {\n",
       "        text-align: left;\n",
       "    }\n",
       "\n",
       "    .dataframe tbody tr th {\n",
       "        vertical-align: top;\n",
       "    }\n",
       "</style>\n",
       "<table border=\"1\" class=\"dataframe\">\n",
       "  <thead>\n",
       "    <tr style=\"text-align: right;\">\n",
       "      <th></th>\n",
       "      <th>Street</th>\n",
       "      <th>From</th>\n",
       "      <th>To</th>\n",
       "      <th>lat</th>\n",
       "      <th>lng</th>\n",
       "    </tr>\n",
       "  </thead>\n",
       "  <tbody>\n",
       "    <tr>\n",
       "      <th>0</th>\n",
       "      <td>Mission Street</td>\n",
       "      <td>25th Street</td>\n",
       "      <td>26th Street</td>\n",
       "      <td>37.750648</td>\n",
       "      <td>-122.418316</td>\n",
       "    </tr>\n",
       "    <tr>\n",
       "      <th>1</th>\n",
       "      <td>Polk Street</td>\n",
       "      <td>Ellis Street</td>\n",
       "      <td>Olive Street</td>\n",
       "      <td>37.784040</td>\n",
       "      <td>-122.419381</td>\n",
       "    </tr>\n",
       "    <tr>\n",
       "      <th>2</th>\n",
       "      <td>Van Ness Avenue</td>\n",
       "      <td>Geary Boulevard</td>\n",
       "      <td>Myrtle Street</td>\n",
       "      <td>37.785660</td>\n",
       "      <td>-122.421476</td>\n",
       "    </tr>\n",
       "    <tr>\n",
       "      <th>3</th>\n",
       "      <td>Van Ness Avenue</td>\n",
       "      <td>Bush Street</td>\n",
       "      <td>Fern Street</td>\n",
       "      <td>37.788499</td>\n",
       "      <td>-122.421892</td>\n",
       "    </tr>\n",
       "    <tr>\n",
       "      <th>4</th>\n",
       "      <td>Van Ness Avenue</td>\n",
       "      <td>Daniel Burnham Court</td>\n",
       "      <td>Post Street</td>\n",
       "      <td>37.787084</td>\n",
       "      <td>-122.421757</td>\n",
       "    </tr>\n",
       "  </tbody>\n",
       "</table>\n",
       "</div>"
      ],
      "text/plain": [
       "            Street                  From             To        lat         lng\n",
       "0   Mission Street           25th Street    26th Street  37.750648 -122.418316\n",
       "1      Polk Street          Ellis Street   Olive Street  37.784040 -122.419381\n",
       "2  Van Ness Avenue       Geary Boulevard  Myrtle Street  37.785660 -122.421476\n",
       "3  Van Ness Avenue           Bush Street    Fern Street  37.788499 -122.421892\n",
       "4  Van Ness Avenue  Daniel Burnham Court    Post Street  37.787084 -122.421757"
      ]
     },
     "execution_count": 38,
     "metadata": {},
     "output_type": "execute_result"
    }
   ],
   "source": [
    "st_latlng = pd.read_csv(\"../data/train_longlat.csv\", index_col = False,  dtype = {'lat':np.float64,'lng':np.float64})\n",
    "st_latlng.head()"
   ]
  },
  {
   "cell_type": "code",
   "execution_count": 39,
   "metadata": {
    "collapsed": true
   },
   "outputs": [],
   "source": [
    "train = pd.merge(train,st_latlng,how ='left',left_on=[\"Street\",\"From\",\"To\"], right_on=[\"Street\",\"From\",\"To\"])\n",
    "test= pd.merge(test,st_latlng,how ='left',left_on=[\"Street\",\"From\",\"To\"], right_on=[\"Street\",\"From\",\"To\"])"
   ]
  },
  {
   "cell_type": "code",
   "execution_count": 40,
   "metadata": {},
   "outputs": [
    {
     "data": {
      "text/html": [
       "<div>\n",
       "<style>\n",
       "    .dataframe thead tr:only-child th {\n",
       "        text-align: right;\n",
       "    }\n",
       "\n",
       "    .dataframe thead th {\n",
       "        text-align: left;\n",
       "    }\n",
       "\n",
       "    .dataframe tbody tr th {\n",
       "        vertical-align: top;\n",
       "    }\n",
       "</style>\n",
       "<table border=\"1\" class=\"dataframe\">\n",
       "  <thead>\n",
       "    <tr style=\"text-align: right;\">\n",
       "      <th></th>\n",
       "      <th>Date_Time</th>\n",
       "      <th>Street</th>\n",
       "      <th>From</th>\n",
       "      <th>To</th>\n",
       "      <th>Real.Spots</th>\n",
       "      <th>Street.Length</th>\n",
       "      <th>any_spot</th>\n",
       "      <th>lat</th>\n",
       "      <th>lng</th>\n",
       "    </tr>\n",
       "  </thead>\n",
       "  <tbody>\n",
       "    <tr>\n",
       "      <th>0</th>\n",
       "      <td>2014-01-07 16:19:00</td>\n",
       "      <td>Mission Street</td>\n",
       "      <td>25th Street</td>\n",
       "      <td>26th Street</td>\n",
       "      <td>4</td>\n",
       "      <td>179.132970</td>\n",
       "      <td>1</td>\n",
       "      <td>37.750648</td>\n",
       "      <td>-122.418316</td>\n",
       "    </tr>\n",
       "    <tr>\n",
       "      <th>1</th>\n",
       "      <td>2014-01-18 20:42:00</td>\n",
       "      <td>Polk Street</td>\n",
       "      <td>Ellis Street</td>\n",
       "      <td>Olive Street</td>\n",
       "      <td>0</td>\n",
       "      <td>52.740210</td>\n",
       "      <td>0</td>\n",
       "      <td>37.784040</td>\n",
       "      <td>-122.419381</td>\n",
       "    </tr>\n",
       "    <tr>\n",
       "      <th>2</th>\n",
       "      <td>2014-01-18 20:39:00</td>\n",
       "      <td>Van Ness Avenue</td>\n",
       "      <td>Geary Boulevard</td>\n",
       "      <td>Myrtle Street</td>\n",
       "      <td>0</td>\n",
       "      <td>52.517840</td>\n",
       "      <td>0</td>\n",
       "      <td>37.785660</td>\n",
       "      <td>-122.421476</td>\n",
       "    </tr>\n",
       "    <tr>\n",
       "      <th>3</th>\n",
       "      <td>2014-01-18 20:38:00</td>\n",
       "      <td>Van Ness Avenue</td>\n",
       "      <td>Bush Street</td>\n",
       "      <td>Fern Street</td>\n",
       "      <td>0</td>\n",
       "      <td>52.405315</td>\n",
       "      <td>0</td>\n",
       "      <td>37.788499</td>\n",
       "      <td>-122.421892</td>\n",
       "    </tr>\n",
       "    <tr>\n",
       "      <th>4</th>\n",
       "      <td>2014-01-18 20:38:00</td>\n",
       "      <td>Van Ness Avenue</td>\n",
       "      <td>Daniel Burnham Court</td>\n",
       "      <td>Post Street</td>\n",
       "      <td>0</td>\n",
       "      <td>52.191193</td>\n",
       "      <td>0</td>\n",
       "      <td>37.787084</td>\n",
       "      <td>-122.421757</td>\n",
       "    </tr>\n",
       "  </tbody>\n",
       "</table>\n",
       "</div>"
      ],
      "text/plain": [
       "            Date_Time           Street                  From             To  \\\n",
       "0 2014-01-07 16:19:00   Mission Street           25th Street    26th Street   \n",
       "1 2014-01-18 20:42:00      Polk Street          Ellis Street   Olive Street   \n",
       "2 2014-01-18 20:39:00  Van Ness Avenue       Geary Boulevard  Myrtle Street   \n",
       "3 2014-01-18 20:38:00  Van Ness Avenue           Bush Street    Fern Street   \n",
       "4 2014-01-18 20:38:00  Van Ness Avenue  Daniel Burnham Court    Post Street   \n",
       "\n",
       "   Real.Spots  Street.Length  any_spot        lat         lng  \n",
       "0           4     179.132970         1  37.750648 -122.418316  \n",
       "1           0      52.740210         0  37.784040 -122.419381  \n",
       "2           0      52.517840         0  37.785660 -122.421476  \n",
       "3           0      52.405315         0  37.788499 -122.421892  \n",
       "4           0      52.191193         0  37.787084 -122.421757  "
      ]
     },
     "execution_count": 40,
     "metadata": {},
     "output_type": "execute_result"
    }
   ],
   "source": [
    "train.head()"
   ]
  },
  {
   "cell_type": "markdown",
   "metadata": {},
   "source": [
    "## Geocode Clustering"
   ]
  },
  {
   "cell_type": "code",
   "execution_count": 41,
   "metadata": {
    "collapsed": true
   },
   "outputs": [],
   "source": [
    "from sklearn.cluster import KMeans\n",
    "import matplotlib.pyplot as plt\n",
    "\n",
    "spots = np.vstack(train[['lat','lng']].values)\n",
    "kmeans = KMeans().fit(spots)\n",
    "train['street_cluster'] = kmeans.predict(train[['lat', 'lng']])"
   ]
  },
  {
   "cell_type": "code",
   "execution_count": 42,
   "metadata": {
    "collapsed": true
   },
   "outputs": [],
   "source": [
    "test['street_cluster'] = kmeans.predict(test[['lat', 'lng']])"
   ]
  },
  {
   "cell_type": "code",
   "execution_count": 43,
   "metadata": {},
   "outputs": [
    {
     "data": {
      "image/png": "[encoded data removed]",
      "text/plain": [
       "<matplotlib.figure.Figure at 0x1a1c60ba90>"
      ]
     },
     "metadata": {},
     "output_type": "display_data"
    }
   ],
   "source": [
    "fig, ax = plt.subplots(ncols=1, nrows=1)\n",
    "ax.scatter(train.lat.values, train.lng.values, s=10, lw=0,\n",
    "           c=train.street_cluster.values, cmap='tab20', alpha=0.2)\n",
    "ax.set_xlabel('Longtitude')\n",
    "ax.set_ylabel('Latitude')\n",
    "plt.title('Clustering of train, sensor data, and parking records')\n",
    "plt.show()"
   ]
  },
  {
   "cell_type": "markdown",
   "metadata": {},
   "source": [
    "#### Get Time Features"
   ]
  },
  {
   "cell_type": "code",
   "execution_count": 44,
   "metadata": {
    "collapsed": true
   },
   "outputs": [],
   "source": [
    "train['Minute'] = train.Date_Time.dt.minute\n",
    "test['Minute'] = test.Date_Time.dt.minute\n",
    "train['Hour'] = train.Date_Time.dt.hour\n",
    "test['Hour'] = test.Date_Time.dt.hour\n",
    "train['Dow'] = train.Date_Time.dt.weekday\n",
    "test['Dow'] = test.Date_Time.dt.weekday"
   ]
  },
  {
   "cell_type": "code",
   "execution_count": 45,
   "metadata": {
    "collapsed": true
   },
   "outputs": [],
   "source": [
    "# Convert the time (Hour, Minute) to a numerical value XXXX\n",
    "train['Time'] = train[\"Hour\"]*100 + train['Minute']\n",
    "test['Time'] = test[\"Hour\"]*100 + test['Minute']"
   ]
  },
  {
   "cell_type": "code",
   "execution_count": 46,
   "metadata": {
    "collapsed": true
   },
   "outputs": [],
   "source": [
    "def day_type(x):\n",
    "    if x == 6 or x == 0:\n",
    "        return 1\n",
    "    else:\n",
    "        return 0\n",
    "    \n",
    "train['isweekend'] = train['Dow'].apply(day_type)\n",
    "test['isweekend'] = test['Dow'].apply(day_type)"
   ]
  },
  {
   "cell_type": "markdown",
   "metadata": {},
   "source": [
    "#### Single Variable Mean Encoding"
   ]
  },
  {
   "cell_type": "code",
   "execution_count": 47,
   "metadata": {
    "collapsed": true
   },
   "outputs": [],
   "source": [
    "from sklearn.model_selection import KFold\n",
    "\n",
    "def multi_reg_mean_encoding(train, cols, splits =5):\n",
    "    kf = KFold(n_splits = splits)\n",
    "    global_mean = train.any_spot.mean()\n",
    "    \n",
    "    for col in cols:\n",
    "        means = train.groupby(col).any_spot.mean()\n",
    "        train[col+'_mean_enc'] = train[col].map(means)        \n",
    "        for tr_ind,val_ind in kf.split(train):\n",
    "            tr,val = train.iloc[tr_ind],train.iloc[val_ind]\n",
    "            foldmeans = tr.groupby(col).any_spot.mean()\n",
    "            train.loc[val_ind,col+\"_mean_enc\"] = train.loc[val_ind,col].map(foldmeans)    \n",
    "        train[col+\"_mean_enc\"].fillna(global_mean,inplace=True)   \n",
    "        \n",
    "#mean encoding for validation and test data\n",
    "def multi_test_mean_encoding(test, train, cols):\n",
    "    for col in cols:\n",
    "        global_mean = train.any_spot.mean()\n",
    "        means = train.groupby(col).any_spot.mean()\n",
    "        test[col+\"_mean_enc\"] = test[col].map(means)\n",
    "        test[col+\"_mean_enc\"].fillna(global_mean, inplace=True)"
   ]
  },
  {
   "cell_type": "code",
   "execution_count": 48,
   "metadata": {
    "collapsed": true
   },
   "outputs": [],
   "source": [
    "#create a column for From_To pair\n",
    "train['From_To'] = train['From'] + '_' + train['To']\n",
    "test['From_To'] = test['From'] + '_' + test['To']"
   ]
  },
  {
   "cell_type": "code",
   "execution_count": 49,
   "metadata": {},
   "outputs": [
    {
     "data": {
      "text/plain": [
       "Index(['Date_Time', 'Street', 'From', 'To', 'Real.Spots', 'Street.Length',\n",
       "       'any_spot', 'lat', 'lng', 'street_cluster', 'Minute', 'Hour', 'Dow',\n",
       "       'Time', 'isweekend', 'From_To'],\n",
       "      dtype='object')"
      ]
     },
     "execution_count": 49,
     "metadata": {},
     "output_type": "execute_result"
    }
   ],
   "source": [
    "train.columns"
   ]
  },
  {
   "cell_type": "code",
   "execution_count": 50,
   "metadata": {
    "collapsed": true
   },
   "outputs": [],
   "source": [
    "cols = ['Dow','isweekend','From_To','Street','Hour', 'street_cluster' ]\n",
    "multi_reg_mean_encoding(train, cols, splits =5)\n",
    "multi_test_mean_encoding(test, train, cols)"
   ]
  },
  {
   "cell_type": "markdown",
   "metadata": {},
   "source": [
    "#### Double Variable Mean Encoding"
   ]
  },
  {
   "cell_type": "code",
   "execution_count": 51,
   "metadata": {
    "collapsed": true
   },
   "outputs": [],
   "source": [
    "colpairs = [('street_cluster','Dow'),('Dow','Hour'), ('street_cluster','Hour'),\n",
    "            ('street_cluster','isweekend'),('From_To','Dow'),('From_To','Hour')]\n",
    "pairlist = []\n",
    "for pair in colpairs:\n",
    "    colname = pair[0] + '_' + pair[1]\n",
    "    pairlist.append(colname)\n",
    "    train[colname] = list(zip(train[pair[0]], train[pair[1]]))\n",
    "    test[colname] = list(zip(test[pair[0]], test[pair[1]]))"
   ]
  },
  {
   "cell_type": "code",
   "execution_count": 52,
   "metadata": {
    "collapsed": true
   },
   "outputs": [],
   "source": [
    "multi_reg_mean_encoding(train, pairlist, splits =5)\n",
    "multi_test_mean_encoding(test, train, pairlist)"
   ]
  },
  {
   "cell_type": "code",
   "execution_count": 53,
   "metadata": {
    "collapsed": true
   },
   "outputs": [],
   "source": [
    "#drop Data_Time, Real.Spots, street_cluster_Dow, Dow_Hour, street_cluster_Hour, street_cluster_isweekend, From_To_Dow, From_To_Hour\n",
    "train = train.drop(['Date_Time','Real.Spots', 'street_cluster_Dow', 'Dow_Hour', 'street_cluster_Hour', 'street_cluster_isweekend', 'From_To_Dow', 'From_To_Hour'], axis =1)\n",
    "test = test.drop(['Date_Time', 'street_cluster_Dow', 'Dow_Hour', 'street_cluster_Hour', 'street_cluster_isweekend', 'From_To_Dow', 'From_To_Hour'], axis = 1)"
   ]
  },
  {
   "cell_type": "code",
   "execution_count": 54,
   "metadata": {},
   "outputs": [
    {
     "data": {
      "text/html": [
       "<div>\n",
       "<style>\n",
       "    .dataframe thead tr:only-child th {\n",
       "        text-align: right;\n",
       "    }\n",
       "\n",
       "    .dataframe thead th {\n",
       "        text-align: left;\n",
       "    }\n",
       "\n",
       "    .dataframe tbody tr th {\n",
       "        vertical-align: top;\n",
       "    }\n",
       "</style>\n",
       "<table border=\"1\" class=\"dataframe\">\n",
       "  <thead>\n",
       "    <tr style=\"text-align: right;\">\n",
       "      <th></th>\n",
       "      <th>Street</th>\n",
       "      <th>From</th>\n",
       "      <th>To</th>\n",
       "      <th>Street.Length</th>\n",
       "      <th>any_spot</th>\n",
       "      <th>lat</th>\n",
       "      <th>lng</th>\n",
       "      <th>street_cluster</th>\n",
       "      <th>Minute</th>\n",
       "      <th>Hour</th>\n",
       "      <th>Dow</th>\n",
       "      <th>Time</th>\n",
       "      <th>isweekend</th>\n",
       "      <th>From_To</th>\n",
       "      <th>Dow_mean_enc</th>\n",
       "      <th>isweekend_mean_enc</th>\n",
       "      <th>From_To_mean_enc</th>\n",
       "      <th>Street_mean_enc</th>\n",
       "      <th>Hour_mean_enc</th>\n",
       "      <th>street_cluster_mean_enc</th>\n",
       "      <th>street_cluster_Dow_mean_enc</th>\n",
       "      <th>Dow_Hour_mean_enc</th>\n",
       "      <th>street_cluster_Hour_mean_enc</th>\n",
       "      <th>street_cluster_isweekend_mean_enc</th>\n",
       "      <th>From_To_Dow_mean_enc</th>\n",
       "      <th>From_To_Hour_mean_enc</th>\n",
       "    </tr>\n",
       "  </thead>\n",
       "  <tbody>\n",
       "    <tr>\n",
       "      <th>0</th>\n",
       "      <td>Mission Street</td>\n",
       "      <td>25th Street</td>\n",
       "      <td>26th Street</td>\n",
       "      <td>179.132970</td>\n",
       "      <td>1</td>\n",
       "      <td>37.750648</td>\n",
       "      <td>-122.418316</td>\n",
       "      <td>1</td>\n",
       "      <td>19</td>\n",
       "      <td>16</td>\n",
       "      <td>1</td>\n",
       "      <td>1619</td>\n",
       "      <td>0</td>\n",
       "      <td>25th Street_26th Street</td>\n",
       "      <td>0.169231</td>\n",
       "      <td>0.305761</td>\n",
       "      <td>0.444444</td>\n",
       "      <td>0.384615</td>\n",
       "      <td>0.408451</td>\n",
       "      <td>0.439024</td>\n",
       "      <td>0.364545</td>\n",
       "      <td>0.364545</td>\n",
       "      <td>0.700000</td>\n",
       "      <td>0.366667</td>\n",
       "      <td>0.364545</td>\n",
       "      <td>0.364545</td>\n",
       "    </tr>\n",
       "    <tr>\n",
       "      <th>1</th>\n",
       "      <td>Polk Street</td>\n",
       "      <td>Ellis Street</td>\n",
       "      <td>Olive Street</td>\n",
       "      <td>52.740210</td>\n",
       "      <td>0</td>\n",
       "      <td>37.784040</td>\n",
       "      <td>-122.419381</td>\n",
       "      <td>0</td>\n",
       "      <td>42</td>\n",
       "      <td>20</td>\n",
       "      <td>5</td>\n",
       "      <td>2042</td>\n",
       "      <td>0</td>\n",
       "      <td>Ellis Street_Olive Street</td>\n",
       "      <td>0.414062</td>\n",
       "      <td>0.305761</td>\n",
       "      <td>0.125000</td>\n",
       "      <td>0.280899</td>\n",
       "      <td>0.253165</td>\n",
       "      <td>0.340000</td>\n",
       "      <td>0.455882</td>\n",
       "      <td>0.392857</td>\n",
       "      <td>0.192308</td>\n",
       "      <td>0.288235</td>\n",
       "      <td>0.333333</td>\n",
       "      <td>0.000000</td>\n",
       "    </tr>\n",
       "    <tr>\n",
       "      <th>2</th>\n",
       "      <td>Van Ness Avenue</td>\n",
       "      <td>Geary Boulevard</td>\n",
       "      <td>Myrtle Street</td>\n",
       "      <td>52.517840</td>\n",
       "      <td>0</td>\n",
       "      <td>37.785660</td>\n",
       "      <td>-122.421476</td>\n",
       "      <td>0</td>\n",
       "      <td>39</td>\n",
       "      <td>20</td>\n",
       "      <td>5</td>\n",
       "      <td>2039</td>\n",
       "      <td>0</td>\n",
       "      <td>Geary Boulevard_Myrtle Street</td>\n",
       "      <td>0.414062</td>\n",
       "      <td>0.305761</td>\n",
       "      <td>0.200000</td>\n",
       "      <td>0.323529</td>\n",
       "      <td>0.253165</td>\n",
       "      <td>0.340000</td>\n",
       "      <td>0.455882</td>\n",
       "      <td>0.392857</td>\n",
       "      <td>0.192308</td>\n",
       "      <td>0.288235</td>\n",
       "      <td>0.250000</td>\n",
       "      <td>0.364545</td>\n",
       "    </tr>\n",
       "    <tr>\n",
       "      <th>3</th>\n",
       "      <td>Van Ness Avenue</td>\n",
       "      <td>Bush Street</td>\n",
       "      <td>Fern Street</td>\n",
       "      <td>52.405315</td>\n",
       "      <td>0</td>\n",
       "      <td>37.788499</td>\n",
       "      <td>-122.421892</td>\n",
       "      <td>0</td>\n",
       "      <td>38</td>\n",
       "      <td>20</td>\n",
       "      <td>5</td>\n",
       "      <td>2038</td>\n",
       "      <td>0</td>\n",
       "      <td>Bush Street_Fern Street</td>\n",
       "      <td>0.414062</td>\n",
       "      <td>0.305761</td>\n",
       "      <td>0.272727</td>\n",
       "      <td>0.323529</td>\n",
       "      <td>0.253165</td>\n",
       "      <td>0.340000</td>\n",
       "      <td>0.455882</td>\n",
       "      <td>0.392857</td>\n",
       "      <td>0.192308</td>\n",
       "      <td>0.288235</td>\n",
       "      <td>0.000000</td>\n",
       "      <td>0.364545</td>\n",
       "    </tr>\n",
       "    <tr>\n",
       "      <th>4</th>\n",
       "      <td>Van Ness Avenue</td>\n",
       "      <td>Daniel Burnham Court</td>\n",
       "      <td>Post Street</td>\n",
       "      <td>52.191193</td>\n",
       "      <td>0</td>\n",
       "      <td>37.787084</td>\n",
       "      <td>-122.421757</td>\n",
       "      <td>0</td>\n",
       "      <td>38</td>\n",
       "      <td>20</td>\n",
       "      <td>5</td>\n",
       "      <td>2038</td>\n",
       "      <td>0</td>\n",
       "      <td>Daniel Burnham Court_Post Street</td>\n",
       "      <td>0.414062</td>\n",
       "      <td>0.305761</td>\n",
       "      <td>0.153846</td>\n",
       "      <td>0.323529</td>\n",
       "      <td>0.253165</td>\n",
       "      <td>0.340000</td>\n",
       "      <td>0.455882</td>\n",
       "      <td>0.392857</td>\n",
       "      <td>0.192308</td>\n",
       "      <td>0.288235</td>\n",
       "      <td>0.250000</td>\n",
       "      <td>0.364545</td>\n",
       "    </tr>\n",
       "  </tbody>\n",
       "</table>\n",
       "</div>"
      ],
      "text/plain": [
       "            Street                  From             To  Street.Length  \\\n",
       "0   Mission Street           25th Street    26th Street     179.132970   \n",
       "1      Polk Street          Ellis Street   Olive Street      52.740210   \n",
       "2  Van Ness Avenue       Geary Boulevard  Myrtle Street      52.517840   \n",
       "3  Van Ness Avenue           Bush Street    Fern Street      52.405315   \n",
       "4  Van Ness Avenue  Daniel Burnham Court    Post Street      52.191193   \n",
       "\n",
       "   any_spot        lat         lng  street_cluster  Minute  Hour  Dow  Time  \\\n",
       "0         1  37.750648 -122.418316               1      19    16    1  1619   \n",
       "1         0  37.784040 -122.419381               0      42    20    5  2042   \n",
       "2         0  37.785660 -122.421476               0      39    20    5  2039   \n",
       "3         0  37.788499 -122.421892               0      38    20    5  2038   \n",
       "4         0  37.787084 -122.421757               0      38    20    5  2038   \n",
       "\n",
       "   isweekend                           From_To  Dow_mean_enc  \\\n",
       "0          0           25th Street_26th Street      0.169231   \n",
       "1          0         Ellis Street_Olive Street      0.414062   \n",
       "2          0     Geary Boulevard_Myrtle Street      0.414062   \n",
       "3          0           Bush Street_Fern Street      0.414062   \n",
       "4          0  Daniel Burnham Court_Post Street      0.414062   \n",
       "\n",
       "   isweekend_mean_enc  From_To_mean_enc  Street_mean_enc  Hour_mean_enc  \\\n",
       "0            0.305761          0.444444         0.384615       0.408451   \n",
       "1            0.305761          0.125000         0.280899       0.253165   \n",
       "2            0.305761          0.200000         0.323529       0.253165   \n",
       "3            0.305761          0.272727         0.323529       0.253165   \n",
       "4            0.305761          0.153846         0.323529       0.253165   \n",
       "\n",
       "   street_cluster_mean_enc  street_cluster_Dow_mean_enc  Dow_Hour_mean_enc  \\\n",
       "0                 0.439024                     0.364545           0.364545   \n",
       "1                 0.340000                     0.455882           0.392857   \n",
       "2                 0.340000                     0.455882           0.392857   \n",
       "3                 0.340000                     0.455882           0.392857   \n",
       "4                 0.340000                     0.455882           0.392857   \n",
       "\n",
       "   street_cluster_Hour_mean_enc  street_cluster_isweekend_mean_enc  \\\n",
       "0                      0.700000                           0.366667   \n",
       "1                      0.192308                           0.288235   \n",
       "2                      0.192308                           0.288235   \n",
       "3                      0.192308                           0.288235   \n",
       "4                      0.192308                           0.288235   \n",
       "\n",
       "   From_To_Dow_mean_enc  From_To_Hour_mean_enc  \n",
       "0              0.364545               0.364545  \n",
       "1              0.333333               0.000000  \n",
       "2              0.250000               0.364545  \n",
       "3              0.000000               0.364545  \n",
       "4              0.250000               0.364545  "
      ]
     },
     "metadata": {},
     "output_type": "display_data"
    }
   ],
   "source": [
    "display_all(train.head())"
   ]
  },
  {
   "cell_type": "markdown",
   "metadata": {},
   "source": [
    "#### Convert categorical variables to codes"
   ]
  },
  {
   "cell_type": "code",
   "execution_count": 55,
   "metadata": {
    "collapsed": true
   },
   "outputs": [],
   "source": [
    "def process_dfs(train_df, test_df, cols):\n",
    "    # transfer categorical \n",
    "    for name in cols:\n",
    "        train_df[name]=train_df[name].astype('category').cat.as_ordered()\n",
    "        test_df[name] = pd.Categorical(test_df[name], categories=train_df[name].cat.categories, ordered=True)\n",
    "    return train_df, test_df\n",
    "  \n",
    "def cat2code(train_df, test_df, cols):\n",
    "    # transfer categorical \n",
    "    for name in cols:\n",
    "        train_df[name]= train_df[name].cat.codes\n",
    "        test_df[name] = test_df[name].cat.codes\n",
    "    return train_df, test_df"
   ]
  },
  {
   "cell_type": "code",
   "execution_count": 56,
   "metadata": {
    "collapsed": true
   },
   "outputs": [],
   "source": [
    "catcols = ['Street','From','To', 'From_To']\n",
    "newtrain,newtest = process_dfs(train.copy(),test.copy(),catcols)\n",
    "newtrain,newtest = cat2code(newtrain,newtest,catcols)"
   ]
  },
  {
   "cell_type": "markdown",
   "metadata": {},
   "source": [
    "#### Split response and dependent variable"
   ]
  },
  {
   "cell_type": "code",
   "execution_count": 57,
   "metadata": {
    "collapsed": true
   },
   "outputs": [],
   "source": [
    "def split_response(df, response):\n",
    "    y = df[response].values\n",
    "    df.drop([response],axis=1,inplace=True)\n",
    "    return df,y\n",
    "\n",
    "X_train,y_train = split_response(newtrain.copy(),'any_spot')"
   ]
  },
  {
   "cell_type": "markdown",
   "metadata": {},
   "source": [
    "#### F0.5 score calculator - soft predictions"
   ]
  },
  {
   "cell_type": "code",
   "execution_count": 75,
   "metadata": {
    "collapsed": true
   },
   "outputs": [],
   "source": [
    "def f05_score_soft(preds, labels):\n",
    "    tp = np.sum((labels==(preds>0.5)) & (labels==1))\n",
    "    tn = np.sum((labels==(preds<0.5)) & (labels==0))\n",
    "    fp = np.sum((preds>0.5))-tp\n",
    "    fn = np.sum(preds<0.5)-tn\n",
    "    p = tp/(tp+fp)\n",
    "    r = tp/(tp+fn)\n",
    "    score = 1.25*p*r/(0.25*p+r)\n",
    "    return score"
   ]
  },
  {
   "cell_type": "markdown",
   "metadata": {},
   "source": [
    "#### F0.5 score calculator - hard predictions"
   ]
  },
  {
   "cell_type": "code",
   "execution_count": 76,
   "metadata": {
    "collapsed": true
   },
   "outputs": [],
   "source": [
    "def f05_score_hard(preds, labels):\n",
    "    tp = np.sum((labels==preds) & (labels==1))\n",
    "    tn = np.sum((labels==preds) & (labels==0))\n",
    "    fp = np.sum(preds==1)-tp\n",
    "    fn = np.sum(preds==0)-tn\n",
    "#    print(tp, tn, fp, fn)\n",
    "    p = tp/(tp+fp)\n",
    "    r = tp/(tp+fn)\n",
    "    score = 1.25*p*r/(0.25*p+r)\n",
    "    return score"
   ]
  },
  {
   "cell_type": "code",
   "execution_count": 78,
   "metadata": {},
   "outputs": [
    {
     "data": {
      "text/plain": [
       "Index(['Street', 'From', 'To', 'Street.Length', 'any_spot', 'lat', 'lng',\n",
       "       'street_cluster', 'Minute', 'Hour', 'Dow', 'Time', 'isweekend',\n",
       "       'From_To', 'Dow_mean_enc', 'isweekend_mean_enc', 'From_To_mean_enc',\n",
       "       'Street_mean_enc', 'Hour_mean_enc', 'street_cluster_mean_enc',\n",
       "       'street_cluster_Dow_mean_enc', 'Dow_Hour_mean_enc',\n",
       "       'street_cluster_Hour_mean_enc', 'street_cluster_isweekend_mean_enc',\n",
       "       'From_To_Dow_mean_enc', 'From_To_Hour_mean_enc'],\n",
       "      dtype='object')"
      ]
     },
     "execution_count": 78,
     "metadata": {},
     "output_type": "execute_result"
    }
   ],
   "source": [
    "train.columns"
   ]
  },
  {
   "cell_type": "markdown",
   "metadata": {},
   "source": [
    "### Process sensor data"
   ]
  },
  {
   "cell_type": "code",
   "execution_count": 18,
   "metadata": {},
   "outputs": [],
   "source": [
    "sensor = pd.read_csv('../data/aggregated_sensor1.csv')"
   ]
  },
  {
   "cell_type": "code",
   "execution_count": 10,
   "metadata": {},
   "outputs": [],
   "source": [
    "sensor['TOTAL_TIME_spots'] = sensor['TOTAL_TIME_spots'].astype('int')\n",
    "sensor['STREET_NAME'] = sensor.STREET_NAME.str.lower()\n",
    "sensor['STREET_NAME'] = sensor.STREET_NAME.str.replace(' st', ' street')\n",
    "sensor['STREET_NAME'] = sensor.STREET_NAME.str.replace(' ave', ' avenue')\n",
    "sensor['STREET_NAME'] = sensor.STREET_NAME.str.replace(' blvd', ' street')"
   ]
  },
  {
   "cell_type": "code",
   "execution_count": 19,
   "metadata": {},
   "outputs": [
    {
     "data": {
      "text/html": [
       "<div>\n",
       "<style>\n",
       "    .dataframe thead tr:only-child th {\n",
       "        text-align: right;\n",
       "    }\n",
       "\n",
       "    .dataframe thead th {\n",
       "        text-align: left;\n",
       "    }\n",
       "\n",
       "    .dataframe tbody tr th {\n",
       "        vertical-align: top;\n",
       "    }\n",
       "</style>\n",
       "<table border=\"1\" class=\"dataframe\">\n",
       "  <thead>\n",
       "    <tr style=\"text-align: right;\">\n",
       "      <th></th>\n",
       "      <th>STREET_NAME</th>\n",
       "      <th>DOW</th>\n",
       "      <th>TIME_OF_DAY</th>\n",
       "      <th>TOTAL_OCCUPIED_TIME_pct</th>\n",
       "      <th>TOTAL_VACANT_TIME_pct</th>\n",
       "      <th>TOTAL_UNKNOWN_TIME_pct</th>\n",
       "      <th>OP_OCCUPIED_TIME_pct</th>\n",
       "      <th>OP_VACANT_TIME_pct</th>\n",
       "      <th>OP_UNKNOWN_TIME_pct</th>\n",
       "      <th>NONOP_OCCUPIED_TIME_pct</th>\n",
       "      <th>...</th>\n",
       "      <th>GMP_VACANT_TIME_pct</th>\n",
       "      <th>GMP_UNKNOWN_TIME_pct</th>\n",
       "      <th>COMM_OCCUPIED_TIME_pct</th>\n",
       "      <th>COMM_VACANT_TIME_pct</th>\n",
       "      <th>COMM_UNKNOWN_TIME_pct</th>\n",
       "      <th>TOTAL_TIME_spots</th>\n",
       "      <th>OP_TIME_spots</th>\n",
       "      <th>NONOP_TIME_spots</th>\n",
       "      <th>GMP_TIME_spots</th>\n",
       "      <th>COMM_TIME_spots</th>\n",
       "    </tr>\n",
       "  </thead>\n",
       "  <tbody>\n",
       "    <tr>\n",
       "      <th>0</th>\n",
       "      <td>01st street</td>\n",
       "      <td>0</td>\n",
       "      <td>0.0</td>\n",
       "      <td>0.354069</td>\n",
       "      <td>0.565198</td>\n",
       "      <td>0.080734</td>\n",
       "      <td>0.0</td>\n",
       "      <td>0.0</td>\n",
       "      <td>0.0</td>\n",
       "      <td>0.354069</td>\n",
       "      <td>...</td>\n",
       "      <td>0.0</td>\n",
       "      <td>0.0</td>\n",
       "      <td>0.0</td>\n",
       "      <td>0.0</td>\n",
       "      <td>0.0</td>\n",
       "      <td>35</td>\n",
       "      <td>0</td>\n",
       "      <td>35</td>\n",
       "      <td>0</td>\n",
       "      <td>0</td>\n",
       "    </tr>\n",
       "    <tr>\n",
       "      <th>1</th>\n",
       "      <td>01st street</td>\n",
       "      <td>0</td>\n",
       "      <td>100.0</td>\n",
       "      <td>0.342599</td>\n",
       "      <td>0.574450</td>\n",
       "      <td>0.082952</td>\n",
       "      <td>0.0</td>\n",
       "      <td>0.0</td>\n",
       "      <td>0.0</td>\n",
       "      <td>0.342599</td>\n",
       "      <td>...</td>\n",
       "      <td>0.0</td>\n",
       "      <td>0.0</td>\n",
       "      <td>0.0</td>\n",
       "      <td>0.0</td>\n",
       "      <td>0.0</td>\n",
       "      <td>35</td>\n",
       "      <td>0</td>\n",
       "      <td>35</td>\n",
       "      <td>0</td>\n",
       "      <td>0</td>\n",
       "    </tr>\n",
       "    <tr>\n",
       "      <th>2</th>\n",
       "      <td>01st street</td>\n",
       "      <td>0</td>\n",
       "      <td>200.0</td>\n",
       "      <td>0.334373</td>\n",
       "      <td>0.580756</td>\n",
       "      <td>0.084872</td>\n",
       "      <td>0.0</td>\n",
       "      <td>0.0</td>\n",
       "      <td>0.0</td>\n",
       "      <td>0.334373</td>\n",
       "      <td>...</td>\n",
       "      <td>0.0</td>\n",
       "      <td>0.0</td>\n",
       "      <td>0.0</td>\n",
       "      <td>0.0</td>\n",
       "      <td>0.0</td>\n",
       "      <td>35</td>\n",
       "      <td>0</td>\n",
       "      <td>35</td>\n",
       "      <td>0</td>\n",
       "      <td>0</td>\n",
       "    </tr>\n",
       "    <tr>\n",
       "      <th>3</th>\n",
       "      <td>01st street</td>\n",
       "      <td>0</td>\n",
       "      <td>300.0</td>\n",
       "      <td>0.330584</td>\n",
       "      <td>0.583502</td>\n",
       "      <td>0.085914</td>\n",
       "      <td>0.0</td>\n",
       "      <td>0.0</td>\n",
       "      <td>0.0</td>\n",
       "      <td>0.330584</td>\n",
       "      <td>...</td>\n",
       "      <td>0.0</td>\n",
       "      <td>0.0</td>\n",
       "      <td>0.0</td>\n",
       "      <td>0.0</td>\n",
       "      <td>0.0</td>\n",
       "      <td>35</td>\n",
       "      <td>0</td>\n",
       "      <td>35</td>\n",
       "      <td>0</td>\n",
       "      <td>0</td>\n",
       "    </tr>\n",
       "    <tr>\n",
       "      <th>4</th>\n",
       "      <td>01st street</td>\n",
       "      <td>0</td>\n",
       "      <td>400.0</td>\n",
       "      <td>0.335564</td>\n",
       "      <td>0.577616</td>\n",
       "      <td>0.086820</td>\n",
       "      <td>0.0</td>\n",
       "      <td>0.0</td>\n",
       "      <td>0.0</td>\n",
       "      <td>0.335564</td>\n",
       "      <td>...</td>\n",
       "      <td>0.0</td>\n",
       "      <td>0.0</td>\n",
       "      <td>0.0</td>\n",
       "      <td>0.0</td>\n",
       "      <td>0.0</td>\n",
       "      <td>35</td>\n",
       "      <td>0</td>\n",
       "      <td>35</td>\n",
       "      <td>0</td>\n",
       "      <td>0</td>\n",
       "    </tr>\n",
       "  </tbody>\n",
       "</table>\n",
       "<p>5 rows × 23 columns</p>\n",
       "</div>"
      ],
      "text/plain": [
       "   STREET_NAME  DOW  TIME_OF_DAY  TOTAL_OCCUPIED_TIME_pct  \\\n",
       "0  01st street    0          0.0                 0.354069   \n",
       "1  01st street    0        100.0                 0.342599   \n",
       "2  01st street    0        200.0                 0.334373   \n",
       "3  01st street    0        300.0                 0.330584   \n",
       "4  01st street    0        400.0                 0.335564   \n",
       "\n",
       "   TOTAL_VACANT_TIME_pct  TOTAL_UNKNOWN_TIME_pct  OP_OCCUPIED_TIME_pct  \\\n",
       "0               0.565198                0.080734                   0.0   \n",
       "1               0.574450                0.082952                   0.0   \n",
       "2               0.580756                0.084872                   0.0   \n",
       "3               0.583502                0.085914                   0.0   \n",
       "4               0.577616                0.086820                   0.0   \n",
       "\n",
       "   OP_VACANT_TIME_pct  OP_UNKNOWN_TIME_pct  NONOP_OCCUPIED_TIME_pct  \\\n",
       "0                 0.0                  0.0                 0.354069   \n",
       "1                 0.0                  0.0                 0.342599   \n",
       "2                 0.0                  0.0                 0.334373   \n",
       "3                 0.0                  0.0                 0.330584   \n",
       "4                 0.0                  0.0                 0.335564   \n",
       "\n",
       "        ...         GMP_VACANT_TIME_pct  GMP_UNKNOWN_TIME_pct  \\\n",
       "0       ...                         0.0                   0.0   \n",
       "1       ...                         0.0                   0.0   \n",
       "2       ...                         0.0                   0.0   \n",
       "3       ...                         0.0                   0.0   \n",
       "4       ...                         0.0                   0.0   \n",
       "\n",
       "   COMM_OCCUPIED_TIME_pct  COMM_VACANT_TIME_pct  COMM_UNKNOWN_TIME_pct  \\\n",
       "0                     0.0                   0.0                    0.0   \n",
       "1                     0.0                   0.0                    0.0   \n",
       "2                     0.0                   0.0                    0.0   \n",
       "3                     0.0                   0.0                    0.0   \n",
       "4                     0.0                   0.0                    0.0   \n",
       "\n",
       "   TOTAL_TIME_spots  OP_TIME_spots  NONOP_TIME_spots  GMP_TIME_spots  \\\n",
       "0                35              0                35               0   \n",
       "1                35              0                35               0   \n",
       "2                35              0                35               0   \n",
       "3                35              0                35               0   \n",
       "4                35              0                35               0   \n",
       "\n",
       "   COMM_TIME_spots  \n",
       "0                0  \n",
       "1                0  \n",
       "2                0  \n",
       "3                0  \n",
       "4                0  \n",
       "\n",
       "[5 rows x 23 columns]"
      ]
     },
     "execution_count": 19,
     "metadata": {},
     "output_type": "execute_result"
    }
   ],
   "source": [
    "sensor.head()"
   ]
  },
  {
   "cell_type": "markdown",
   "metadata": {},
   "source": [
    "#### Grid search for best max_features & max_depth"
   ]
  },
  {
   "cell_type": "code",
   "execution_count": 77,
   "metadata": {},
   "outputs": [
    {
     "name": "stdout",
     "output_type": "stream",
     "text": [
      "{'max_depth': 3, 'max_features': 0.5, 'n_estimators': 20}\n",
      "-0.631063063036\n"
     ]
    }
   ],
   "source": [
    "from sklearn.ensemble import RandomForestClassifier\n",
    "from sklearn.model_selection import GridSearchCV\n",
    "\n",
    "param_grid = {\"max_features\": [0.2,0.4,0.5,0.6,0.8,0.9,1],\n",
    "              \"max_depth\": [3,5,10,15,20,25,30],\n",
    "             'n_estimators': [10, 20, 30, 40, 50]}\n",
    "\n",
    "rf = RandomForestClassifier(min_samples_split=2, n_jobs=-1)\n",
    "gs_rf = GridSearchCV(cv=5, param_grid=param_grid, estimator=rf,scoring='neg_log_loss')\n",
    "gs_rf.fit(X_train,y_train)\n",
    "print (gs_rf.best_params_);print (gs_rf.best_score_)"
   ]
  },
  {
   "cell_type": "code",
   "execution_count": 69,
   "metadata": {},
   "outputs": [
    {
     "name": "stderr",
     "output_type": "stream",
     "text": [
      "/Users/Grace/anaconda/envs/fastai/lib/python3.6/site-packages/sklearn/model_selection/_search.py:761: DeprecationWarning: The grid_scores_ attribute was deprecated in version 0.18 in favor of the more elaborate cv_results_ attribute. The grid_scores_ attribute will not be available from 0.20\n",
      "  DeprecationWarning)\n"
     ]
    },
    {
     "data": {
      "image/png": "[encoded data removed]",
      "text/plain": [
       "<matplotlib.figure.Figure at 0x1a14d3a1d0>"
      ]
     },
     "metadata": {},
     "output_type": "display_data"
    }
   ],
   "source": [
    "import matplotlib.pyplot as plt\n",
    "%matplotlib inline\n",
    "max_features = param_grid['max_features']\n",
    "max_depth = param_grid['max_depth']\n",
    "scores = [x[1] for x in gs_rf.grid_scores_]\n",
    "scores = np.array(scores).reshape(len(max_features),len(max_depth))\n",
    "for ind, i in enumerate(max_depth):\n",
    "    plt.plot(max_features, scores[ind],label = 'max_depth: '+ str(i))\n",
    "plt.legend()\n",
    "plt.xlabel('max_features')\n",
    "plt.ylabel('R^2')\n",
    "plt.show()"
   ]
  },
  {
   "cell_type": "markdown",
   "metadata": {},
   "source": [
    "#### Feature importance"
   ]
  },
  {
   "cell_type": "code",
   "execution_count": 71,
   "metadata": {},
   "outputs": [
    {
     "data": {
      "text/plain": [
       "<matplotlib.axes._subplots.AxesSubplot at 0x1a16300978>"
      ]
     },
     "execution_count": 71,
     "metadata": {},
     "output_type": "execute_result"
    },
    {
     "data": {
      "image/png": "[encoded data removed]",
      "text/plain": [
       "<matplotlib.figure.Figure at 0x1a15f61128>"
      ]
     },
     "metadata": {},
     "output_type": "display_data"
    }
   ],
   "source": [
    "m2 = RandomForestClassifier(n_estimators = 50, min_samples_split = 2, max_features= 0.6, max_depth =3, n_jobs=-1)\n",
    "m2.fit(X_train,y_train)\n",
    "\n",
    "#plot feature importance\n",
    "feat_imp = pd.DataFrame({\n",
    "    'features': X_train.columns,\n",
    "    'imp' :m2.feature_importances_\n",
    "})\n",
    "feat_imp.sort_values(by='imp', inplace=True, ascending=False)\n",
    "feat_imp[:30].plot('features','imp','barh', figsize=(12,7))"
   ]
  },
  {
   "cell_type": "code",
   "execution_count": 76,
   "metadata": {},
   "outputs": [
    {
     "data": {
      "text/html": [
       "<div>\n",
       "<style>\n",
       "    .dataframe thead tr:only-child th {\n",
       "        text-align: right;\n",
       "    }\n",
       "\n",
       "    .dataframe thead th {\n",
       "        text-align: left;\n",
       "    }\n",
       "\n",
       "    .dataframe tbody tr th {\n",
       "        vertical-align: top;\n",
       "    }\n",
       "</style>\n",
       "<table border=\"1\" class=\"dataframe\">\n",
       "  <thead>\n",
       "    <tr style=\"text-align: right;\">\n",
       "      <th></th>\n",
       "      <th>features</th>\n",
       "      <th>imp</th>\n",
       "    </tr>\n",
       "  </thead>\n",
       "  <tbody>\n",
       "    <tr>\n",
       "      <th>24</th>\n",
       "      <td>From_To_Hour_mean_enc</td>\n",
       "      <td>0.000000</td>\n",
       "    </tr>\n",
       "    <tr>\n",
       "      <th>6</th>\n",
       "      <td>street_cluster</td>\n",
       "      <td>0.000000</td>\n",
       "    </tr>\n",
       "    <tr>\n",
       "      <th>11</th>\n",
       "      <td>isweekend</td>\n",
       "      <td>0.002243</td>\n",
       "    </tr>\n",
       "    <tr>\n",
       "      <th>7</th>\n",
       "      <td>Minute</td>\n",
       "      <td>0.003971</td>\n",
       "    </tr>\n",
       "    <tr>\n",
       "      <th>1</th>\n",
       "      <td>From</td>\n",
       "      <td>0.004578</td>\n",
       "    </tr>\n",
       "    <tr>\n",
       "      <th>9</th>\n",
       "      <td>Dow</td>\n",
       "      <td>0.005248</td>\n",
       "    </tr>\n",
       "    <tr>\n",
       "      <th>12</th>\n",
       "      <td>From_To</td>\n",
       "      <td>0.007799</td>\n",
       "    </tr>\n",
       "    <tr>\n",
       "      <th>23</th>\n",
       "      <td>From_To_Dow_mean_enc</td>\n",
       "      <td>0.012087</td>\n",
       "    </tr>\n",
       "    <tr>\n",
       "      <th>14</th>\n",
       "      <td>isweekend_mean_enc</td>\n",
       "      <td>0.012572</td>\n",
       "    </tr>\n",
       "    <tr>\n",
       "      <th>19</th>\n",
       "      <td>street_cluster_Dow_mean_enc</td>\n",
       "      <td>0.013014</td>\n",
       "    </tr>\n",
       "    <tr>\n",
       "      <th>2</th>\n",
       "      <td>To</td>\n",
       "      <td>0.013028</td>\n",
       "    </tr>\n",
       "    <tr>\n",
       "      <th>21</th>\n",
       "      <td>street_cluster_Hour_mean_enc</td>\n",
       "      <td>0.015226</td>\n",
       "    </tr>\n",
       "    <tr>\n",
       "      <th>8</th>\n",
       "      <td>Hour</td>\n",
       "      <td>0.015527</td>\n",
       "    </tr>\n",
       "    <tr>\n",
       "      <th>16</th>\n",
       "      <td>Street_mean_enc</td>\n",
       "      <td>0.017642</td>\n",
       "    </tr>\n",
       "    <tr>\n",
       "      <th>0</th>\n",
       "      <td>Street</td>\n",
       "      <td>0.017775</td>\n",
       "    </tr>\n",
       "    <tr>\n",
       "      <th>5</th>\n",
       "      <td>lng</td>\n",
       "      <td>0.020788</td>\n",
       "    </tr>\n",
       "    <tr>\n",
       "      <th>13</th>\n",
       "      <td>Dow_mean_enc</td>\n",
       "      <td>0.025576</td>\n",
       "    </tr>\n",
       "    <tr>\n",
       "      <th>18</th>\n",
       "      <td>street_cluster_mean_enc</td>\n",
       "      <td>0.027032</td>\n",
       "    </tr>\n",
       "    <tr>\n",
       "      <th>4</th>\n",
       "      <td>lat</td>\n",
       "      <td>0.032567</td>\n",
       "    </tr>\n",
       "    <tr>\n",
       "      <th>17</th>\n",
       "      <td>Hour_mean_enc</td>\n",
       "      <td>0.034251</td>\n",
       "    </tr>\n",
       "    <tr>\n",
       "      <th>22</th>\n",
       "      <td>street_cluster_isweekend_mean_enc</td>\n",
       "      <td>0.037918</td>\n",
       "    </tr>\n",
       "    <tr>\n",
       "      <th>20</th>\n",
       "      <td>Dow_Hour_mean_enc</td>\n",
       "      <td>0.063452</td>\n",
       "    </tr>\n",
       "    <tr>\n",
       "      <th>10</th>\n",
       "      <td>Time</td>\n",
       "      <td>0.085828</td>\n",
       "    </tr>\n",
       "    <tr>\n",
       "      <th>3</th>\n",
       "      <td>Street.Length</td>\n",
       "      <td>0.126528</td>\n",
       "    </tr>\n",
       "    <tr>\n",
       "      <th>15</th>\n",
       "      <td>From_To_mean_enc</td>\n",
       "      <td>0.405348</td>\n",
       "    </tr>\n",
       "  </tbody>\n",
       "</table>\n",
       "</div>"
      ],
      "text/plain": [
       "                             features       imp\n",
       "24              From_To_Hour_mean_enc  0.000000\n",
       "6                      street_cluster  0.000000\n",
       "11                          isweekend  0.002243\n",
       "7                              Minute  0.003971\n",
       "1                                From  0.004578\n",
       "9                                 Dow  0.005248\n",
       "12                            From_To  0.007799\n",
       "23               From_To_Dow_mean_enc  0.012087\n",
       "14                 isweekend_mean_enc  0.012572\n",
       "19        street_cluster_Dow_mean_enc  0.013014\n",
       "2                                  To  0.013028\n",
       "21       street_cluster_Hour_mean_enc  0.015226\n",
       "8                                Hour  0.015527\n",
       "16                    Street_mean_enc  0.017642\n",
       "0                              Street  0.017775\n",
       "5                                 lng  0.020788\n",
       "13                       Dow_mean_enc  0.025576\n",
       "18            street_cluster_mean_enc  0.027032\n",
       "4                                 lat  0.032567\n",
       "17                      Hour_mean_enc  0.034251\n",
       "22  street_cluster_isweekend_mean_enc  0.037918\n",
       "20                  Dow_Hour_mean_enc  0.063452\n",
       "10                               Time  0.085828\n",
       "3                       Street.Length  0.126528\n",
       "15                   From_To_mean_enc  0.405348"
      ]
     },
     "execution_count": 76,
     "metadata": {},
     "output_type": "execute_result"
    }
   ],
   "source": [
    "feat_imp.sort_values(\"imp\")"
   ]
  },
  {
   "cell_type": "code",
   "execution_count": 78,
   "metadata": {
    "collapsed": true
   },
   "outputs": [],
   "source": [
    "to_keep = feat_imp[feat_imp['imp'] > 0.01].features\n",
    "x_bestfeat = X_train[to_keep]\n",
    "x_bestfeat_t = newtest[to_keep]"
   ]
  },
  {
   "cell_type": "code",
   "execution_count": 89,
   "metadata": {
    "scrolled": true
   },
   "outputs": [
    {
     "data": {
      "text/plain": [
       "RandomForestClassifier(bootstrap=True, class_weight=None, criterion='gini',\n",
       "            max_depth=3, max_features=0.6, max_leaf_nodes=None,\n",
       "            min_impurity_decrease=0.0, min_impurity_split=None,\n",
       "            min_samples_leaf=1, min_samples_split=2,\n",
       "            min_weight_fraction_leaf=0.0, n_estimators=50, n_jobs=-1,\n",
       "            oob_score=False, random_state=None, verbose=0,\n",
       "            warm_start=False)"
      ]
     },
     "execution_count": 89,
     "metadata": {},
     "output_type": "execute_result"
    }
   ],
   "source": [
    "mf = RandomForestClassifier(n_estimators = 50, min_samples_split = 2, max_features= 0.6, max_depth =3, n_jobs=-1)\n",
    "mf.fit(x_bestfeat,y_train)"
   ]
  },
  {
   "cell_type": "code",
   "execution_count": 90,
   "metadata": {},
   "outputs": [
    {
     "data": {
      "text/plain": [
       "0.64473684210526316"
      ]
     },
     "execution_count": 90,
     "metadata": {},
     "output_type": "execute_result"
    }
   ],
   "source": [
    "trainpreds = mf.predict(x_bestfeat)\n",
    "f05_score(y_train,trainpreds)"
   ]
  },
  {
   "cell_type": "code",
   "execution_count": 91,
   "metadata": {
    "collapsed": true
   },
   "outputs": [],
   "source": [
    "testpreds = mf.predict(x_bestfeat_t)\n",
    "result = pd.DataFrame({\"id\": np.arange(1,len(newtest)+1),\"any_spot\":testpreds})\n",
    "result = result[['id','any_spot']].to_csv(\"../rf_219v2\", index =False)"
   ]
  },
  {
   "cell_type": "code",
   "execution_count": 92,
   "metadata": {
    "collapsed": true
   },
   "outputs": [],
   "source": [
    "from sklearn.metrics import confusion_matrix\n",
    "tn1, fp1, fn1, tp1 = confusion_matrix(y_train, trainpreds).ravel()"
   ]
  },
  {
   "cell_type": "code",
   "execution_count": 93,
   "metadata": {},
   "outputs": [
    {
     "name": "stdout",
     "output_type": "stream",
     "text": [
      "591 108 205 196\n"
     ]
    }
   ],
   "source": [
    "print (tn1, fp1, fn1, tp1)"
   ]
  },
  {
   "cell_type": "code",
   "execution_count": 105,
   "metadata": {},
   "outputs": [
    {
     "data": {
      "text/plain": [
       "0.64473684210526316"
      ]
     },
     "execution_count": 105,
     "metadata": {},
     "output_type": "execute_result"
    }
   ],
   "source": [
    "tp1/(tp1+fp1)"
   ]
  },
  {
   "cell_type": "code",
   "execution_count": 106,
   "metadata": {},
   "outputs": [
    {
     "data": {
      "text/plain": [
       "0.48877805486284287"
      ]
     },
     "execution_count": 106,
     "metadata": {},
     "output_type": "execute_result"
    }
   ],
   "source": [
    "tp1/(tp1+fn1)"
   ]
  },
  {
   "cell_type": "code",
   "execution_count": 173,
   "metadata": {},
   "outputs": [
    {
     "name": "stdout",
     "output_type": "stream",
     "text": [
      "624 75 218 183\n"
     ]
    }
   ],
   "source": [
    "mfw = RandomForestClassifier(n_estimators = 50, min_samples_split = 2, max_features= 0.6, \n",
    "                             max_depth =3, n_jobs=-1,class_weight ={0:1,1:0.85})\n",
    "mfw.fit(x_bestfeat,y_train)\n",
    "\n",
    "trainpreds = mfw.predict(x_bestfeat)\n",
    "\n",
    "\n",
    "tn, fp, fn, tp = confusion_matrix(y_train, trainpreds).ravel()\n",
    "print (tn, fp, fn, tp)"
   ]
  },
  {
   "cell_type": "code",
   "execution_count": 174,
   "metadata": {},
   "outputs": [
    {
     "data": {
      "text/plain": [
       "0.70930232558139539"
      ]
     },
     "execution_count": 174,
     "metadata": {},
     "output_type": "execute_result"
    }
   ],
   "source": [
    "tp/(tp+fp)"
   ]
  },
  {
   "cell_type": "code",
   "execution_count": 175,
   "metadata": {},
   "outputs": [
    {
     "data": {
      "text/plain": [
       "0.45635910224438903"
      ]
     },
     "execution_count": 175,
     "metadata": {},
     "output_type": "execute_result"
    }
   ],
   "source": [
    "tp/(tp+fn)"
   ]
  },
  {
   "cell_type": "code",
   "execution_count": 176,
   "metadata": {
    "collapsed": true
   },
   "outputs": [],
   "source": [
    "p = tp/(tp+fp)\n",
    "r = tp/(tp+fn)\n",
    "score = 1.25*p*r/(0.25*p+r)"
   ]
  },
  {
   "cell_type": "code",
   "execution_count": 177,
   "metadata": {},
   "outputs": [
    {
     "name": "stdout",
     "output_type": "stream",
     "text": [
      "0.638520586183\n"
     ]
    }
   ],
   "source": [
    "print (score)"
   ]
  },
  {
   "cell_type": "code",
   "execution_count": 178,
   "metadata": {
    "collapsed": true
   },
   "outputs": [],
   "source": [
    "testpreds = mfw.predict(x_bestfeat_t)\n",
    "result = pd.DataFrame({\"id\": np.arange(1,len(newtest)+1),\"any_spot\":testpreds})\n",
    "result[['id','any_spot']].to_csv(\"../rf_219v3\", index =False)"
   ]
  },
  {
   "cell_type": "markdown",
   "metadata": {},
   "source": [
    "### Calculate F0.5 score and make prediction"
   ]
  },
  {
   "cell_type": "code",
   "execution_count": 72,
   "metadata": {},
   "outputs": [
    {
     "data": {
      "text/plain": [
       "0.65273311897106112"
      ]
     },
     "execution_count": 72,
     "metadata": {},
     "output_type": "execute_result"
    }
   ],
   "source": [
    "trainpreds = m2.predict(X_train)\n",
    "f05_score(y_train,trainpreds)"
   ]
  },
  {
   "cell_type": "code",
   "execution_count": 73,
   "metadata": {
    "collapsed": true
   },
   "outputs": [],
   "source": [
    "testpreds = mfw.predict(newtest)\n",
    "result = pd.DataFrame({\"id\": np.arange(1,len(newtest)+1),\"any_spot\":testpreds})\n",
    "result = result[['id','any_spot']].to_csv(\"../rf_219\", index =False)"
   ]
  },
  {
   "cell_type": "code",
   "execution_count": 77,
   "metadata": {},
   "outputs": [
    {
     "data": {
      "text/plain": [
       "0.36454545454545456"
      ]
     },
     "execution_count": 77,
     "metadata": {},
     "output_type": "execute_result"
    }
   ],
   "source": [
    "train.any_spot.mean()"
   ]
  },
  {
   "cell_type": "code",
   "execution_count": null,
   "metadata": {
    "collapsed": true
   },
   "outputs": [],
   "source": []
  }
 ],
 "metadata": {
  "kernelspec": {
   "display_name": "Python 2",
   "language": "python",
   "name": "python2"
  },
  "language_info": {
   "codemirror_mode": {
    "name": "ipython",
    "version": 2
   },
   "file_extension": ".py",
   "mimetype": "text/x-python",
   "name": "python",
   "nbconvert_exporter": "python",
   "pygments_lexer": "ipython2",
   "version": "2.7.13"
  },
  "name": "mlfinal",
  "notebookId": 1396919368544651
 },
 "nbformat": 4,
 "nbformat_minor": 1
}
