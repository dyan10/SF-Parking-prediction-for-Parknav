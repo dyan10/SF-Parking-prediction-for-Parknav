{
 "cells": [
  {
   "cell_type": "markdown",
   "metadata": {},
   "source": [
    "## Test Out Different models - XGBOOST and Logistic Regression"
   ]
  },
  {
   "cell_type": "code",
   "execution_count": 10,
   "metadata": {},
   "outputs": [],
   "source": [
    "import pandas as pd\n",
    "import numpy as np\n",
    "import xgboost as xgb\n",
    "from sklearn.metrics import log_loss,precision_recall_fscore_support"
   ]
  },
  {
   "cell_type": "markdown",
   "metadata": {},
   "source": [
    "#### Read in train and validataion set"
   ]
  },
  {
   "cell_type": "code",
   "execution_count": 11,
   "metadata": {},
   "outputs": [],
   "source": [
    "train = pd.read_csv(\"../data/train.csv\")\n",
    "val = pd.read_csv(\"../data/val.csv\")"
   ]
  },
  {
   "cell_type": "code",
   "execution_count": 12,
   "metadata": {},
   "outputs": [
    {
     "data": {
      "text/html": [
       "<div>\n",
       "<style>\n",
       "    .dataframe thead tr:only-child th {\n",
       "        text-align: right;\n",
       "    }\n",
       "\n",
       "    .dataframe thead th {\n",
       "        text-align: left;\n",
       "    }\n",
       "\n",
       "    .dataframe tbody tr th {\n",
       "        vertical-align: top;\n",
       "    }\n",
       "</style>\n",
       "<table border=\"1\" class=\"dataframe\">\n",
       "  <thead>\n",
       "    <tr style=\"text-align: right;\">\n",
       "      <th></th>\n",
       "      <th>Unnamed: 0</th>\n",
       "      <th>Street</th>\n",
       "      <th>From</th>\n",
       "      <th>To</th>\n",
       "      <th>Street.Length</th>\n",
       "      <th>any_spot</th>\n",
       "      <th>lat</th>\n",
       "      <th>lng</th>\n",
       "      <th>street_cluster</th>\n",
       "      <th>Minute</th>\n",
       "      <th>...</th>\n",
       "      <th>GMP_VACANT_TIME_pct</th>\n",
       "      <th>GMP_UNKNOWN_TIME_pct</th>\n",
       "      <th>COMM_OCCUPIED_TIME_pct</th>\n",
       "      <th>COMM_VACANT_TIME_pct</th>\n",
       "      <th>COMM_UNKNOWN_TIME_pct</th>\n",
       "      <th>TOTAL_TIME_spots</th>\n",
       "      <th>OP_TIME_spots</th>\n",
       "      <th>NONOP_TIME_spots</th>\n",
       "      <th>GMP_TIME_spots</th>\n",
       "      <th>COMM_TIME_spots</th>\n",
       "    </tr>\n",
       "  </thead>\n",
       "  <tbody>\n",
       "    <tr>\n",
       "      <th>0</th>\n",
       "      <td>0</td>\n",
       "      <td>15</td>\n",
       "      <td>1</td>\n",
       "      <td>1</td>\n",
       "      <td>179.132970</td>\n",
       "      <td>1</td>\n",
       "      <td>37.750648</td>\n",
       "      <td>-122.418316</td>\n",
       "      <td>2</td>\n",
       "      <td>19</td>\n",
       "      <td>...</td>\n",
       "      <td>0.233428</td>\n",
       "      <td>0.005768</td>\n",
       "      <td>0.490227</td>\n",
       "      <td>0.500646</td>\n",
       "      <td>0.009127</td>\n",
       "      <td>27</td>\n",
       "      <td>20</td>\n",
       "      <td>7</td>\n",
       "      <td>16</td>\n",
       "      <td>3</td>\n",
       "    </tr>\n",
       "    <tr>\n",
       "      <th>1</th>\n",
       "      <td>1</td>\n",
       "      <td>18</td>\n",
       "      <td>16</td>\n",
       "      <td>42</td>\n",
       "      <td>52.740210</td>\n",
       "      <td>0</td>\n",
       "      <td>37.784040</td>\n",
       "      <td>-122.419381</td>\n",
       "      <td>6</td>\n",
       "      <td>42</td>\n",
       "      <td>...</td>\n",
       "      <td>0.000000</td>\n",
       "      <td>0.000000</td>\n",
       "      <td>0.000000</td>\n",
       "      <td>0.000000</td>\n",
       "      <td>0.000000</td>\n",
       "      <td>10</td>\n",
       "      <td>0</td>\n",
       "      <td>10</td>\n",
       "      <td>0</td>\n",
       "      <td>0</td>\n",
       "    </tr>\n",
       "    <tr>\n",
       "      <th>2</th>\n",
       "      <td>2</td>\n",
       "      <td>24</td>\n",
       "      <td>8</td>\n",
       "      <td>21</td>\n",
       "      <td>52.405315</td>\n",
       "      <td>0</td>\n",
       "      <td>37.788499</td>\n",
       "      <td>-122.421892</td>\n",
       "      <td>6</td>\n",
       "      <td>38</td>\n",
       "      <td>...</td>\n",
       "      <td>0.000000</td>\n",
       "      <td>0.000000</td>\n",
       "      <td>0.000000</td>\n",
       "      <td>0.000000</td>\n",
       "      <td>0.000000</td>\n",
       "      <td>13</td>\n",
       "      <td>0</td>\n",
       "      <td>13</td>\n",
       "      <td>0</td>\n",
       "      <td>0</td>\n",
       "    </tr>\n",
       "    <tr>\n",
       "      <th>3</th>\n",
       "      <td>3</td>\n",
       "      <td>24</td>\n",
       "      <td>13</td>\n",
       "      <td>46</td>\n",
       "      <td>52.191193</td>\n",
       "      <td>0</td>\n",
       "      <td>37.787084</td>\n",
       "      <td>-122.421757</td>\n",
       "      <td>6</td>\n",
       "      <td>38</td>\n",
       "      <td>...</td>\n",
       "      <td>0.000000</td>\n",
       "      <td>0.000000</td>\n",
       "      <td>0.000000</td>\n",
       "      <td>0.000000</td>\n",
       "      <td>0.000000</td>\n",
       "      <td>13</td>\n",
       "      <td>0</td>\n",
       "      <td>13</td>\n",
       "      <td>0</td>\n",
       "      <td>0</td>\n",
       "    </tr>\n",
       "    <tr>\n",
       "      <th>4</th>\n",
       "      <td>4</td>\n",
       "      <td>12</td>\n",
       "      <td>10</td>\n",
       "      <td>46</td>\n",
       "      <td>52.324250</td>\n",
       "      <td>0</td>\n",
       "      <td>37.786592</td>\n",
       "      <td>-122.418214</td>\n",
       "      <td>6</td>\n",
       "      <td>20</td>\n",
       "      <td>...</td>\n",
       "      <td>0.000000</td>\n",
       "      <td>0.000000</td>\n",
       "      <td>0.000000</td>\n",
       "      <td>0.000000</td>\n",
       "      <td>0.000000</td>\n",
       "      <td>14</td>\n",
       "      <td>0</td>\n",
       "      <td>14</td>\n",
       "      <td>0</td>\n",
       "      <td>0</td>\n",
       "    </tr>\n",
       "  </tbody>\n",
       "</table>\n",
       "<p>5 rows × 53 columns</p>\n",
       "</div>"
      ],
      "text/plain": [
       "   Unnamed: 0  Street  From  To  Street.Length  any_spot        lat  \\\n",
       "0           0      15     1   1     179.132970         1  37.750648   \n",
       "1           1      18    16  42      52.740210         0  37.784040   \n",
       "2           2      24     8  21      52.405315         0  37.788499   \n",
       "3           3      24    13  46      52.191193         0  37.787084   \n",
       "4           4      12    10  46      52.324250         0  37.786592   \n",
       "\n",
       "          lng  street_cluster  Minute       ...         GMP_VACANT_TIME_pct  \\\n",
       "0 -122.418316               2      19       ...                    0.233428   \n",
       "1 -122.419381               6      42       ...                    0.000000   \n",
       "2 -122.421892               6      38       ...                    0.000000   \n",
       "3 -122.421757               6      38       ...                    0.000000   \n",
       "4 -122.418214               6      20       ...                    0.000000   \n",
       "\n",
       "   GMP_UNKNOWN_TIME_pct  COMM_OCCUPIED_TIME_pct  COMM_VACANT_TIME_pct  \\\n",
       "0              0.005768                0.490227              0.500646   \n",
       "1              0.000000                0.000000              0.000000   \n",
       "2              0.000000                0.000000              0.000000   \n",
       "3              0.000000                0.000000              0.000000   \n",
       "4              0.000000                0.000000              0.000000   \n",
       "\n",
       "   COMM_UNKNOWN_TIME_pct  TOTAL_TIME_spots  OP_TIME_spots  NONOP_TIME_spots  \\\n",
       "0               0.009127                27             20                 7   \n",
       "1               0.000000                10              0                10   \n",
       "2               0.000000                13              0                13   \n",
       "3               0.000000                13              0                13   \n",
       "4               0.000000                14              0                14   \n",
       "\n",
       "   GMP_TIME_spots  COMM_TIME_spots  \n",
       "0              16                3  \n",
       "1               0                0  \n",
       "2               0                0  \n",
       "3               0                0  \n",
       "4               0                0  \n",
       "\n",
       "[5 rows x 53 columns]"
      ]
     },
     "execution_count": 12,
     "metadata": {},
     "output_type": "execute_result"
    }
   ],
   "source": [
    "train.head()"
   ]
  },
  {
   "cell_type": "code",
   "execution_count": 13,
   "metadata": {
    "collapsed": true
   },
   "outputs": [],
   "source": [
    "train=train.drop('Unnamed: 0', axis =1)\n",
    "val=val.drop('Unnamed: 0', axis =1)"
   ]
  },
  {
   "cell_type": "code",
   "execution_count": 14,
   "metadata": {
    "collapsed": true,
    "scrolled": true
   },
   "outputs": [],
   "source": [
    "def split_response(df, response):\n",
    "    y = df[response].values\n",
    "    df.drop([response],axis=1,inplace=True)\n",
    "    return df,y"
   ]
  },
  {
   "cell_type": "code",
   "execution_count": 15,
   "metadata": {
    "collapsed": true
   },
   "outputs": [],
   "source": [
    "X_train,y_train = split_response(train,'any_spot')\n",
    "X_val,y_val = split_response(val,'any_spot')"
   ]
  },
  {
   "cell_type": "code",
   "execution_count": 16,
   "metadata": {
    "collapsed": true
   },
   "outputs": [],
   "source": [
    "def f05_score_hard(labels, preds):\n",
    "    tp = np.sum((labels==preds) & (labels==1))\n",
    "    tn = np.sum((labels==preds) & (labels==0))\n",
    "    fp = np.sum(preds==1)-tp\n",
    "    fn = np.sum(preds==0)-tn\n",
    "    #print(tp, tn, fp, fn)\n",
    "    p = tp*1.0/(tp+fp)\n",
    "    r = tp*1.0/(tp+fn)\n",
    "    print (p,r)\n",
    "    score = 1.25*p*r/(0.25*p+r)\n",
    "    return score"
   ]
  },
  {
   "cell_type": "markdown",
   "metadata": {},
   "source": [
    "### XGBOOST"
   ]
  },
  {
   "cell_type": "code",
   "execution_count": 17,
   "metadata": {},
   "outputs": [],
   "source": [
    "dtrain = xgb.DMatrix(X_train, label=y_train)\n",
    "dval= xgb.DMatrix(X_val, label=y_val)"
   ]
  },
  {
   "cell_type": "code",
   "execution_count": 75,
   "metadata": {},
   "outputs": [],
   "source": [
    "params = {\n",
    "    'eta': 0.08,\n",
    "    'max_depth':8,\n",
    "    'min_child_weight': 1,\n",
    "    'subsample': 0.8,\n",
    "    'objective':'binary:logistic',\n",
    "    'colsample_bytree':0.4,\n",
    "    \"eval_metric\" : ['logloss','auc']\n",
    "}"
   ]
  },
  {
   "cell_type": "code",
   "execution_count": 76,
   "metadata": {},
   "outputs": [
    {
     "name": "stdout",
     "output_type": "stream",
     "text": [
      "[0]\ttrain-logloss:0.657444\ttrain-auc:0.873581\tval-logloss:0.671838\tval-auc:0.691476\n",
      "Multiple eval metrics have been passed: 'val-auc' will be used for early stopping.\n",
      "\n",
      "Will train until val-auc hasn't improved in 150 rounds.\n",
      "[50]\ttrain-logloss:0.204736\ttrain-auc:0.998912\tval-logloss:0.599205\tval-auc:0.699704\n",
      "[100]\ttrain-logloss:0.118193\ttrain-auc:0.999971\tval-logloss:0.652036\tval-auc:0.698595\n",
      "[150]\ttrain-logloss:0.079078\ttrain-auc:1\tval-logloss:0.695399\tval-auc:0.691383\n",
      "Stopping. Best iteration:\n",
      "[20]\ttrain-logloss:0.348283\ttrain-auc:0.985575\tval-logloss:0.564481\tval-auc:0.726609\n",
      "\n",
      "0.566666666667 0.326923076923\n"
     ]
    },
    {
     "data": {
      "text/plain": [
       "0.49418604651162784"
      ]
     },
     "execution_count": 76,
     "metadata": {},
     "output_type": "execute_result"
    }
   ],
   "source": [
    "watchlist = [(dtrain, 'train'), (dval, 'val')]\n",
    "bst_bow = xgb.train(params, dtrain, 1000, watchlist, early_stopping_rounds=150, verbose_eval=50)\n",
    "clf = xgb.train(params, dtrain, num_boost_round=bst_bow.best_ntree_limit-1)\n",
    "\n",
    "out = clf.predict(dval)\n",
    "pred = out>0.5\n",
    "f05_score_hard(y_val, pred)"
   ]
  },
  {
   "cell_type": "code",
   "execution_count": 253,
   "metadata": {
    "collapsed": true
   },
   "outputs": [],
   "source": [
    "clf = xgb.train(params, dtrain, num_boost_round=bst_bow.best_ntree_limit-1)"
   ]
  },
  {
   "cell_type": "code",
   "execution_count": 259,
   "metadata": {
    "collapsed": true
   },
   "outputs": [],
   "source": [
    "out = clf.predict(dval)\n",
    "pred = out>0.5"
   ]
  },
  {
   "cell_type": "code",
   "execution_count": 261,
   "metadata": {},
   "outputs": [
    {
     "data": {
      "text/plain": [
       "9.7417574189126395"
      ]
     },
     "execution_count": 261,
     "metadata": {},
     "output_type": "execute_result"
    }
   ],
   "source": [
    "log_loss(y_val, pred)"
   ]
  },
  {
   "cell_type": "code",
   "execution_count": 267,
   "metadata": {},
   "outputs": [
    {
     "name": "stdout",
     "output_type": "stream",
     "text": [
      "0.642857142857 0.346153846154\n"
     ]
    },
    {
     "data": {
      "text/plain": [
       "0.54878048780487809"
      ]
     },
     "execution_count": 267,
     "metadata": {},
     "output_type": "execute_result"
    }
   ],
   "source": [
    "f05_score_hard(y_val, pred)"
   ]
  },
  {
   "cell_type": "markdown",
   "metadata": {},
   "source": [
    "## Logistic Regression"
   ]
  },
  {
   "cell_type": "code",
   "execution_count": 268,
   "metadata": {
    "collapsed": true
   },
   "outputs": [],
   "source": [
    "from sklearn.preprocessing import StandardScaler\n",
    "scaler = StandardScaler()"
   ]
  },
  {
   "cell_type": "code",
   "execution_count": 269,
   "metadata": {},
   "outputs": [
    {
     "data": {
      "text/plain": [
       "StandardScaler(copy=True, with_mean=True, with_std=True)"
      ]
     },
     "execution_count": 269,
     "metadata": {},
     "output_type": "execute_result"
    }
   ],
   "source": [
    "scaler.fit(X_train)"
   ]
  },
  {
   "cell_type": "code",
   "execution_count": 270,
   "metadata": {
    "collapsed": true
   },
   "outputs": [],
   "source": [
    "X_train_n = scaler.transform(X_train)"
   ]
  },
  {
   "cell_type": "code",
   "execution_count": 271,
   "metadata": {
    "collapsed": true
   },
   "outputs": [],
   "source": [
    "X_val_n=scaler.transform(X_val)"
   ]
  },
  {
   "cell_type": "code",
   "execution_count": 307,
   "metadata": {
    "collapsed": true
   },
   "outputs": [],
   "source": [
    "from sklearn.linear_model import LogisticRegression\n",
    "log_reg = LogisticRegression(C=1e8)"
   ]
  },
  {
   "cell_type": "code",
   "execution_count": 308,
   "metadata": {},
   "outputs": [
    {
     "data": {
      "text/plain": [
       "LogisticRegression(C=100000000.0, class_weight=None, dual=False,\n",
       "          fit_intercept=True, intercept_scaling=1, max_iter=100,\n",
       "          multi_class='ovr', n_jobs=1, penalty='l2', random_state=None,\n",
       "          solver='liblinear', tol=0.0001, verbose=0, warm_start=False)"
      ]
     },
     "execution_count": 308,
     "metadata": {},
     "output_type": "execute_result"
    }
   ],
   "source": [
    "log_reg.fit(X_train_n,y_train)"
   ]
  },
  {
   "cell_type": "code",
   "execution_count": 309,
   "metadata": {
    "collapsed": true
   },
   "outputs": [],
   "source": [
    "lrpredict = log_reg.predict(X_val_n)"
   ]
  },
  {
   "cell_type": "code",
   "execution_count": 310,
   "metadata": {},
   "outputs": [
    {
     "data": {
      "text/plain": [
       "11.513017726212173"
      ]
     },
     "execution_count": 310,
     "metadata": {},
     "output_type": "execute_result"
    }
   ],
   "source": [
    "log_loss(y_val, lrpredict)"
   ]
  },
  {
   "cell_type": "code",
   "execution_count": 311,
   "metadata": {},
   "outputs": [
    {
     "name": "stdout",
     "output_type": "stream",
     "text": [
      "0.5 0.346153846154\n"
     ]
    },
    {
     "data": {
      "text/plain": [
       "0.45918367346938777"
      ]
     },
     "execution_count": 311,
     "metadata": {},
     "output_type": "execute_result"
    }
   ],
   "source": [
    "f05_score_hard(y_val, lrpredict)"
   ]
  },
  {
   "cell_type": "code",
   "execution_count": null,
   "metadata": {
    "collapsed": true
   },
   "outputs": [],
   "source": []
  }
 ],
 "metadata": {
  "kernelspec": {
   "display_name": "Python 3",
   "language": "python",
   "name": "python3"
  },
  "language_info": {
   "codemirror_mode": {
    "name": "ipython",
    "version": 3
   },
   "file_extension": ".py",
   "mimetype": "text/x-python",
   "name": "python",
   "nbconvert_exporter": "python",
   "pygments_lexer": "ipython3",
   "version": "3.6.2"
  }
 },
 "nbformat": 4,
 "nbformat_minor": 2
}
