{
 "cells": [
  {
   "cell_type": "markdown",
   "metadata": {},
   "source": [
    "### In this version:\n",
    "- used validation set to choose best parameter\n",
    "- use feature importance to drop features with low importance\n",
    "- use oob score as reference to drop highly correlated reatures\n",
    "- run xgboost with full set of features(parameters tuned in LR-XGB notebook\n",
    "- run random forest with selected features"
   ]
  },
  {
   "cell_type": "code",
   "execution_count": 254,
   "metadata": {},
   "outputs": [],
   "source": [
    "import pandas as pd\n",
    "import numpy as np\n",
    "import warnings\n",
    "import xgboost as xgb\n",
    "warnings.filterwarnings(\"ignore\")"
   ]
  },
  {
   "cell_type": "code",
   "execution_count": 255,
   "metadata": {
    "collapsed": true
   },
   "outputs": [],
   "source": [
    "train = pd.read_csv('../data/train-parking.csv', parse_dates=[[3,4]], infer_datetime_format=True)\n",
    "test=pd.read_csv('../data/test-no-label-parking.csv', parse_dates=[[3,4]], infer_datetime_format=True)\n",
    "valid_swhg = pd.read_csv('../data/valid_swhg.csv', infer_datetime_format=True, index_col='index').set_index('index.1')"
   ]
  },
  {
   "cell_type": "code",
   "execution_count": 256,
   "metadata": {},
   "outputs": [],
   "source": [
    "parkrec = pd.read_csv('../data/park_tojoin.csv')"
   ]
  },
  {
   "cell_type": "code",
   "execution_count": 257,
   "metadata": {},
   "outputs": [],
   "source": [
    "pr_test=pd.read_csv('../data/park_tojoin_test.csv')"
   ]
  },
  {
   "cell_type": "code",
   "execution_count": 258,
   "metadata": {
    "collapsed": true
   },
   "outputs": [],
   "source": [
    "train['daily_mean_freq'] = parkrec['daily_avg_freq']\n",
    "train['dow_mean_freq'] = parkrec['dow_avg_freq']"
   ]
  },
  {
   "cell_type": "code",
   "execution_count": 259,
   "metadata": {
    "collapsed": true
   },
   "outputs": [],
   "source": [
    "test['daily_mean_freq'] = pr_test['daily_avg_freq']\n",
    "test['dow_mean_freq'] = pr_test['dow_avg_freq']"
   ]
  },
  {
   "cell_type": "code",
   "execution_count": 260,
   "metadata": {
    "scrolled": true
   },
   "outputs": [
    {
     "data": {
      "text/html": [
       "<div>\n",
       "<style>\n",
       "    .dataframe thead tr:only-child th {\n",
       "        text-align: right;\n",
       "    }\n",
       "\n",
       "    .dataframe thead th {\n",
       "        text-align: left;\n",
       "    }\n",
       "\n",
       "    .dataframe tbody tr th {\n",
       "        vertical-align: top;\n",
       "    }\n",
       "</style>\n",
       "<table border=\"1\" class=\"dataframe\">\n",
       "  <thead>\n",
       "    <tr style=\"text-align: right;\">\n",
       "      <th></th>\n",
       "      <th>Date_Time</th>\n",
       "      <th>Street</th>\n",
       "      <th>From</th>\n",
       "      <th>To</th>\n",
       "      <th>Street.Length</th>\n",
       "      <th>daily_mean_freq</th>\n",
       "      <th>dow_mean_freq</th>\n",
       "    </tr>\n",
       "  </thead>\n",
       "  <tbody>\n",
       "    <tr>\n",
       "      <th>0</th>\n",
       "      <td>2014-03-28 16:34:00</td>\n",
       "      <td>Stockton Street</td>\n",
       "      <td>Stockton Tunnel</td>\n",
       "      <td>Stockton Street</td>\n",
       "      <td>35.786472</td>\n",
       "      <td>17.900000</td>\n",
       "      <td>18.666667</td>\n",
       "    </tr>\n",
       "    <tr>\n",
       "      <th>1</th>\n",
       "      <td>2014-03-28 21:34:00</td>\n",
       "      <td>Van Ness Avenue</td>\n",
       "      <td>Hayes Street</td>\n",
       "      <td>Van Ness Avenue</td>\n",
       "      <td>63.787968</td>\n",
       "      <td>18.434783</td>\n",
       "      <td>25.333333</td>\n",
       "    </tr>\n",
       "    <tr>\n",
       "      <th>2</th>\n",
       "      <td>2014-03-28 19:50:00</td>\n",
       "      <td>Van Ness Avenue</td>\n",
       "      <td>McAllister Street</td>\n",
       "      <td>Van Ness Avenue</td>\n",
       "      <td>56.007236</td>\n",
       "      <td>44.050000</td>\n",
       "      <td>58.666667</td>\n",
       "    </tr>\n",
       "    <tr>\n",
       "      <th>3</th>\n",
       "      <td>2014-03-28 20:02:00</td>\n",
       "      <td>Mission Street</td>\n",
       "      <td>11th Street</td>\n",
       "      <td>Mission Street</td>\n",
       "      <td>139.651900</td>\n",
       "      <td>38.000000</td>\n",
       "      <td>47.000000</td>\n",
       "    </tr>\n",
       "    <tr>\n",
       "      <th>4</th>\n",
       "      <td>2014-03-28 19:43:00</td>\n",
       "      <td>Hyde Street</td>\n",
       "      <td>Golden Gate Avenue</td>\n",
       "      <td>McAllister Street</td>\n",
       "      <td>105.144110</td>\n",
       "      <td>91.333333</td>\n",
       "      <td>98.666667</td>\n",
       "    </tr>\n",
       "  </tbody>\n",
       "</table>\n",
       "</div>"
      ],
      "text/plain": [
       "            Date_Time           Street                From                 To  \\\n",
       "0 2014-03-28 16:34:00  Stockton Street     Stockton Tunnel    Stockton Street   \n",
       "1 2014-03-28 21:34:00  Van Ness Avenue        Hayes Street    Van Ness Avenue   \n",
       "2 2014-03-28 19:50:00  Van Ness Avenue   McAllister Street    Van Ness Avenue   \n",
       "3 2014-03-28 20:02:00   Mission Street         11th Street     Mission Street   \n",
       "4 2014-03-28 19:43:00      Hyde Street  Golden Gate Avenue  McAllister Street   \n",
       "\n",
       "   Street.Length  daily_mean_freq  dow_mean_freq  \n",
       "0      35.786472        17.900000      18.666667  \n",
       "1      63.787968        18.434783      25.333333  \n",
       "2      56.007236        44.050000      58.666667  \n",
       "3     139.651900        38.000000      47.000000  \n",
       "4     105.144110        91.333333      98.666667  "
      ]
     },
     "execution_count": 260,
     "metadata": {},
     "output_type": "execute_result"
    }
   ],
   "source": [
    "test.head()"
   ]
  },
  {
   "cell_type": "markdown",
   "metadata": {},
   "source": [
    "##### Get the proper train and validation set"
   ]
  },
  {
   "cell_type": "code",
   "execution_count": 261,
   "metadata": {
    "collapsed": true
   },
   "outputs": [],
   "source": [
    "train_swhg = train[~train.index.isin(valid_swhg.index)]\n",
    "valid_swhg = train[train.index.isin(valid_swhg.index)]"
   ]
  },
  {
   "cell_type": "markdown",
   "metadata": {},
   "source": [
    "## Run with validation set to select features and hyper-parameters"
   ]
  },
  {
   "cell_type": "code",
   "execution_count": 262,
   "metadata": {
    "collapsed": true
   },
   "outputs": [],
   "source": [
    "# get long and lat for train street\n",
    "st_latlng = pd.read_csv(\"../data/train_longlat.csv\", index_col = False,  dtype = {'lat':np.float64,'lng':np.float64})"
   ]
  },
  {
   "cell_type": "code",
   "execution_count": 263,
   "metadata": {
    "collapsed": true
   },
   "outputs": [],
   "source": [
    "train_swhg = pd.merge(train_swhg,st_latlng,how ='left',left_on=[\"Street\",\"From\",\"To\"], right_on=[\"Street\",\"From\",\"To\"])\n",
    "valid_swhg= pd.merge(valid_swhg,st_latlng,how ='left',left_on=[\"Street\",\"From\",\"To\"], right_on=[\"Street\",\"From\",\"To\"])"
   ]
  },
  {
   "cell_type": "code",
   "execution_count": 264,
   "metadata": {
    "collapsed": true
   },
   "outputs": [],
   "source": [
    "# sensor related data\n",
    "sensor = pd.read_csv('../data/aggregated_sensor.csv')"
   ]
  },
  {
   "cell_type": "code",
   "execution_count": 265,
   "metadata": {
    "collapsed": true
   },
   "outputs": [],
   "source": [
    "sensor['TIME_OF_DAY'] = sensor['TIME_OF_DAY']/100\n",
    "sensor['TIME_OF_DAY'] = sensor['TIME_OF_DAY'].astype('int')"
   ]
  },
  {
   "cell_type": "code",
   "execution_count": 266,
   "metadata": {},
   "outputs": [
    {
     "data": {
      "text/html": [
       "<div>\n",
       "<style>\n",
       "    .dataframe thead tr:only-child th {\n",
       "        text-align: right;\n",
       "    }\n",
       "\n",
       "    .dataframe thead th {\n",
       "        text-align: left;\n",
       "    }\n",
       "\n",
       "    .dataframe tbody tr th {\n",
       "        vertical-align: top;\n",
       "    }\n",
       "</style>\n",
       "<table border=\"1\" class=\"dataframe\">\n",
       "  <thead>\n",
       "    <tr style=\"text-align: right;\">\n",
       "      <th></th>\n",
       "      <th>Date_Time</th>\n",
       "      <th>Street</th>\n",
       "      <th>From</th>\n",
       "      <th>To</th>\n",
       "      <th>Real.Spots</th>\n",
       "      <th>Street.Length</th>\n",
       "      <th>any_spot</th>\n",
       "      <th>daily_mean_freq</th>\n",
       "      <th>dow_mean_freq</th>\n",
       "      <th>lat</th>\n",
       "      <th>lng</th>\n",
       "    </tr>\n",
       "  </thead>\n",
       "  <tbody>\n",
       "    <tr>\n",
       "      <th>0</th>\n",
       "      <td>2014-01-18 20:39:00</td>\n",
       "      <td>Van Ness Avenue</td>\n",
       "      <td>Geary Boulevard</td>\n",
       "      <td>Myrtle Street</td>\n",
       "      <td>0</td>\n",
       "      <td>52.517840</td>\n",
       "      <td>0</td>\n",
       "      <td>35.090909</td>\n",
       "      <td>43.333333</td>\n",
       "      <td>37.785660</td>\n",
       "      <td>-122.421476</td>\n",
       "    </tr>\n",
       "    <tr>\n",
       "      <th>1</th>\n",
       "      <td>2014-01-18 20:22:00</td>\n",
       "      <td>Pine Street</td>\n",
       "      <td>Polk Street</td>\n",
       "      <td>Van Ness Avenue</td>\n",
       "      <td>0</td>\n",
       "      <td>139.494200</td>\n",
       "      <td>0</td>\n",
       "      <td>119.772727</td>\n",
       "      <td>149.000000</td>\n",
       "      <td>37.789637</td>\n",
       "      <td>-122.420507</td>\n",
       "    </tr>\n",
       "    <tr>\n",
       "      <th>2</th>\n",
       "      <td>2014-01-18 20:20:00</td>\n",
       "      <td>Larkin Street</td>\n",
       "      <td>Myrtle Street</td>\n",
       "      <td>Geary Street</td>\n",
       "      <td>0</td>\n",
       "      <td>52.188343</td>\n",
       "      <td>0</td>\n",
       "      <td>35.050000</td>\n",
       "      <td>27.333333</td>\n",
       "      <td>37.785650</td>\n",
       "      <td>-122.418024</td>\n",
       "    </tr>\n",
       "    <tr>\n",
       "      <th>3</th>\n",
       "      <td>2014-01-21 17:35:00</td>\n",
       "      <td>23rd Street</td>\n",
       "      <td>Mission Street</td>\n",
       "      <td>Bartlett Street</td>\n",
       "      <td>1</td>\n",
       "      <td>96.037110</td>\n",
       "      <td>1</td>\n",
       "      <td>144.409091</td>\n",
       "      <td>154.250000</td>\n",
       "      <td>37.753846</td>\n",
       "      <td>-122.418619</td>\n",
       "    </tr>\n",
       "    <tr>\n",
       "      <th>4</th>\n",
       "      <td>2014-01-27 19:03:00</td>\n",
       "      <td>Van Ness Avenue</td>\n",
       "      <td>Van Ness Avenue</td>\n",
       "      <td>Bush Street</td>\n",
       "      <td>0</td>\n",
       "      <td>39.027992</td>\n",
       "      <td>0</td>\n",
       "      <td>111.090909</td>\n",
       "      <td>121.333333</td>\n",
       "      <td>37.788499</td>\n",
       "      <td>-122.421892</td>\n",
       "    </tr>\n",
       "  </tbody>\n",
       "</table>\n",
       "</div>"
      ],
      "text/plain": [
       "            Date_Time           Street             From               To  \\\n",
       "0 2014-01-18 20:39:00  Van Ness Avenue  Geary Boulevard    Myrtle Street   \n",
       "1 2014-01-18 20:22:00      Pine Street      Polk Street  Van Ness Avenue   \n",
       "2 2014-01-18 20:20:00    Larkin Street    Myrtle Street     Geary Street   \n",
       "3 2014-01-21 17:35:00      23rd Street   Mission Street  Bartlett Street   \n",
       "4 2014-01-27 19:03:00  Van Ness Avenue  Van Ness Avenue      Bush Street   \n",
       "\n",
       "   Real.Spots  Street.Length  any_spot  daily_mean_freq  dow_mean_freq  \\\n",
       "0           0      52.517840         0        35.090909      43.333333   \n",
       "1           0     139.494200         0       119.772727     149.000000   \n",
       "2           0      52.188343         0        35.050000      27.333333   \n",
       "3           1      96.037110         1       144.409091     154.250000   \n",
       "4           0      39.027992         0       111.090909     121.333333   \n",
       "\n",
       "         lat         lng  \n",
       "0  37.785660 -122.421476  \n",
       "1  37.789637 -122.420507  \n",
       "2  37.785650 -122.418024  \n",
       "3  37.753846 -122.418619  \n",
       "4  37.788499 -122.421892  "
      ]
     },
     "execution_count": 266,
     "metadata": {},
     "output_type": "execute_result"
    }
   ],
   "source": [
    "valid_swhg.head()"
   ]
  },
  {
   "cell_type": "code",
   "execution_count": 267,
   "metadata": {
    "collapsed": true
   },
   "outputs": [],
   "source": [
    "# Clustering\n",
    "from sklearn.cluster import KMeans\n",
    "spots = np.vstack(train_swhg[['lat','lng']].values)\n",
    "kmeans = KMeans().fit(spots)\n",
    "train_swhg['street_cluster'] = kmeans.predict(train_swhg[['lat', 'lng']])\n",
    "valid_swhg['street_cluster'] = kmeans.predict(valid_swhg[['lat', 'lng']])"
   ]
  },
  {
   "cell_type": "code",
   "execution_count": 268,
   "metadata": {
    "collapsed": true
   },
   "outputs": [],
   "source": [
    "# Time features\n",
    "train_swhg['Minute'] = train_swhg.Date_Time.dt.minute\n",
    "valid_swhg['Minute'] = pd.to_datetime(valid_swhg['Date_Time']).dt.minute\n",
    "train_swhg['Hour'] = train_swhg.Date_Time.dt.hour\n",
    "valid_swhg['Hour'] = pd.to_datetime(valid_swhg['Date_Time']).dt.hour\n",
    "train_swhg['Dow'] = train_swhg.Date_Time.dt.weekday\n",
    "valid_swhg['Dow'] = pd.to_datetime(valid_swhg['Date_Time']).dt.weekday"
   ]
  },
  {
   "cell_type": "code",
   "execution_count": 269,
   "metadata": {
    "collapsed": true
   },
   "outputs": [],
   "source": [
    "# Convert the time (Hour, Minute) to a numerical value XXXX\n",
    "train_swhg['Time'] = train_swhg[\"Hour\"]*100 + train_swhg['Minute']\n",
    "valid_swhg['Time'] = valid_swhg[\"Hour\"]*100 + valid_swhg['Minute']"
   ]
  },
  {
   "cell_type": "code",
   "execution_count": 270,
   "metadata": {
    "collapsed": true
   },
   "outputs": [],
   "source": [
    "def day_type(x):\n",
    "    if x == 6 or x == 0:\n",
    "        return 1\n",
    "    else:\n",
    "        return 0\n",
    "    \n",
    "train_swhg['isweekend'] = train_swhg['Dow'].apply(day_type)\n",
    "valid_swhg['isweekend'] = valid_swhg['Dow'].apply(day_type)"
   ]
  },
  {
   "cell_type": "code",
   "execution_count": 271,
   "metadata": {
    "collapsed": true
   },
   "outputs": [],
   "source": [
    "# Single mean encoding target\n",
    "from sklearn.model_selection import KFold\n",
    "\n",
    "def multi_reg_mean_encoding(train, cols, splits =5):\n",
    "    kf = KFold(n_splits = splits)\n",
    "    global_mean = train.any_spot.mean()\n",
    "    \n",
    "    for col in cols:\n",
    "        means = train.groupby(col).any_spot.mean()\n",
    "        train[col+'_mean_enc'] = train[col].map(means)        \n",
    "        for tr_ind,val_ind in kf.split(train):\n",
    "            tr,val = train.iloc[tr_ind],train.iloc[val_ind]\n",
    "            foldmeans = tr.groupby(col).any_spot.mean()\n",
    "            train.loc[val_ind,col+\"_mean_enc\"] = train.loc[val_ind,col].map(foldmeans)    \n",
    "        train[col+\"_mean_enc\"].fillna(global_mean,inplace=True)   \n",
    "        \n",
    "#mean encoding for validation and test data\n",
    "def multi_test_mean_encoding(test, train, cols):\n",
    "    for col in cols:\n",
    "        global_mean = train.any_spot.mean()\n",
    "        means = train.groupby(col).any_spot.mean()\n",
    "        test[col+\"_mean_enc\"] = test[col].map(means)\n",
    "        test[col+\"_mean_enc\"].fillna(global_mean, inplace=True)"
   ]
  },
  {
   "cell_type": "code",
   "execution_count": 272,
   "metadata": {
    "collapsed": true
   },
   "outputs": [],
   "source": [
    "# Single mean encoding real.spots\n",
    "\n",
    "def realspot_mean_encoding(train, cols, splits =5):\n",
    "    kf = KFold(n_splits = splits)\n",
    "    global_mean = train['Real.Spots'].mean()\n",
    "    \n",
    "    for col in cols:\n",
    "        means = train.groupby(col)['Real.Spots'].mean()\n",
    "        train[col+'_realspot_enc'] = train[col].map(means)        \n",
    "        for tr_ind,val_ind in kf.split(train):\n",
    "            tr,val = train.iloc[tr_ind],train.iloc[val_ind]\n",
    "            foldmeans = tr.groupby(col)['Real.Spots'].mean()\n",
    "            train.loc[val_ind,col+\"_realspot_enc\"] = train.loc[val_ind,col].map(foldmeans)    \n",
    "        train[col+\"_realspot_enc\"].fillna(global_mean,inplace=True)   \n",
    "        \n",
    "#mean encoding for validation and test data\n",
    "def realspot_test_mean_encoding(test, train, cols):\n",
    "    for col in cols:\n",
    "        global_mean = train['Real.Spots'].mean()\n",
    "        means = train.groupby(col)['Real.Spots'].mean()\n",
    "        test[col+\"_realspot_enc\"] = test[col].map(means)\n",
    "        test[col+\"_realspot_enc\"].fillna(global_mean, inplace=True)"
   ]
  },
  {
   "cell_type": "code",
   "execution_count": 273,
   "metadata": {
    "collapsed": true
   },
   "outputs": [],
   "source": [
    "#create a column for From_To pair\n",
    "train_swhg['From_To'] = train_swhg['From'] + '_' + train_swhg['To']\n",
    "valid_swhg['From_To'] = valid_swhg['From'] + '_' + valid_swhg['To']"
   ]
  },
  {
   "cell_type": "code",
   "execution_count": 274,
   "metadata": {
    "collapsed": true
   },
   "outputs": [],
   "source": [
    "cols = ['Dow','isweekend','From_To','Street','Hour', 'street_cluster' ]\n",
    "multi_reg_mean_encoding(train_swhg, cols, splits =5)\n",
    "multi_test_mean_encoding(valid_swhg, train_swhg, cols)"
   ]
  },
  {
   "cell_type": "code",
   "execution_count": 275,
   "metadata": {
    "collapsed": true
   },
   "outputs": [],
   "source": [
    "# Double variable mean encoding\n",
    "colpairs = [('street_cluster','Dow'),('Dow','Hour'), ('street_cluster','Hour'),\n",
    "            ('street_cluster','isweekend'),('From_To','Dow'),('From_To','Hour')]\n",
    "pairlist = []\n",
    "for pair in colpairs:\n",
    "    colname = pair[0] + '_' + pair[1]\n",
    "    pairlist.append(colname)\n",
    "    train_swhg[colname] = list(zip(train_swhg[pair[0]], train_swhg[pair[1]]))\n",
    "    valid_swhg[colname] = list(zip(valid_swhg[pair[0]], valid_swhg[pair[1]]))"
   ]
  },
  {
   "cell_type": "code",
   "execution_count": 276,
   "metadata": {
    "collapsed": true
   },
   "outputs": [],
   "source": [
    "multi_reg_mean_encoding(train_swhg, pairlist, splits =5)\n",
    "multi_test_mean_encoding(valid_swhg, train_swhg, pairlist)"
   ]
  },
  {
   "cell_type": "code",
   "execution_count": 277,
   "metadata": {
    "collapsed": true
   },
   "outputs": [],
   "source": [
    "pairlist2= ['Street','From_To','street_cluster_Hour','street_cluster_isweekend','From_To_Dow','From_To_Hour']\n",
    "realspot_mean_encoding(train_swhg, pairlist2, splits =5)\n",
    "realspot_test_mean_encoding(valid_swhg, train_swhg, pairlist2)"
   ]
  },
  {
   "cell_type": "code",
   "execution_count": 278,
   "metadata": {
    "collapsed": true
   },
   "outputs": [],
   "source": [
    "#drop Data_Time, Real.Spots, street_cluster_Dow, Dow_Hour, street_cluster_Hour, street_cluster_isweekend, From_To_Dow, From_To_Hour\n",
    "train_swhg = train_swhg.drop(['Date_Time','Real.Spots', 'street_cluster_Dow', 'Dow_Hour', 'street_cluster_Hour', 'street_cluster_isweekend', 'From_To_Dow', 'From_To_Hour'], axis =1)\n",
    "valid_swhg = valid_swhg.drop(['Date_Time', 'Real.Spots', 'street_cluster_Dow', 'Dow_Hour', 'street_cluster_Hour', 'street_cluster_isweekend', 'From_To_Dow', 'From_To_Hour'], axis = 1)"
   ]
  },
  {
   "cell_type": "code",
   "execution_count": 279,
   "metadata": {
    "collapsed": true
   },
   "outputs": [],
   "source": [
    "train_swhg = train_swhg.drop('Minute', axis =1)\n",
    "valid_swhg = valid_swhg.drop('Minute', axis = 1)"
   ]
  },
  {
   "cell_type": "code",
   "execution_count": 280,
   "metadata": {
    "collapsed": true
   },
   "outputs": [],
   "source": [
    "train_swhg['Street'] = train_swhg.Street.str.lower()\n",
    "train_swhg['From'] = train_swhg.From.str.lower()\n",
    "train_swhg['To'] = train_swhg.To.str.lower()\n",
    "valid_swhg['Street'] = valid_swhg.Street.str.lower()\n",
    "valid_swhg['From'] = valid_swhg.From.str.lower()\n",
    "valid_swhg['To'] = valid_swhg.To.str.lower()"
   ]
  },
  {
   "cell_type": "code",
   "execution_count": 281,
   "metadata": {
    "collapsed": true
   },
   "outputs": [],
   "source": [
    "# Join sensor data:\n",
    "train_swhg = pd.merge(train_swhg,sensor, how='left',left_on=['Street','Dow','Hour'], right_on=['STREET_NAME','DOW','TIME_OF_DAY'])\n",
    "valid_swhg = pd.merge(valid_swhg,sensor, how='left',left_on=['Street','Dow','Hour'], right_on=['STREET_NAME','DOW','TIME_OF_DAY'])\n",
    "\n",
    "train_swhg = train_swhg.drop(['STREET_NAME','DOW','TIME_OF_DAY'],axis =1)\n",
    "valid_swhg = valid_swhg.drop(['STREET_NAME','DOW','TIME_OF_DAY'],axis =1)"
   ]
  },
  {
   "cell_type": "code",
   "execution_count": 282,
   "metadata": {
    "collapsed": true
   },
   "outputs": [],
   "source": [
    "# convert categorical variables to code\n",
    "def process_dfs(train_df, test_df, cols):\n",
    "    # transfer categorical \n",
    "    for name in cols:\n",
    "        train_df[name]=train_df[name].astype('category').cat.as_ordered()\n",
    "        test_df[name] = pd.Categorical(test_df[name], categories=train_df[name].cat.categories, ordered=True)\n",
    "    return train_df, test_df\n",
    "  \n",
    "def cat2code(train_df, test_df, cols):\n",
    "    # transfer categorical \n",
    "    for name in cols:\n",
    "        train_df[name]= train_df[name].cat.codes\n",
    "        test_df[name] = test_df[name].cat.codes\n",
    "    return train_df, test_df"
   ]
  },
  {
   "cell_type": "code",
   "execution_count": 283,
   "metadata": {
    "collapsed": true
   },
   "outputs": [],
   "source": [
    "catcols = ['Street','From','To', 'From_To']\n",
    "train_swhg,valid_swhg = process_dfs(train_swhg.copy(),valid_swhg.copy(),catcols)\n",
    "train_swhg,valid_swhg = cat2code(train_swhg,valid_swhg,catcols)"
   ]
  },
  {
   "cell_type": "code",
   "execution_count": 284,
   "metadata": {
    "collapsed": true
   },
   "outputs": [],
   "source": [
    "# split X and y\n",
    "def split_response(df, response):\n",
    "    y = df[response].values\n",
    "    df.drop([response],axis=1,inplace=True)\n",
    "    return df,y"
   ]
  },
  {
   "cell_type": "code",
   "execution_count": 285,
   "metadata": {
    "collapsed": true
   },
   "outputs": [],
   "source": [
    "X_train_swhg,y_train_swhg = split_response(train_swhg.copy(),'any_spot')\n",
    "X_valid_swhg,y_valid_swhg = split_response(valid_swhg.copy(),'any_spot')"
   ]
  },
  {
   "cell_type": "code",
   "execution_count": 32,
   "metadata": {
    "collapsed": true
   },
   "outputs": [],
   "source": [
    "def f05_score_soft(labels, preds):\n",
    "    tp = np.sum((labels==(preds>0.5)) & (labels==1))\n",
    "    tn = np.sum((labels==(preds<0.5)) & (labels==0))\n",
    "    fp = np.sum((preds>0.5))-tp\n",
    "    fn = np.sum(preds<0.5)-tn\n",
    "    p = tp/(tp+fp)\n",
    "    r = tp/(tp+fn)\n",
    "    score = 1.25*p*r/(0.25*p+r)\n",
    "    return score\n",
    "\n",
    "def f05_score_hard(labels, preds):\n",
    "    tp = np.sum((labels==preds) & (labels==1))\n",
    "    tn = np.sum((labels==preds) & (labels==0))\n",
    "    fp = np.sum(preds==1)-tp\n",
    "    fn = np.sum(preds==0)-tn\n",
    "#    print(tp, tn, fp, fn)\n",
    "    p = tp*1.0/(tp+fp)\n",
    "    r = tp*1.0/(tp+fn)\n",
    "    score = 1.25*p*r/(0.25*p+r)\n",
    "    return score"
   ]
  },
  {
   "cell_type": "code",
   "execution_count": 33,
   "metadata": {
    "collapsed": true
   },
   "outputs": [],
   "source": [
    "# Manual gridsearch using validation set\n",
    "from sklearn.ensemble import RandomForestClassifier\n",
    "from sklearn.metrics import precision_score, recall_score, accuracy_score\n",
    "import itertools\n",
    "\n",
    "n_estimators = [20, 40, 60, 80]\n",
    "max_depth = [3,5,10,15,20,25,30]\n",
    "max_features = [0.2,0.4,0.5,0.6,0.8,0.9,1]\n",
    "weight = [0.7, 0.8, 0.9, 1, 1.1, 1.2, 1.3, 1.4, 1.5]\n",
    "para_lists = [n_estimators, max_depth, max_features, weight]\n",
    "combo = list(itertools.product(*para_lists))"
   ]
  },
  {
   "cell_type": "code",
   "execution_count": 49,
   "metadata": {},
   "outputs": [],
   "source": [
    "parameters = []\n",
    "f05 = []\n",
    "precision = []\n",
    "recall = []\n",
    "\n",
    "for p in combo:\n",
    "    np.random.seed(42)\n",
    "    m = RandomForestClassifier(n_estimators = p[0], max_depth =p[1], max_features=p[2],class_weight={0:1,1:p[3]}, min_samples_split = 2, n_jobs=-1)\n",
    "    m.fit(X_train_swhg,y_train_swhg)\n",
    "    pred = m.predict(X_valid_swhg)\n",
    "    prec = precision_score(y_valid_swhg, pred)\n",
    "    rec = recall_score(y_valid_swhg, pred)\n",
    "    f = f05_score_hard(y_valid_swhg, pred)\n",
    "    parameters.append(p)\n",
    "    f05.append(f)\n",
    "    precision.append(prec)\n",
    "    recall.append(rec)\n",
    "\n",
    "table3 = pd.DataFrame({'Parameters': parameters, 'f0.5': f05, 'precision':precision, 'recall':recall})"
   ]
  },
  {
   "cell_type": "code",
   "execution_count": 50,
   "metadata": {
    "collapsed": true
   },
   "outputs": [],
   "source": [
    "table3.sort_values('f0.5', ascending=False, inplace=True)"
   ]
  },
  {
   "cell_type": "code",
   "execution_count": 61,
   "metadata": {},
   "outputs": [
    {
     "data": {
      "text/html": [
       "<div>\n",
       "<style>\n",
       "    .dataframe thead tr:only-child th {\n",
       "        text-align: right;\n",
       "    }\n",
       "\n",
       "    .dataframe thead th {\n",
       "        text-align: left;\n",
       "    }\n",
       "\n",
       "    .dataframe tbody tr th {\n",
       "        vertical-align: top;\n",
       "    }\n",
       "</style>\n",
       "<table border=\"1\" class=\"dataframe\">\n",
       "  <thead>\n",
       "    <tr style=\"text-align: right;\">\n",
       "      <th></th>\n",
       "      <th>Parameters</th>\n",
       "      <th>f0.5</th>\n",
       "      <th>precision</th>\n",
       "      <th>recall</th>\n",
       "    </tr>\n",
       "  </thead>\n",
       "  <tbody>\n",
       "    <tr>\n",
       "      <th>1554</th>\n",
       "      <td>(80, 15, 0.8, 1.3)</td>\n",
       "      <td>0.597826</td>\n",
       "      <td>0.666667</td>\n",
       "      <td>0.423077</td>\n",
       "    </tr>\n",
       "    <tr>\n",
       "      <th>1161</th>\n",
       "      <td>(60, 20, 0.6, 0.7)</td>\n",
       "      <td>0.581395</td>\n",
       "      <td>0.666667</td>\n",
       "      <td>0.384615</td>\n",
       "    </tr>\n",
       "    <tr>\n",
       "      <th>1224</th>\n",
       "      <td>(60, 25, 0.6, 0.7)</td>\n",
       "      <td>0.581395</td>\n",
       "      <td>0.666667</td>\n",
       "      <td>0.384615</td>\n",
       "    </tr>\n",
       "    <tr>\n",
       "      <th>1569</th>\n",
       "      <td>(80, 15, 1, 1)</td>\n",
       "      <td>0.581395</td>\n",
       "      <td>0.666667</td>\n",
       "      <td>0.384615</td>\n",
       "    </tr>\n",
       "    <tr>\n",
       "      <th>1287</th>\n",
       "      <td>(60, 30, 0.6, 0.7)</td>\n",
       "      <td>0.581395</td>\n",
       "      <td>0.666667</td>\n",
       "      <td>0.384615</td>\n",
       "    </tr>\n",
       "  </tbody>\n",
       "</table>\n",
       "</div>"
      ],
      "text/plain": [
       "              Parameters      f0.5  precision    recall\n",
       "1554  (80, 15, 0.8, 1.3)  0.597826   0.666667  0.423077\n",
       "1161  (60, 20, 0.6, 0.7)  0.581395   0.666667  0.384615\n",
       "1224  (60, 25, 0.6, 0.7)  0.581395   0.666667  0.384615\n",
       "1569      (80, 15, 1, 1)  0.581395   0.666667  0.384615\n",
       "1287  (60, 30, 0.6, 0.7)  0.581395   0.666667  0.384615"
      ]
     },
     "execution_count": 61,
     "metadata": {},
     "output_type": "execute_result"
    }
   ],
   "source": [
    "table3.head()"
   ]
  },
  {
   "cell_type": "code",
   "execution_count": 172,
   "metadata": {},
   "outputs": [
    {
     "name": "stdout",
     "output_type": "stream",
     "text": [
      "0.597826086957\n"
     ]
    }
   ],
   "source": [
    "# use the best hyperparameters to get feature importance:\n",
    "best = (80, 15, 0.8, 1.3)\n",
    "np.random.seed(42)\n",
    "m2 = RandomForestClassifier(n_estimators = best[0], max_depth =best[1], max_features=best[2], class_weight={0:1,1:best[3]}, min_samples_split = 2, n_jobs=-1)\n",
    "m2.fit(X_train_swhg,y_train_swhg)\n",
    "pred = m2.predict(X_valid_swhg)\n",
    "soft2=m3.predict_proba(finalval)\n",
    "f = f05_score_hard(y_valid_swhg, pred)\n",
    "print (f)    \n",
    "feat_imp_swhg = pd.DataFrame({\n",
    "    'features': X_train_swhg.columns,\n",
    "    'imp' :m2.feature_importances_\n",
    "})\n",
    "feat_imp_swhg.sort_values(by='imp', inplace=True, ascending=False)"
   ]
  },
  {
   "cell_type": "code",
   "execution_count": 63,
   "metadata": {
    "collapsed": true
   },
   "outputs": [
    {
     "data": {
      "text/html": [
       "<div>\n",
       "<style>\n",
       "    .dataframe thead tr:only-child th {\n",
       "        text-align: right;\n",
       "    }\n",
       "\n",
       "    .dataframe thead th {\n",
       "        text-align: left;\n",
       "    }\n",
       "\n",
       "    .dataframe tbody tr th {\n",
       "        vertical-align: top;\n",
       "    }\n",
       "</style>\n",
       "<table border=\"1\" class=\"dataframe\">\n",
       "  <thead>\n",
       "    <tr style=\"text-align: right;\">\n",
       "      <th></th>\n",
       "      <th>features</th>\n",
       "      <th>imp</th>\n",
       "    </tr>\n",
       "  </thead>\n",
       "  <tbody>\n",
       "    <tr>\n",
       "      <th>16</th>\n",
       "      <td>From_To_mean_enc</td>\n",
       "      <td>0.126518</td>\n",
       "    </tr>\n",
       "    <tr>\n",
       "      <th>11</th>\n",
       "      <td>Time</td>\n",
       "      <td>0.072728</td>\n",
       "    </tr>\n",
       "    <tr>\n",
       "      <th>3</th>\n",
       "      <td>Street.Length</td>\n",
       "      <td>0.061248</td>\n",
       "    </tr>\n",
       "    <tr>\n",
       "      <th>5</th>\n",
       "      <td>dow_mean_freq</td>\n",
       "      <td>0.040989</td>\n",
       "    </tr>\n",
       "    <tr>\n",
       "      <th>27</th>\n",
       "      <td>TOTAL_VACANT_TIME_pct</td>\n",
       "      <td>0.037570</td>\n",
       "    </tr>\n",
       "    <tr>\n",
       "      <th>21</th>\n",
       "      <td>Dow_Hour_mean_enc</td>\n",
       "      <td>0.033302</td>\n",
       "    </tr>\n",
       "    <tr>\n",
       "      <th>26</th>\n",
       "      <td>TOTAL_OCCUPIED_TIME_pct</td>\n",
       "      <td>0.030973</td>\n",
       "    </tr>\n",
       "    <tr>\n",
       "      <th>2</th>\n",
       "      <td>To</td>\n",
       "      <td>0.025970</td>\n",
       "    </tr>\n",
       "    <tr>\n",
       "      <th>18</th>\n",
       "      <td>Hour_mean_enc</td>\n",
       "      <td>0.025574</td>\n",
       "    </tr>\n",
       "    <tr>\n",
       "      <th>24</th>\n",
       "      <td>From_To_Dow_mean_enc</td>\n",
       "      <td>0.025146</td>\n",
       "    </tr>\n",
       "    <tr>\n",
       "      <th>20</th>\n",
       "      <td>street_cluster_Dow_mean_enc</td>\n",
       "      <td>0.025012</td>\n",
       "    </tr>\n",
       "    <tr>\n",
       "      <th>22</th>\n",
       "      <td>street_cluster_Hour_mean_enc</td>\n",
       "      <td>0.024453</td>\n",
       "    </tr>\n",
       "    <tr>\n",
       "      <th>6</th>\n",
       "      <td>lat</td>\n",
       "      <td>0.024238</td>\n",
       "    </tr>\n",
       "    <tr>\n",
       "      <th>7</th>\n",
       "      <td>lng</td>\n",
       "      <td>0.023142</td>\n",
       "    </tr>\n",
       "    <tr>\n",
       "      <th>28</th>\n",
       "      <td>TOTAL_UNKNOWN_TIME_pct</td>\n",
       "      <td>0.023064</td>\n",
       "    </tr>\n",
       "    <tr>\n",
       "      <th>4</th>\n",
       "      <td>daily_mean_freq</td>\n",
       "      <td>0.022871</td>\n",
       "    </tr>\n",
       "    <tr>\n",
       "      <th>32</th>\n",
       "      <td>NONOP_OCCUPIED_TIME_pct</td>\n",
       "      <td>0.021591</td>\n",
       "    </tr>\n",
       "    <tr>\n",
       "      <th>33</th>\n",
       "      <td>NONOP_VACANT_TIME_pct</td>\n",
       "      <td>0.020393</td>\n",
       "    </tr>\n",
       "    <tr>\n",
       "      <th>14</th>\n",
       "      <td>Dow_mean_enc</td>\n",
       "      <td>0.019997</td>\n",
       "    </tr>\n",
       "    <tr>\n",
       "      <th>23</th>\n",
       "      <td>street_cluster_isweekend_mean_enc</td>\n",
       "      <td>0.019799</td>\n",
       "    </tr>\n",
       "    <tr>\n",
       "      <th>13</th>\n",
       "      <td>From_To</td>\n",
       "      <td>0.018119</td>\n",
       "    </tr>\n",
       "    <tr>\n",
       "      <th>31</th>\n",
       "      <td>OP_UNKNOWN_TIME_pct</td>\n",
       "      <td>0.017369</td>\n",
       "    </tr>\n",
       "    <tr>\n",
       "      <th>25</th>\n",
       "      <td>From_To_Hour_mean_enc</td>\n",
       "      <td>0.017277</td>\n",
       "    </tr>\n",
       "    <tr>\n",
       "      <th>17</th>\n",
       "      <td>Street_mean_enc</td>\n",
       "      <td>0.016957</td>\n",
       "    </tr>\n",
       "    <tr>\n",
       "      <th>36</th>\n",
       "      <td>GMP_VACANT_TIME_pct</td>\n",
       "      <td>0.016136</td>\n",
       "    </tr>\n",
       "    <tr>\n",
       "      <th>37</th>\n",
       "      <td>GMP_UNKNOWN_TIME_pct</td>\n",
       "      <td>0.015859</td>\n",
       "    </tr>\n",
       "    <tr>\n",
       "      <th>19</th>\n",
       "      <td>street_cluster_mean_enc</td>\n",
       "      <td>0.015742</td>\n",
       "    </tr>\n",
       "    <tr>\n",
       "      <th>34</th>\n",
       "      <td>NONOP_UNKNOWN_TIME_pct</td>\n",
       "      <td>0.015185</td>\n",
       "    </tr>\n",
       "    <tr>\n",
       "      <th>40</th>\n",
       "      <td>COMM_UNKNOWN_TIME_pct</td>\n",
       "      <td>0.013601</td>\n",
       "    </tr>\n",
       "    <tr>\n",
       "      <th>38</th>\n",
       "      <td>COMM_OCCUPIED_TIME_pct</td>\n",
       "      <td>0.013588</td>\n",
       "    </tr>\n",
       "    <tr>\n",
       "      <th>1</th>\n",
       "      <td>From</td>\n",
       "      <td>0.012999</td>\n",
       "    </tr>\n",
       "    <tr>\n",
       "      <th>0</th>\n",
       "      <td>Street</td>\n",
       "      <td>0.012411</td>\n",
       "    </tr>\n",
       "    <tr>\n",
       "      <th>35</th>\n",
       "      <td>GMP_OCCUPIED_TIME_pct</td>\n",
       "      <td>0.012035</td>\n",
       "    </tr>\n",
       "    <tr>\n",
       "      <th>30</th>\n",
       "      <td>OP_VACANT_TIME_pct</td>\n",
       "      <td>0.011826</td>\n",
       "    </tr>\n",
       "    <tr>\n",
       "      <th>39</th>\n",
       "      <td>COMM_VACANT_TIME_pct</td>\n",
       "      <td>0.011299</td>\n",
       "    </tr>\n",
       "    <tr>\n",
       "      <th>29</th>\n",
       "      <td>OP_OCCUPIED_TIME_pct</td>\n",
       "      <td>0.010919</td>\n",
       "    </tr>\n",
       "    <tr>\n",
       "      <th>43</th>\n",
       "      <td>NONOP_TIME_spots</td>\n",
       "      <td>0.010249</td>\n",
       "    </tr>\n",
       "    <tr>\n",
       "      <th>15</th>\n",
       "      <td>isweekend_mean_enc</td>\n",
       "      <td>0.009560</td>\n",
       "    </tr>\n",
       "    <tr>\n",
       "      <th>9</th>\n",
       "      <td>Hour</td>\n",
       "      <td>0.009450</td>\n",
       "    </tr>\n",
       "    <tr>\n",
       "      <th>10</th>\n",
       "      <td>Dow</td>\n",
       "      <td>0.008989</td>\n",
       "    </tr>\n",
       "    <tr>\n",
       "      <th>41</th>\n",
       "      <td>TOTAL_TIME_spots</td>\n",
       "      <td>0.008504</td>\n",
       "    </tr>\n",
       "    <tr>\n",
       "      <th>8</th>\n",
       "      <td>street_cluster</td>\n",
       "      <td>0.005839</td>\n",
       "    </tr>\n",
       "    <tr>\n",
       "      <th>44</th>\n",
       "      <td>GMP_TIME_spots</td>\n",
       "      <td>0.004772</td>\n",
       "    </tr>\n",
       "    <tr>\n",
       "      <th>42</th>\n",
       "      <td>OP_TIME_spots</td>\n",
       "      <td>0.004148</td>\n",
       "    </tr>\n",
       "    <tr>\n",
       "      <th>45</th>\n",
       "      <td>COMM_TIME_spots</td>\n",
       "      <td>0.002228</td>\n",
       "    </tr>\n",
       "    <tr>\n",
       "      <th>12</th>\n",
       "      <td>isweekend</td>\n",
       "      <td>0.000362</td>\n",
       "    </tr>\n",
       "  </tbody>\n",
       "</table>\n",
       "</div>"
      ],
      "text/plain": [
       "                             features       imp\n",
       "16                   From_To_mean_enc  0.126518\n",
       "11                               Time  0.072728\n",
       "3                       Street.Length  0.061248\n",
       "5                       dow_mean_freq  0.040989\n",
       "27              TOTAL_VACANT_TIME_pct  0.037570\n",
       "21                  Dow_Hour_mean_enc  0.033302\n",
       "26            TOTAL_OCCUPIED_TIME_pct  0.030973\n",
       "2                                  To  0.025970\n",
       "18                      Hour_mean_enc  0.025574\n",
       "24               From_To_Dow_mean_enc  0.025146\n",
       "20        street_cluster_Dow_mean_enc  0.025012\n",
       "22       street_cluster_Hour_mean_enc  0.024453\n",
       "6                                 lat  0.024238\n",
       "7                                 lng  0.023142\n",
       "28             TOTAL_UNKNOWN_TIME_pct  0.023064\n",
       "4                     daily_mean_freq  0.022871\n",
       "32            NONOP_OCCUPIED_TIME_pct  0.021591\n",
       "33              NONOP_VACANT_TIME_pct  0.020393\n",
       "14                       Dow_mean_enc  0.019997\n",
       "23  street_cluster_isweekend_mean_enc  0.019799\n",
       "13                            From_To  0.018119\n",
       "31                OP_UNKNOWN_TIME_pct  0.017369\n",
       "25              From_To_Hour_mean_enc  0.017277\n",
       "17                    Street_mean_enc  0.016957\n",
       "36                GMP_VACANT_TIME_pct  0.016136\n",
       "37               GMP_UNKNOWN_TIME_pct  0.015859\n",
       "19            street_cluster_mean_enc  0.015742\n",
       "34             NONOP_UNKNOWN_TIME_pct  0.015185\n",
       "40              COMM_UNKNOWN_TIME_pct  0.013601\n",
       "38             COMM_OCCUPIED_TIME_pct  0.013588\n",
       "1                                From  0.012999\n",
       "0                              Street  0.012411\n",
       "35              GMP_OCCUPIED_TIME_pct  0.012035\n",
       "30                 OP_VACANT_TIME_pct  0.011826\n",
       "39               COMM_VACANT_TIME_pct  0.011299\n",
       "29               OP_OCCUPIED_TIME_pct  0.010919\n",
       "43                   NONOP_TIME_spots  0.010249\n",
       "15                 isweekend_mean_enc  0.009560\n",
       "9                                Hour  0.009450\n",
       "10                                Dow  0.008989\n",
       "41                   TOTAL_TIME_spots  0.008504\n",
       "8                      street_cluster  0.005839\n",
       "44                     GMP_TIME_spots  0.004772\n",
       "42                      OP_TIME_spots  0.004148\n",
       "45                    COMM_TIME_spots  0.002228\n",
       "12                          isweekend  0.000362"
      ]
     },
     "execution_count": 63,
     "metadata": {},
     "output_type": "execute_result"
    }
   ],
   "source": [
    "feat_imp_swhg"
   ]
  },
  {
   "cell_type": "code",
   "execution_count": 83,
   "metadata": {
    "collapsed": true
   },
   "outputs": [],
   "source": [
    "to_drop_swhg = feat_imp_swhg[feat_imp_swhg['imp'] <= 0.01].features"
   ]
  },
  {
   "cell_type": "markdown",
   "metadata": {},
   "source": [
    "### Dropping Highly Correlated Features"
   ]
  },
  {
   "cell_type": "code",
   "execution_count": 65,
   "metadata": {
    "collapsed": true
   },
   "outputs": [],
   "source": [
    "import scipy\n",
    "from scipy.cluster import hierarchy as hc\n",
    "import matplotlib.pyplot as plt"
   ]
  },
  {
   "cell_type": "code",
   "execution_count": 95,
   "metadata": {
    "collapsed": true
   },
   "outputs": [],
   "source": [
    "to_keep = feat_imp_swhg[feat_imp_swhg['imp']>0.01].features\n",
    "df_keep = X_train_swhg[to_keep].copy()"
   ]
  },
  {
   "cell_type": "code",
   "execution_count": 96,
   "metadata": {},
   "outputs": [
    {
     "data": {
      "image/png": "[encoded data removed]",
      "text/plain": [
       "<matplotlib.figure.Figure at 0x1a16949978>"
      ]
     },
     "metadata": {},
     "output_type": "display_data"
    }
   ],
   "source": [
    "corr = np.round(scipy.stats.spearmanr(df_keep).correlation, 4)\n",
    "corr_condensed = hc.distance.squareform(1-corr)\n",
    "z = hc.linkage(corr_condensed, method='average')\n",
    "fig = plt.figure(figsize=(16,12))\n",
    "dendrogram = hc.dendrogram(z, labels=df_keep.columns, orientation='left', leaf_font_size=16)\n",
    "plt.show()"
   ]
  },
  {
   "cell_type": "code",
   "execution_count": 377,
   "metadata": {},
   "outputs": [],
   "source": [
    "def get_oob(df):\n",
    "    best = (80, 15, 0.8, 1.3)\n",
    "    np.random.seed(42)\n",
    "    m = RandomForestClassifier(n_estimators = best[0], max_depth =best[1], max_features=best[2], class_weight={0:1,1:best[3]}, min_samples_split = 2, n_jobs=-1,oob_score=True)\n",
    "    m.fit(df, y_train_swhg)\n",
    "    p = m.predict(X_valid_swhg[df.columns])\n",
    "    f1 = f05_score_hard(y_valid_swhg, p)\n",
    "    return m.oob_score_,f1"
   ]
  },
  {
   "cell_type": "code",
   "execution_count": 378,
   "metadata": {},
   "outputs": [
    {
     "data": {
      "text/plain": [
       "(0.72457627118644063, 0.48076923076923073)"
      ]
     },
     "execution_count": 378,
     "metadata": {},
     "output_type": "execute_result"
    }
   ],
   "source": [
    "get_oob(df_keep)"
   ]
  },
  {
   "cell_type": "code",
   "execution_count": 379,
   "metadata": {},
   "outputs": [
    {
     "data": {
      "text/plain": [
       "Index(['From_To_mean_enc', 'Time', 'Street.Length', 'dow_mean_freq',\n",
       "       'TOTAL_VACANT_TIME_pct', 'Dow_Hour_mean_enc', 'TOTAL_OCCUPIED_TIME_pct',\n",
       "       'To', 'Hour_mean_enc', 'From_To_Dow_mean_enc',\n",
       "       'street_cluster_Dow_mean_enc', 'street_cluster_Hour_mean_enc', 'lat',\n",
       "       'lng', 'TOTAL_UNKNOWN_TIME_pct', 'daily_mean_freq',\n",
       "       'NONOP_OCCUPIED_TIME_pct', 'NONOP_VACANT_TIME_pct', 'Dow_mean_enc',\n",
       "       'street_cluster_isweekend_mean_enc', 'From_To', 'OP_UNKNOWN_TIME_pct',\n",
       "       'From_To_Hour_mean_enc', 'Street_mean_enc', 'GMP_VACANT_TIME_pct',\n",
       "       'GMP_UNKNOWN_TIME_pct', 'street_cluster_mean_enc',\n",
       "       'NONOP_UNKNOWN_TIME_pct', 'COMM_UNKNOWN_TIME_pct',\n",
       "       'COMM_OCCUPIED_TIME_pct', 'From', 'Street', 'GMP_OCCUPIED_TIME_pct',\n",
       "       'OP_VACANT_TIME_pct', 'COMM_VACANT_TIME_pct', 'OP_OCCUPIED_TIME_pct',\n",
       "       'NONOP_TIME_spots'],\n",
       "      dtype='object')"
      ]
     },
     "execution_count": 379,
     "metadata": {},
     "output_type": "execute_result"
    }
   ],
   "source": [
    "df_keep.columns"
   ]
  },
  {
   "cell_type": "code",
   "execution_count": 386,
   "metadata": {},
   "outputs": [
    {
     "name": "stdout",
     "output_type": "stream",
     "text": [
      "GMP_OCCUPIED_TIME_pct (0.7298728813559322, 0.54878048780487809)\n",
      "To (0.72669491525423724, 0.52777777777777768)\n",
      "Dow_mean_enc (0.72881355932203384, 0.5232558139534883)\n",
      "From_To_Dow_mean_enc (0.71504237288135597, 0.53125)\n",
      "OP_VACANT_TIME_pct (0.71927966101694918, 0.53977272727272718)\n",
      "OP_UNKNOWN_TIME_pct (0.71292372881355937, 0.5)\n"
     ]
    }
   ],
   "source": [
    "#'From_To_realspot_enc','Street_realspot_enc','From_To_Hour_realspot_enc'\n",
    "for c in ('GMP_OCCUPIED_TIME_pct','To','Dow_mean_enc','From_To_Dow_mean_enc','OP_VACANT_TIME_pct','OP_UNKNOWN_TIME_pct'):\n",
    "    print(c, get_oob(df_keep.drop(c, axis=1)))"
   ]
  },
  {
   "cell_type": "code",
   "execution_count": 381,
   "metadata": {
    "collapsed": true
   },
   "outputs": [],
   "source": [
    "droplist = ['GMP_OCCUPIED_TIME_pct','To','Dow_mean_enc','From_To_Dow_mean_enc','OP_VACANT_TIME_pct','OP_UNKNOWN_TIME_pct']"
   ]
  },
  {
   "cell_type": "markdown",
   "metadata": {},
   "source": [
    "### Rerun Grid Search to find parameters after dropping features"
   ]
  },
  {
   "cell_type": "code",
   "execution_count": 382,
   "metadata": {},
   "outputs": [],
   "source": [
    "finalkeep = df_keep.drop(droplist, axis = 1)"
   ]
  },
  {
   "cell_type": "code",
   "execution_count": 383,
   "metadata": {
    "collapsed": true
   },
   "outputs": [],
   "source": [
    "finalval = X_valid_swhg[finalkeep.columns]"
   ]
  },
  {
   "cell_type": "code",
   "execution_count": 384,
   "metadata": {},
   "outputs": [],
   "source": [
    "parameters = []\n",
    "f05 = []\n",
    "precision = []\n",
    "recall = []\n",
    "\n",
    "for p in combo:\n",
    "    np.random.seed(42)\n",
    "    m = RandomForestClassifier(n_estimators = p[0], max_depth =p[1], max_features=p[2],class_weight={0:1,1:p[3]}, min_samples_split = 2, n_jobs=-1)\n",
    "    m.fit(finalkeep,y_train_swhg)\n",
    "    pred = m.predict(finalval)\n",
    "    prec = precision_score(y_valid_swhg, pred)\n",
    "    rec = recall_score(y_valid_swhg, pred)\n",
    "    f = f05_score_hard(y_valid_swhg, pred)\n",
    "    parameters.append(p)\n",
    "    f05.append(f)\n",
    "    precision.append(prec)\n",
    "    recall.append(rec)\n",
    "\n",
    "table4 = pd.DataFrame({'Parameters': parameters, 'f0.5': f05, 'precision':precision, 'recall':recall})"
   ]
  },
  {
   "cell_type": "code",
   "execution_count": 385,
   "metadata": {},
   "outputs": [
    {
     "data": {
      "text/html": [
       "<div>\n",
       "<style>\n",
       "    .dataframe thead tr:only-child th {\n",
       "        text-align: right;\n",
       "    }\n",
       "\n",
       "    .dataframe thead th {\n",
       "        text-align: left;\n",
       "    }\n",
       "\n",
       "    .dataframe tbody tr th {\n",
       "        vertical-align: top;\n",
       "    }\n",
       "</style>\n",
       "<table border=\"1\" class=\"dataframe\">\n",
       "  <thead>\n",
       "    <tr style=\"text-align: right;\">\n",
       "      <th></th>\n",
       "      <th>Parameters</th>\n",
       "      <th>f0.5</th>\n",
       "      <th>precision</th>\n",
       "      <th>recall</th>\n",
       "    </tr>\n",
       "  </thead>\n",
       "  <tbody>\n",
       "    <tr>\n",
       "      <th>195</th>\n",
       "      <td>(20, 15, 0.2, 1.3)</td>\n",
       "      <td>0.592105</td>\n",
       "      <td>0.720000</td>\n",
       "      <td>0.346154</td>\n",
       "    </tr>\n",
       "    <tr>\n",
       "      <th>759</th>\n",
       "      <td>(40, 25, 0.2, 1)</td>\n",
       "      <td>0.579268</td>\n",
       "      <td>0.678571</td>\n",
       "      <td>0.365385</td>\n",
       "    </tr>\n",
       "    <tr>\n",
       "      <th>822</th>\n",
       "      <td>(40, 30, 0.2, 1)</td>\n",
       "      <td>0.579268</td>\n",
       "      <td>0.678571</td>\n",
       "      <td>0.365385</td>\n",
       "    </tr>\n",
       "    <tr>\n",
       "      <th>686</th>\n",
       "      <td>(40, 15, 1, 0.9)</td>\n",
       "      <td>0.576923</td>\n",
       "      <td>0.692308</td>\n",
       "      <td>0.346154</td>\n",
       "    </tr>\n",
       "    <tr>\n",
       "      <th>714</th>\n",
       "      <td>(40, 20, 0.5, 1)</td>\n",
       "      <td>0.565476</td>\n",
       "      <td>0.655172</td>\n",
       "      <td>0.365385</td>\n",
       "    </tr>\n",
       "  </tbody>\n",
       "</table>\n",
       "</div>"
      ],
      "text/plain": [
       "             Parameters      f0.5  precision    recall\n",
       "195  (20, 15, 0.2, 1.3)  0.592105   0.720000  0.346154\n",
       "759    (40, 25, 0.2, 1)  0.579268   0.678571  0.365385\n",
       "822    (40, 30, 0.2, 1)  0.579268   0.678571  0.365385\n",
       "686    (40, 15, 1, 0.9)  0.576923   0.692308  0.346154\n",
       "714    (40, 20, 0.5, 1)  0.565476   0.655172  0.365385"
      ]
     },
     "execution_count": 385,
     "metadata": {},
     "output_type": "execute_result"
    }
   ],
   "source": [
    "table4.sort_values('f0.5', ascending=False, inplace=True)\n",
    "table4.head()"
   ]
  },
  {
   "cell_type": "code",
   "execution_count": 425,
   "metadata": {},
   "outputs": [
    {
     "name": "stdout",
     "output_type": "stream",
     "text": [
      "0.592105263158\n"
     ]
    }
   ],
   "source": [
    "best = (20, 15, 0.2, 1.3)\n",
    "np.random.seed(42)\n",
    "m3 = RandomForestClassifier(n_estimators = best[0], max_depth =best[1], max_features=best[2], class_weight={0:1,1:best[3]}, min_samples_split = 2, n_jobs=-1)\n",
    "m3.fit(finalkeep,y_train_swhg)\n",
    "pred = m3.predict(finalval)\n",
    "soft=m3.predict_proba(finalval)\n",
    "prec = precision_score(y_valid_swhg, pred)\n",
    "rec = recall_score(y_valid_swhg, pred)\n",
    "f = f05_score_hard(y_valid_swhg, pred)\n",
    "print (f)    \n",
    "feat_imp_swhg = pd.DataFrame({\n",
    "    'features': finalval.columns,\n",
    "    'imp' :m3.feature_importances_\n",
    "})\n",
    "feat_imp_swhg.sort_values(by='imp', inplace=True, ascending=False)"
   ]
  },
  {
   "cell_type": "code",
   "execution_count": 396,
   "metadata": {},
   "outputs": [
    {
     "data": {
      "text/plain": [
       "<matplotlib.axes._subplots.AxesSubplot at 0x10ec82f98>"
      ]
     },
     "execution_count": 396,
     "metadata": {},
     "output_type": "execute_result"
    },
    {
     "data": {
      "image/png": "[encoded data removed]",
      "text/plain": [
       "<matplotlib.figure.Figure at 0x1a15b7b2e8>"
      ]
     },
     "metadata": {},
     "output_type": "display_data"
    }
   ],
   "source": [
    "import matplotlib.pyplot as plt\n",
    "%matplotlib inline\n",
    "feat_imp_swhg[:20].plot('features','imp','barh', figsize=(12,7))"
   ]
  },
  {
   "cell_type": "code",
   "execution_count": 309,
   "metadata": {
    "collapsed": true
   },
   "outputs": [],
   "source": [
    "finalfeatures = finalkeep.columns"
   ]
  },
  {
   "cell_type": "markdown",
   "metadata": {},
   "source": [
    "### Try XGBOOST and Ensembe XGBoost and RF"
   ]
  },
  {
   "cell_type": "code",
   "execution_count": 409,
   "metadata": {},
   "outputs": [
    {
     "name": "stdout",
     "output_type": "stream",
     "text": [
      "[0]\ttrain-logloss:0.692654\ttrain-auc:0.893458\tval-logloss:0.692906\tval-auc:0.650333\n",
      "Multiple eval metrics have been passed: 'val-auc' will be used for early stopping.\n",
      "\n",
      "Will train until val-auc hasn't improved in 150 rounds.\n",
      "[50]\ttrain-logloss:0.670659\ttrain-auc:0.980391\tval-logloss:0.682804\tval-auc:0.683987\n",
      "[100]\ttrain-logloss:0.64992\ttrain-auc:0.981749\tval-logloss:0.67378\tval-auc:0.678254\n",
      "[150]\ttrain-logloss:0.630253\ttrain-auc:0.9825\tval-logloss:0.665589\tval-auc:0.674926\n",
      "Stopping. Best iteration:\n",
      "[3]\ttrain-logloss:0.691294\ttrain-auc:0.954246\tval-logloss:0.692172\tval-auc:0.70895\n",
      "\n"
     ]
    },
    {
     "data": {
      "text/plain": [
       "0.53191489361702138"
      ]
     },
     "execution_count": 409,
     "metadata": {},
     "output_type": "execute_result"
    }
   ],
   "source": [
    "dtrain = xgb.DMatrix(X_train_swhg, label=y_train_swhg)\n",
    "dval= xgb.DMatrix(X_valid_swhg, label=y_valid_swhg)\n",
    "\n",
    "params = {\n",
    "    'eta': 0.001,\n",
    "    'max_depth':15,\n",
    "    'min_child_weight': 1,\n",
    "    'subsample': 0.8,\n",
    "    'objective':'binary:logistic',\n",
    "    'colsample_bytree':0.6,\n",
    "    \"eval_metric\" : ['logloss','auc']\n",
    "}\n",
    "\n",
    "watchlist = [(dtrain, 'train'), (dval, 'val')]\n",
    "bst_bow = xgb.train(params, dtrain, 500, watchlist, early_stopping_rounds=150, verbose_eval=50)\n",
    "\n",
    "clf = xgb.train(params, dtrain, num_boost_round=bst_bow.best_ntree_limit-1)\n",
    "\n",
    "out = clf.predict(dval)\n",
    "pred = out>0.5\n",
    "\n",
    "f05_score_hard(y_valid_swhg, pred)"
   ]
  },
  {
   "cell_type": "code",
   "execution_count": 421,
   "metadata": {},
   "outputs": [
    {
     "data": {
      "text/plain": [
       "0.59210526315789458"
      ]
     },
     "execution_count": 421,
     "metadata": {},
     "output_type": "execute_result"
    }
   ],
   "source": [
    "out2=(out*0.5+soft[:,1]*0.5)>0.5\n",
    "f05_score_hard(y_valid_swhg, out2)"
   ]
  },
  {
   "cell_type": "markdown",
   "metadata": {},
   "source": [
    "### DOW-retrain entire model - remember to drop insignificant columns in the end"
   ]
  },
  {
   "cell_type": "code",
   "execution_count": 310,
   "metadata": {
    "collapsed": true
   },
   "outputs": [],
   "source": [
    "train = pd.merge(train,st_latlng,how ='left',left_on=[\"Street\",\"From\",\"To\"], right_on=[\"Street\",\"From\",\"To\"])\n",
    "test= pd.merge(test,st_latlng,how ='left',left_on=[\"Street\",\"From\",\"To\"], right_on=[\"Street\",\"From\",\"To\"])\n",
    "\n",
    "spots = np.vstack(train[['lat','lng']].values)\n",
    "kmeans = KMeans().fit(spots)\n",
    "train['street_cluster'] = kmeans.predict(train[['lat', 'lng']])\n",
    "test['street_cluster'] = kmeans.predict(test[['lat', 'lng']])"
   ]
  },
  {
   "cell_type": "code",
   "execution_count": 311,
   "metadata": {
    "collapsed": true
   },
   "outputs": [],
   "source": [
    "train['Minute'] = train.Date_Time.dt.minute\n",
    "test['Minute'] = pd.to_datetime(test['Date_Time']).dt.minute\n",
    "train['Hour'] = train.Date_Time.dt.hour\n",
    "test['Hour'] = pd.to_datetime(test['Date_Time']).dt.hour\n",
    "train['Dow'] = train.Date_Time.dt.weekday\n",
    "test['Dow'] = pd.to_datetime(test['Date_Time']).dt.weekday"
   ]
  },
  {
   "cell_type": "code",
   "execution_count": 312,
   "metadata": {
    "collapsed": true
   },
   "outputs": [],
   "source": [
    "train['Time'] = train[\"Hour\"]*100 + train['Minute']\n",
    "test['Time'] = test[\"Hour\"]*100 + test['Minute']\n",
    "train['isweekend'] = train['Dow'].apply(day_type)\n",
    "test['isweekend'] = test['Dow'].apply(day_type)\n",
    "train['From_To'] = train['From'] + '_' + train['To']\n",
    "test['From_To'] = test['From'] + '_' + test['To']"
   ]
  },
  {
   "cell_type": "code",
   "execution_count": 313,
   "metadata": {
    "collapsed": true
   },
   "outputs": [],
   "source": [
    "cols = ['Dow','isweekend','From_To','Street','Hour', 'street_cluster' ]\n",
    "multi_reg_mean_encoding(train, cols, splits =5)\n",
    "multi_test_mean_encoding(test, train, cols)"
   ]
  },
  {
   "cell_type": "code",
   "execution_count": 314,
   "metadata": {
    "collapsed": true
   },
   "outputs": [],
   "source": [
    "colpairs = [('street_cluster','Dow'),('Dow','Hour'), ('street_cluster','Hour'),\n",
    "            ('street_cluster','isweekend'),('From_To','Dow'),('From_To','Hour')]\n",
    "pairlist = []\n",
    "for pair in colpairs:\n",
    "    colname = pair[0] + '_' + pair[1]\n",
    "    pairlist.append(colname)\n",
    "    train[colname] = list(zip(train[pair[0]], train[pair[1]]))\n",
    "    test[colname] = list(zip(test[pair[0]], test[pair[1]]))"
   ]
  },
  {
   "cell_type": "code",
   "execution_count": 315,
   "metadata": {
    "collapsed": true
   },
   "outputs": [],
   "source": [
    "multi_reg_mean_encoding(train, pairlist, splits =5)\n",
    "multi_test_mean_encoding(test, train, pairlist)"
   ]
  },
  {
   "cell_type": "code",
   "execution_count": 316,
   "metadata": {
    "collapsed": true
   },
   "outputs": [],
   "source": [
    "pairlist2= ['Street','From_To','street_cluster_Hour','street_cluster_isweekend','From_To_Dow','From_To_Hour']\n",
    "realspot_mean_encoding(train, pairlist2, splits =5)\n",
    "realspot_test_mean_encoding(test, train, pairlist2)"
   ]
  },
  {
   "cell_type": "code",
   "execution_count": 317,
   "metadata": {
    "collapsed": true
   },
   "outputs": [],
   "source": [
    "train = train.drop(['Date_Time','Real.Spots', 'street_cluster_Dow', 'Dow_Hour', 'street_cluster_Hour', 'street_cluster_isweekend', 'From_To_Dow', 'From_To_Hour'], axis =1)\n",
    "test = test.drop(['Date_Time', 'street_cluster_Dow', 'Dow_Hour', 'street_cluster_Hour', 'street_cluster_isweekend', 'From_To_Dow', 'From_To_Hour'], axis = 1)"
   ]
  },
  {
   "cell_type": "code",
   "execution_count": 318,
   "metadata": {
    "collapsed": true
   },
   "outputs": [],
   "source": [
    "train['Street'] = train.Street.str.lower()\n",
    "train['From'] = train.From.str.lower()\n",
    "train['To'] = train.To.str.lower()\n",
    "test['Street'] = test.Street.str.lower()\n",
    "test['From'] = test.From.str.lower()\n",
    "test['To'] = test.To.str.lower()"
   ]
  },
  {
   "cell_type": "code",
   "execution_count": 319,
   "metadata": {
    "collapsed": true
   },
   "outputs": [],
   "source": [
    "train = pd.merge(train,sensor, how='left',left_on=['Street','Dow','Hour'], right_on=['STREET_NAME','DOW','TIME_OF_DAY'])\n",
    "test = pd.merge(test,sensor, how='left',left_on=['Street','Dow','Hour'], right_on=['STREET_NAME','DOW','TIME_OF_DAY'])\n",
    "\n",
    "train = train.drop(['STREET_NAME','DOW','TIME_OF_DAY'],axis =1)\n",
    "test = test.drop(['STREET_NAME','DOW','TIME_OF_DAY'],axis =1)"
   ]
  },
  {
   "cell_type": "code",
   "execution_count": 320,
   "metadata": {
    "collapsed": true
   },
   "outputs": [],
   "source": [
    "catcols = ['Street','From','To', 'From_To']\n",
    "train,test = process_dfs(train.copy(),test.copy(),catcols)\n",
    "train,test = cat2code(train,test,catcols)"
   ]
  },
  {
   "cell_type": "code",
   "execution_count": 321,
   "metadata": {
    "collapsed": true
   },
   "outputs": [],
   "source": [
    "X_train,y_train = split_response(train.copy(),'any_spot')"
   ]
  },
  {
   "cell_type": "code",
   "execution_count": 324,
   "metadata": {
    "collapsed": true
   },
   "outputs": [],
   "source": [
    "#only use selected features\n",
    "X_train = X_train[list(finalfeatures)]\n",
    "test = test[list(finalfeatures)]"
   ]
  },
  {
   "cell_type": "code",
   "execution_count": 326,
   "metadata": {
    "collapsed": true
   },
   "outputs": [],
   "source": [
    "# Fit rf\n",
    "np.random.seed(42)\n",
    "m_swhg = RandomForestClassifier(n_estimators = 40, max_depth =10, max_features=0.8, class_weight={0:1,1:1.3}, min_samples_split = 2, n_jobs=-1)\n",
    "m_swhg.fit(X_train,y_train)\n",
    "pred_swhg_prob = m_swhg.predict_proba(test)\n",
    "pred_swhg = m_swhg.predict(test)"
   ]
  },
  {
   "cell_type": "code",
   "execution_count": 200,
   "metadata": {
    "collapsed": true
   },
   "outputs": [],
   "source": [
    "result = pd.DataFrame({\"id\": np.arange(1,len(test)+1),\"any_spot\":pred_swhg})"
   ]
  },
  {
   "cell_type": "code",
   "execution_count": 201,
   "metadata": {
    "collapsed": true
   },
   "outputs": [],
   "source": [
    "result[['id','any_spot']].to_csv(\"../submissions/36_4.csv\", index =False)"
   ]
  },
  {
   "cell_type": "markdown",
   "metadata": {
    "collapsed": true
   },
   "source": [
    "### Xgboost Model"
   ]
  },
  {
   "cell_type": "code",
   "execution_count": 322,
   "metadata": {
    "collapsed": true
   },
   "outputs": [],
   "source": [
    "import xgboost as xgb\n",
    "dtrain = xgb.DMatrix(X_train, label=y_train)\n",
    "dtest= xgb.DMatrix(test)\n",
    "\n",
    "params = {\n",
    "    'eta': 0.001,\n",
    "    'max_depth':20,\n",
    "    'min_child_weight': 1,\n",
    "    'subsample': 0.8,\n",
    "    'objective':'binary:logistic',\n",
    "    'colsample_bytree':0.6,\n",
    "    \"eval_metric\" : ['logloss','auc']\n",
    "}\n",
    "\n",
    "clf = xgb.train(params, dtrain, num_boost_round=79)"
   ]
  },
  {
   "cell_type": "code",
   "execution_count": 323,
   "metadata": {
    "collapsed": true
   },
   "outputs": [],
   "source": [
    "predxgb = clf.predict(dtest)\n",
    "predxgb1 = clf.predict(dtest)>0.5"
   ]
  },
  {
   "cell_type": "code",
   "execution_count": 331,
   "metadata": {},
   "outputs": [],
   "source": [
    "result = pd.DataFrame({\"id\": np.arange(1,len(test)+1),\"any_spot\":predxgb1})"
   ]
  },
  {
   "cell_type": "code",
   "execution_count": 332,
   "metadata": {
    "collapsed": true
   },
   "outputs": [],
   "source": [
    "result[['id','any_spot']].to_csv(\"../submissions/xgb2.csv\", index =False)"
   ]
  },
  {
   "cell_type": "markdown",
   "metadata": {},
   "source": [
    "### Ensemble Xgboost and RF"
   ]
  },
  {
   "cell_type": "code",
   "execution_count": 327,
   "metadata": {
    "collapsed": true
   },
   "outputs": [],
   "source": [
    "#soft prediction from RF\n",
    "p_rf= pred_swhg_prob[:,1]"
   ]
  },
  {
   "cell_type": "code",
   "execution_count": 328,
   "metadata": {
    "collapsed": true
   },
   "outputs": [],
   "source": [
    "#get average\n",
    "avg = (p_rf + predxgb)/2\n",
    "avg_hard = (avg>=0.5)"
   ]
  },
  {
   "cell_type": "code",
   "execution_count": 330,
   "metadata": {
    "collapsed": true
   },
   "outputs": [
    {
     "data": {
      "text/plain": [
       "array([False, False, False,  True, False, False, False, False,  True,\n",
       "       False,  True,  True,  True, False, False, False,  True,  True,\n",
       "       False, False, False, False,  True,  True,  True,  True, False,\n",
       "       False, False, False, False, False, False,  True, False,  True,\n",
       "       False, False, False, False, False, False, False, False, False,\n",
       "       False, False, False, False, False,  True,  True, False, False,\n",
       "       False, False, False, False, False, False, False, False, False,\n",
       "       False,  True, False, False, False, False, False,  True, False,\n",
       "        True,  True, False, False, False, False, False, False, False,\n",
       "       False, False, False, False, False,  True,  True, False, False,\n",
       "       False,  True, False, False, False, False, False, False, False,\n",
       "       False, False, False,  True,  True, False, False, False, False,\n",
       "       False, False,  True,  True,  True, False,  True, False, False,\n",
       "       False, False,  True,  True, False, False, False, False, False,\n",
       "       False,  True, False, False, False, False, False, False, False,\n",
       "       False,  True,  True, False,  True, False, False, False, False,\n",
       "       False,  True, False,  True,  True, False, False, False, False,\n",
       "       False, False, False, False,  True, False, False, False, False,\n",
       "        True, False, False,  True,  True, False,  True,  True,  True,\n",
       "       False,  True, False,  True, False, False,  True,  True,  True,\n",
       "        True, False,  True, False, False, False, False, False,  True,\n",
       "        True,  True,  True, False, False, False, False, False, False,\n",
       "        True,  True, False, False, False,  True,  True, False,  True,\n",
       "        True,  True,  True, False, False, False, False, False, False,\n",
       "       False, False,  True, False,  True, False, False, False,  True,\n",
       "       False, False, False, False, False, False, False, False, False,\n",
       "       False, False,  True,  True,  True,  True,  True,  True, False,\n",
       "       False, False,  True,  True, False, False, False, False, False,\n",
       "        True,  True, False,  True, False, False, False, False,  True,\n",
       "        True,  True,  True, False, False, False,  True, False,  True,\n",
       "       False,  True,  True, False, False,  True,  True, False, False,\n",
       "       False,  True, False,  True,  True, False,  True,  True, False,\n",
       "        True, False, False, False,  True,  True,  True, False, False,\n",
       "        True,  True,  True,  True,  True,  True, False, False,  True,\n",
       "       False, False, False, False,  True,  True, False, False,  True,\n",
       "       False, False, False,  True, False, False, False, False, False,\n",
       "        True, False,  True,  True,  True, False, False, False, False,\n",
       "        True, False, False, False,  True,  True, False, False,  True,\n",
       "       False, False,  True, False, False,  True, False, False, False,\n",
       "       False, False, False, False,  True,  True, False,  True, False,\n",
       "       False,  True, False,  True,  True, False, False, False, False,\n",
       "       False, False, False, False, False, False, False, False, False,\n",
       "       False,  True, False, False, False, False, False, False, False,\n",
       "        True, False, False, False,  True,  True, False, False, False,\n",
       "       False, False, False, False, False, False, False, False, False,\n",
       "        True,  True, False,  True, False, False, False,  True,  True,\n",
       "       False,  True, False, False, False, False, False, False, False,\n",
       "       False, False, False, False,  True,  True, False, False, False,\n",
       "       False, False, False, False, False, False, False, False, False,\n",
       "       False, False, False, False, False, False, False, False, False,\n",
       "       False, False, False,  True, False,  True,  True, False,  True,\n",
       "       False, False, False, False, False, False, False, False, False,\n",
       "       False, False, False,  True, False, False, False, False, False,\n",
       "       False, False, False, False, False,  True, False, False, False,\n",
       "       False, False, False, False, False,  True,  True, False,  True,\n",
       "       False, False, False, False, False, False, False, False, False,\n",
       "       False, False, False, False, False, False, False, False, False,\n",
       "       False,  True,  True,  True, False, False, False, False, False,\n",
       "        True,  True, False, False,  True, False, False,  True,  True,\n",
       "       False, False, False, False, False, False, False, False, False,\n",
       "       False,  True, False, False, False,  True,  True, False, False,\n",
       "       False, False, False, False, False, False, False,  True, False,\n",
       "       False, False, False, False,  True, False,  True, False, False,\n",
       "        True, False, False, False,  True,  True, False,  True,  True,\n",
       "        True, False,  True,  True, False,  True, False,  True, False,\n",
       "       False, False, False, False, False, False, False, False, False,\n",
       "       False,  True,  True,  True,  True, False, False, False,  True,\n",
       "       False, False, False, False, False,  True, False, False,  True,\n",
       "       False, False, False, False, False, False, False, False, False,\n",
       "       False, False, False, False, False, False, False, False, False,\n",
       "       False, False, False, False, False, False, False, False,  True,\n",
       "       False, False,  True, False, False, False, False, False, False,\n",
       "       False, False, False, False, False, False, False, False,  True,\n",
       "       False, False, False, False, False, False, False, False, False,\n",
       "       False, False, False, False, False, False,  True, False, False,\n",
       "       False, False,  True, False,  True,  True,  True, False, False,\n",
       "       False, False, False, False, False, False, False, False, False,\n",
       "       False,  True,  True, False, False, False, False, False, False,\n",
       "       False, False,  True, False, False, False, False, False, False,\n",
       "       False,  True, False, False,  True, False, False, False,  True,\n",
       "        True, False, False, False, False, False], dtype=bool)"
      ]
     },
     "execution_count": 330,
     "metadata": {},
     "output_type": "execute_result"
    }
   ],
   "source": [
    "result = pd.DataFrame({\"id\": np.arange(1,len(test)+1),\"any_spot\":predxgb1})\n",
    "result[['id','any_spot']].to_csv(\"../submissions/en_rf_xgb2.csv\", index =False)"
   ]
  }
 ],
 "metadata": {
  "kernelspec": {
   "display_name": "Python 3",
   "language": "python",
   "name": "python3"
  },
  "language_info": {
   "codemirror_mode": {
    "name": "ipython",
    "version": 3
   },
   "file_extension": ".py",
   "mimetype": "text/x-python",
   "name": "python",
   "nbconvert_exporter": "python",
   "pygments_lexer": "ipython3",
   "version": "3.6.2"
  }
 },
 "nbformat": 4,
 "nbformat_minor": 2
}
