{
 "cells": [
  {
   "cell_type": "code",
   "execution_count": 40,
   "metadata": {
    "collapsed": true
   },
   "outputs": [],
   "source": [
    "import numpy as np\n",
    "import pandas as pd\n",
    "import matplotlib.pyplot as plt\n",
    "%matplotlib inline"
   ]
  },
  {
   "cell_type": "code",
   "execution_count": null,
   "metadata": {
    "collapsed": true
   },
   "outputs": [],
   "source": [
    "def day_type(x):\n",
    "    if x == 6 or x == 0:\n",
    "        return 1\n",
    "    else:\n",
    "        return 0"
   ]
  },
  {
   "cell_type": "code",
   "execution_count": 50,
   "metadata": {
    "collapsed": true
   },
   "outputs": [],
   "source": [
    "train_raw = pd.read_csv('../data/train-parking.csv', parse_dates = [[3,4]], infer_datetime_format=True)\n",
    "train_raw['Minute'] = train_raw.Date_Time.dt.minute\n",
    "train_raw['Hour'] = train_raw.Date_Time.dt.hour\n",
    "train_raw['Dow'] = train_raw.Date_Time.dt.weekday\n",
    "train_raw['Year'] = train_raw.Date_Time.dt.year\n",
    "train_raw['Month'] = train_raw.Date_Time.dt.month\n",
    "train_raw['isweekend'] = train_raw['Dow'].apply(day_type)"
   ]
  },
  {
   "cell_type": "code",
   "execution_count": 3,
   "metadata": {
    "collapsed": true
   },
   "outputs": [],
   "source": [
    "test_raw = pd.read_csv('../data/test-no-label-parking.csv', parse_dates = [[3,4]], infer_datetime_format=True)\n",
    "test_raw['Minute'] = test_raw.Date_Time.dt.minute\n",
    "test_raw['Hour'] = test_raw.Date_Time.dt.hour\n",
    "test_raw['Dow'] = test_raw.Date_Time.dt.weekday\n",
    "test_raw['Year'] = test_raw.Date_Time.dt.year\n",
    "test_raw['Month'] = test_raw.Date_Time.dt.month\n",
    "test_raw['isweekend'] = test_raw['Dow'].apply(day_type)"
   ]
  },
  {
   "cell_type": "code",
   "execution_count": 4,
   "metadata": {},
   "outputs": [
    {
     "data": {
      "text/html": [
       "<div>\n",
       "<style>\n",
       "    .dataframe thead tr:only-child th {\n",
       "        text-align: right;\n",
       "    }\n",
       "\n",
       "    .dataframe thead th {\n",
       "        text-align: left;\n",
       "    }\n",
       "\n",
       "    .dataframe tbody tr th {\n",
       "        vertical-align: top;\n",
       "    }\n",
       "</style>\n",
       "<table border=\"1\" class=\"dataframe\">\n",
       "  <thead>\n",
       "    <tr style=\"text-align: right;\">\n",
       "      <th></th>\n",
       "      <th>Date_Time</th>\n",
       "      <th>Street</th>\n",
       "      <th>From</th>\n",
       "      <th>To</th>\n",
       "      <th>Street.Length</th>\n",
       "      <th>Minute</th>\n",
       "      <th>Hour</th>\n",
       "      <th>Dow</th>\n",
       "      <th>Year</th>\n",
       "      <th>Month</th>\n",
       "      <th>isweekend</th>\n",
       "    </tr>\n",
       "  </thead>\n",
       "  <tbody>\n",
       "    <tr>\n",
       "      <th>0</th>\n",
       "      <td>2014-03-28 16:34:00</td>\n",
       "      <td>Stockton Street</td>\n",
       "      <td>Stockton Tunnel</td>\n",
       "      <td>Stockton Street</td>\n",
       "      <td>35.786472</td>\n",
       "      <td>34</td>\n",
       "      <td>16</td>\n",
       "      <td>4</td>\n",
       "      <td>2014</td>\n",
       "      <td>3</td>\n",
       "      <td>0</td>\n",
       "    </tr>\n",
       "    <tr>\n",
       "      <th>1</th>\n",
       "      <td>2014-03-28 21:34:00</td>\n",
       "      <td>Van Ness Avenue</td>\n",
       "      <td>Hayes Street</td>\n",
       "      <td>Van Ness Avenue</td>\n",
       "      <td>63.787968</td>\n",
       "      <td>34</td>\n",
       "      <td>21</td>\n",
       "      <td>4</td>\n",
       "      <td>2014</td>\n",
       "      <td>3</td>\n",
       "      <td>0</td>\n",
       "    </tr>\n",
       "    <tr>\n",
       "      <th>2</th>\n",
       "      <td>2014-03-28 19:50:00</td>\n",
       "      <td>Van Ness Avenue</td>\n",
       "      <td>McAllister Street</td>\n",
       "      <td>Van Ness Avenue</td>\n",
       "      <td>56.007236</td>\n",
       "      <td>50</td>\n",
       "      <td>19</td>\n",
       "      <td>4</td>\n",
       "      <td>2014</td>\n",
       "      <td>3</td>\n",
       "      <td>0</td>\n",
       "    </tr>\n",
       "    <tr>\n",
       "      <th>3</th>\n",
       "      <td>2014-03-28 20:02:00</td>\n",
       "      <td>Mission Street</td>\n",
       "      <td>11th Street</td>\n",
       "      <td>Mission Street</td>\n",
       "      <td>139.651900</td>\n",
       "      <td>2</td>\n",
       "      <td>20</td>\n",
       "      <td>4</td>\n",
       "      <td>2014</td>\n",
       "      <td>3</td>\n",
       "      <td>0</td>\n",
       "    </tr>\n",
       "    <tr>\n",
       "      <th>4</th>\n",
       "      <td>2014-03-28 19:43:00</td>\n",
       "      <td>Hyde Street</td>\n",
       "      <td>Golden Gate Avenue</td>\n",
       "      <td>McAllister Street</td>\n",
       "      <td>105.144110</td>\n",
       "      <td>43</td>\n",
       "      <td>19</td>\n",
       "      <td>4</td>\n",
       "      <td>2014</td>\n",
       "      <td>3</td>\n",
       "      <td>0</td>\n",
       "    </tr>\n",
       "  </tbody>\n",
       "</table>\n",
       "</div>"
      ],
      "text/plain": [
       "            Date_Time           Street                From                 To  \\\n",
       "0 2014-03-28 16:34:00  Stockton Street     Stockton Tunnel    Stockton Street   \n",
       "1 2014-03-28 21:34:00  Van Ness Avenue        Hayes Street    Van Ness Avenue   \n",
       "2 2014-03-28 19:50:00  Van Ness Avenue   McAllister Street    Van Ness Avenue   \n",
       "3 2014-03-28 20:02:00   Mission Street         11th Street     Mission Street   \n",
       "4 2014-03-28 19:43:00      Hyde Street  Golden Gate Avenue  McAllister Street   \n",
       "\n",
       "   Street.Length  Minute  Hour  Dow  Year  Month  isweekend  \n",
       "0      35.786472      34    16    4  2014      3          0  \n",
       "1      63.787968      34    21    4  2014      3          0  \n",
       "2      56.007236      50    19    4  2014      3          0  \n",
       "3     139.651900       2    20    4  2014      3          0  \n",
       "4     105.144110      43    19    4  2014      3          0  "
      ]
     },
     "execution_count": 4,
     "metadata": {},
     "output_type": "execute_result"
    }
   ],
   "source": [
    "test_raw.head()"
   ]
  },
  {
   "cell_type": "code",
   "execution_count": 17,
   "metadata": {
    "collapsed": true
   },
   "outputs": [],
   "source": [
    "train_raw['date'] = train_raw.Date_Time.dt.date\n",
    "test_raw['date'] = test_raw.Date_Time.dt.date"
   ]
  },
  {
   "cell_type": "code",
   "execution_count": 24,
   "metadata": {},
   "outputs": [
    {
     "data": {
      "text/plain": [
       "((1100, 14), (726, 12))"
      ]
     },
     "execution_count": 24,
     "metadata": {},
     "output_type": "execute_result"
    }
   ],
   "source": [
    "train_raw.shape,test_raw.shape"
   ]
  },
  {
   "cell_type": "code",
   "execution_count": 81,
   "metadata": {},
   "outputs": [
    {
     "data": {
      "text/plain": [
       "<matplotlib.text.Text at 0x112e12828>"
      ]
     },
     "execution_count": 81,
     "metadata": {},
     "output_type": "execute_result"
    },
    {
     "data": {
      "image/png": "[encoded data removed]",
      "text/plain": [
       "<matplotlib.figure.Figure at 0x112ed1ac8>"
      ]
     },
     "metadata": {},
     "output_type": "display_data"
    }
   ],
   "source": [
    "street_mean = train_raw.groupby(['Street'])['any_spot'].mean().plot('barh',figsize = (8,6))\n",
    "plt.xlabel('Mean any_spot')"
   ]
  },
  {
   "cell_type": "code",
   "execution_count": 111,
   "metadata": {},
   "outputs": [
    {
     "data": {
      "text/plain": [
       "<matplotlib.text.Text at 0x1170cdba8>"
      ]
     },
     "execution_count": 111,
     "metadata": {},
     "output_type": "execute_result"
    },
    {
     "data": {
      "image/png": "[encoded data removed]",
      "text/plain": [
       "<matplotlib.figure.Figure at 0x1167066a0>"
      ]
     },
     "metadata": {},
     "output_type": "display_data"
    }
   ],
   "source": [
    "plt.figure(figsize = (15,8))\n",
    "plt.subplot(121)\n",
    "street_mean = train_raw.groupby(['Hour'])['any_spot'].mean().plot('bar', rot = 0,fontsize = 16)\n",
    "plt.xlabel('Hour',fontsize = 16)\n",
    "plt.ylabel('Mean any_spot',fontsize = 16)\n",
    "plt.subplot(122)\n",
    "street_mean = train_raw.groupby(['Dow'])['any_spot'].mean().plot('bar', rot = 0,fontsize = 16)\n",
    "plt.xlabel('Day of Week',fontsize = 16)\n",
    "plt.ylabel('Mean any_spot',fontsize = 16)"
   ]
  },
  {
   "cell_type": "code",
   "execution_count": null,
   "metadata": {
    "collapsed": true
   },
   "outputs": [],
   "source": []
  }
 ],
 "metadata": {
  "kernelspec": {
   "display_name": "Python 3",
   "language": "python",
   "name": "python3"
  },
  "language_info": {
   "codemirror_mode": {
    "name": "ipython",
    "version": 3
   },
   "file_extension": ".py",
   "mimetype": "text/x-python",
   "name": "python",
   "nbconvert_exporter": "python",
   "pygments_lexer": "ipython3",
   "version": "3.6.2"
  }
 },
 "nbformat": 4,
 "nbformat_minor": 2
}
