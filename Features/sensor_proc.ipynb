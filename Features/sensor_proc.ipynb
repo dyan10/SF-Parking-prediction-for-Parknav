{
 "cells": [
  {
   "cell_type": "markdown",
   "metadata": {},
   "source": [
    "### This part processed the sensor data: \n",
    "- transfered CAL_DATE to Date(as dt)\n",
    "- add DOW, \n",
    "- add total spots & occupied/unoccupied/unknown ratios for different categories.\n",
    "- processed data is saved seperately so that we can lod in later when needed."
   ]
  },
  {
   "cell_type": "code",
   "execution_count": 2,
   "metadata": {
    "collapsed": true
   },
   "outputs": [],
   "source": [
    "import numpy as np\n",
    "import pandas as pd\n",
    "import datetime as dt"
   ]
  },
  {
   "cell_type": "code",
   "execution_count": 3,
   "metadata": {
    "collapsed": true
   },
   "outputs": [],
   "source": [
    "import warnings\n",
    "warnings.filterwarnings('ignore')"
   ]
  },
  {
   "cell_type": "code",
   "execution_count": 4,
   "metadata": {
    "collapsed": true
   },
   "outputs": [],
   "source": [
    "def display_all(df):\n",
    "    with pd.option_context(\"display.max_rows\", 1000): \n",
    "        with pd.option_context(\"display.max_columns\", 1000): \n",
    "            display(df)"
   ]
  },
  {
   "cell_type": "code",
   "execution_count": 7,
   "metadata": {},
   "outputs": [],
   "source": [
    "sensor_dt = pd.read_csv('sensordt.csv', parse_dates= [12], infer_datetime_format=True)\n",
    "col_dt = sensor_dt['Date'].copy()\n",
    "del sensor_dt"
   ]
  },
  {
   "cell_type": "code",
   "execution_count": 8,
   "metadata": {
    "collapsed": true
   },
   "outputs": [],
   "source": [
    "sensor = pd.read_csv('ParkingSensorData.csv', parse_dates= True, infer_datetime_format=True)\n",
    "sensor.drop(sensor.tail(1).index, inplace=True)"
   ]
  },
  {
   "cell_type": "code",
   "execution_count": 9,
   "metadata": {},
   "outputs": [],
   "source": [
    "sensor['Date'] = col_dt\n",
    "sensor['DOW'] = sensor['Date'].dt.weekday"
   ]
  },
  {
   "cell_type": "code",
   "execution_count": 14,
   "metadata": {
    "collapsed": true
   },
   "outputs": [],
   "source": [
    "def cal_spot(column, df):\n",
    "    df[column + \"_spots\"] = df[column]/3600\n",
    "    \n",
    "cols = ['OP_TIME', 'OP_TIME', 'NONOP_TIME', 'GMP_TIME', 'COMM_TIME']\n",
    "for col in cols:\n",
    "    cal_spot(col, sensor)"
   ]
  },
  {
   "cell_type": "code",
   "execution_count": 15,
   "metadata": {
    "collapsed": true
   },
   "outputs": [],
   "source": [
    "def cal_pct(cols, total, df):\n",
    "    for col in cols:\n",
    "        df[col+\"_pct\"] = df[col]/df[total]\n",
    "\n",
    "pct_cols = [(['TOTAL_OCCUPIED_TIME', 'TOTAL_VACANT_TIME', 'TOTAL_UNKNOWN_TIME'],'TOTAL_TIME'),\n",
    "            (['OP_OCCUPIED_TIME', 'OP_VACANT_TIME', 'OP_UNKNOWN_TIME'],'OP_TIME'),\n",
    "            (['NONOP_OCCUPIED_TIME', 'NONOP_VACANT_TIME','NONOP_UNKNOWN_TIME'],'NONOP_TIME'),\n",
    "            (['GMP_OCCUPIED_TIME','GMP_VACANT_TIME', 'GMP_UNKNOWN_TIME'],'GMP_TIME'),\n",
    "            (['COMM_OCCUPIED_TIME', 'COMM_VACANT_TIME', 'COMM_UNKNOWN_TIME'],'COMM_TIME')]\n",
    "\n",
    "for pair in pct_cols:\n",
    "    cal_pct(pair[0],pair[1],sensor)"
   ]
  },
  {
   "cell_type": "code",
   "execution_count": 16,
   "metadata": {},
   "outputs": [
    {
     "data": {
      "text/html": [
       "<div>\n",
       "<style>\n",
       "    .dataframe thead tr:only-child th {\n",
       "        text-align: right;\n",
       "    }\n",
       "\n",
       "    .dataframe thead th {\n",
       "        text-align: left;\n",
       "    }\n",
       "\n",
       "    .dataframe tbody tr th {\n",
       "        vertical-align: top;\n",
       "    }\n",
       "</style>\n",
       "<table border=\"1\" class=\"dataframe\">\n",
       "  <thead>\n",
       "    <tr style=\"text-align: right;\">\n",
       "      <th></th>\n",
       "      <th>BLOCK_ID</th>\n",
       "      <th>STREET_NAME</th>\n",
       "      <th>BLOCK_NUM</th>\n",
       "      <th>STREET_BLOCK</th>\n",
       "      <th>AREA_TYPE</th>\n",
       "      <th>PM_DISTRICT_NAME</th>\n",
       "      <th>RATE</th>\n",
       "      <th>START_TIME_DT</th>\n",
       "      <th>TOTAL_TIME</th>\n",
       "      <th>TOTAL_OCCUPIED_TIME</th>\n",
       "      <th>...</th>\n",
       "      <th>OP_UNKNOWN_TIME_pct</th>\n",
       "      <th>NONOP_OCCUPIED_TIME_pct</th>\n",
       "      <th>NONOP_VACANT_TIME_pct</th>\n",
       "      <th>NONOP_UNKNOWN_TIME_pct</th>\n",
       "      <th>GMP_OCCUPIED_TIME_pct</th>\n",
       "      <th>GMP_VACANT_TIME_pct</th>\n",
       "      <th>GMP_UNKNOWN_TIME_pct</th>\n",
       "      <th>COMM_OCCUPIED_TIME_pct</th>\n",
       "      <th>COMM_VACANT_TIME_pct</th>\n",
       "      <th>COMM_UNKNOWN_TIME_pct</th>\n",
       "    </tr>\n",
       "  </thead>\n",
       "  <tbody>\n",
       "    <tr>\n",
       "      <th>0</th>\n",
       "      <td>41522</td>\n",
       "      <td>FILLMORE ST</td>\n",
       "      <td>22.0</td>\n",
       "      <td>FILLMORE ST 2200</td>\n",
       "      <td>Pilot</td>\n",
       "      <td>Fillmore</td>\n",
       "      <td>NaN</td>\n",
       "      <td>01-jul-2012 21:00:00</td>\n",
       "      <td>61200.0</td>\n",
       "      <td>35847.0</td>\n",
       "      <td>...</td>\n",
       "      <td>NaN</td>\n",
       "      <td>0.585735</td>\n",
       "      <td>0.414265</td>\n",
       "      <td>0.0</td>\n",
       "      <td>NaN</td>\n",
       "      <td>NaN</td>\n",
       "      <td>NaN</td>\n",
       "      <td>NaN</td>\n",
       "      <td>NaN</td>\n",
       "      <td>NaN</td>\n",
       "    </tr>\n",
       "    <tr>\n",
       "      <th>1</th>\n",
       "      <td>41524</td>\n",
       "      <td>FILLMORE ST</td>\n",
       "      <td>24.0</td>\n",
       "      <td>FILLMORE ST 2400</td>\n",
       "      <td>Pilot</td>\n",
       "      <td>Fillmore</td>\n",
       "      <td>NaN</td>\n",
       "      <td>01-jul-2012 22:00:00</td>\n",
       "      <td>64800.0</td>\n",
       "      <td>27576.0</td>\n",
       "      <td>...</td>\n",
       "      <td>NaN</td>\n",
       "      <td>0.425556</td>\n",
       "      <td>0.574444</td>\n",
       "      <td>0.0</td>\n",
       "      <td>NaN</td>\n",
       "      <td>NaN</td>\n",
       "      <td>NaN</td>\n",
       "      <td>NaN</td>\n",
       "      <td>NaN</td>\n",
       "      <td>NaN</td>\n",
       "    </tr>\n",
       "    <tr>\n",
       "      <th>2</th>\n",
       "      <td>50001</td>\n",
       "      <td>JACKSON ST</td>\n",
       "      <td>1.0</td>\n",
       "      <td>JACKSON ST 100</td>\n",
       "      <td>Pilot</td>\n",
       "      <td>Downtown</td>\n",
       "      <td>NaN</td>\n",
       "      <td>01-jul-2012 02:00:00</td>\n",
       "      <td>79200.0</td>\n",
       "      <td>39985.0</td>\n",
       "      <td>...</td>\n",
       "      <td>NaN</td>\n",
       "      <td>0.504861</td>\n",
       "      <td>0.495139</td>\n",
       "      <td>0.0</td>\n",
       "      <td>NaN</td>\n",
       "      <td>NaN</td>\n",
       "      <td>NaN</td>\n",
       "      <td>NaN</td>\n",
       "      <td>NaN</td>\n",
       "      <td>NaN</td>\n",
       "    </tr>\n",
       "    <tr>\n",
       "      <th>3</th>\n",
       "      <td>50002</td>\n",
       "      <td>JACKSON ST</td>\n",
       "      <td>2.0</td>\n",
       "      <td>JACKSON ST 200</td>\n",
       "      <td>Pilot</td>\n",
       "      <td>Downtown</td>\n",
       "      <td>NaN</td>\n",
       "      <td>01-jul-2012 08:00:00</td>\n",
       "      <td>82800.0</td>\n",
       "      <td>30465.0</td>\n",
       "      <td>...</td>\n",
       "      <td>NaN</td>\n",
       "      <td>0.367935</td>\n",
       "      <td>0.632065</td>\n",
       "      <td>0.0</td>\n",
       "      <td>NaN</td>\n",
       "      <td>NaN</td>\n",
       "      <td>NaN</td>\n",
       "      <td>NaN</td>\n",
       "      <td>NaN</td>\n",
       "      <td>NaN</td>\n",
       "    </tr>\n",
       "    <tr>\n",
       "      <th>4</th>\n",
       "      <td>10903</td>\n",
       "      <td>09TH AVE</td>\n",
       "      <td>3.0</td>\n",
       "      <td>09TH AVE 300</td>\n",
       "      <td>Control</td>\n",
       "      <td>Inner Richmond</td>\n",
       "      <td>NaN</td>\n",
       "      <td>01-jul-2012 08:00:00</td>\n",
       "      <td>93600.0</td>\n",
       "      <td>85690.0</td>\n",
       "      <td>...</td>\n",
       "      <td>NaN</td>\n",
       "      <td>0.915491</td>\n",
       "      <td>0.084509</td>\n",
       "      <td>0.0</td>\n",
       "      <td>NaN</td>\n",
       "      <td>NaN</td>\n",
       "      <td>NaN</td>\n",
       "      <td>NaN</td>\n",
       "      <td>NaN</td>\n",
       "      <td>NaN</td>\n",
       "    </tr>\n",
       "  </tbody>\n",
       "</table>\n",
       "<p>5 rows × 54 columns</p>\n",
       "</div>"
      ],
      "text/plain": [
       "  BLOCK_ID  STREET_NAME  BLOCK_NUM      STREET_BLOCK AREA_TYPE  \\\n",
       "0    41522  FILLMORE ST       22.0  FILLMORE ST 2200     Pilot   \n",
       "1    41524  FILLMORE ST       24.0  FILLMORE ST 2400     Pilot   \n",
       "2    50001   JACKSON ST        1.0    JACKSON ST 100     Pilot   \n",
       "3    50002   JACKSON ST        2.0    JACKSON ST 200     Pilot   \n",
       "4    10903     09TH AVE        3.0      09TH AVE 300   Control   \n",
       "\n",
       "  PM_DISTRICT_NAME  RATE         START_TIME_DT  TOTAL_TIME  \\\n",
       "0         Fillmore   NaN  01-jul-2012 21:00:00     61200.0   \n",
       "1         Fillmore   NaN  01-jul-2012 22:00:00     64800.0   \n",
       "2         Downtown   NaN  01-jul-2012 02:00:00     79200.0   \n",
       "3         Downtown   NaN  01-jul-2012 08:00:00     82800.0   \n",
       "4   Inner Richmond   NaN  01-jul-2012 08:00:00     93600.0   \n",
       "\n",
       "   TOTAL_OCCUPIED_TIME          ...            OP_UNKNOWN_TIME_pct  \\\n",
       "0              35847.0          ...                            NaN   \n",
       "1              27576.0          ...                            NaN   \n",
       "2              39985.0          ...                            NaN   \n",
       "3              30465.0          ...                            NaN   \n",
       "4              85690.0          ...                            NaN   \n",
       "\n",
       "   NONOP_OCCUPIED_TIME_pct  NONOP_VACANT_TIME_pct  NONOP_UNKNOWN_TIME_pct  \\\n",
       "0                 0.585735               0.414265                     0.0   \n",
       "1                 0.425556               0.574444                     0.0   \n",
       "2                 0.504861               0.495139                     0.0   \n",
       "3                 0.367935               0.632065                     0.0   \n",
       "4                 0.915491               0.084509                     0.0   \n",
       "\n",
       "   GMP_OCCUPIED_TIME_pct  GMP_VACANT_TIME_pct  GMP_UNKNOWN_TIME_pct  \\\n",
       "0                    NaN                  NaN                   NaN   \n",
       "1                    NaN                  NaN                   NaN   \n",
       "2                    NaN                  NaN                   NaN   \n",
       "3                    NaN                  NaN                   NaN   \n",
       "4                    NaN                  NaN                   NaN   \n",
       "\n",
       "   COMM_OCCUPIED_TIME_pct  COMM_VACANT_TIME_pct  COMM_UNKNOWN_TIME_pct  \n",
       "0                     NaN                   NaN                    NaN  \n",
       "1                     NaN                   NaN                    NaN  \n",
       "2                     NaN                   NaN                    NaN  \n",
       "3                     NaN                   NaN                    NaN  \n",
       "4                     NaN                   NaN                    NaN  \n",
       "\n",
       "[5 rows x 54 columns]"
      ]
     },
     "execution_count": 16,
     "metadata": {},
     "output_type": "execute_result"
    }
   ],
   "source": [
    "sensor.head()"
   ]
  },
  {
   "cell_type": "code",
   "execution_count": 18,
   "metadata": {
    "collapsed": true
   },
   "outputs": [],
   "source": [
    "sensor = sensor.drop(['TOTAL_TIME','TOTAL_OCCUPIED_TIME', 'TOTAL_VACANT_TIME', 'TOTAL_UNKNOWN_TIME',\n",
    "       'OP_TIME', 'OP_OCCUPIED_TIME', 'OP_VACANT_TIME', 'OP_UNKNOWN_TIME',\n",
    "       'NONOP_TIME', 'NONOP_OCCUPIED_TIME', 'NONOP_VACANT_TIME',\n",
    "       'NONOP_UNKNOWN_TIME', 'GMP_TIME', 'GMP_OCCUPIED_TIME',\n",
    "       'GMP_VACANT_TIME', 'GMP_UNKNOWN_TIME', 'COMM_TIME',\n",
    "       'COMM_OCCUPIED_TIME', 'COMM_VACANT_TIME', 'COMM_UNKNOWN_TIME'], axis = 1)"
   ]
  },
  {
   "cell_type": "code",
   "execution_count": 20,
   "metadata": {
    "collapsed": true
   },
   "outputs": [],
   "source": [
    "sensor.to_csv(\"agg_sensor.csv\")"
   ]
  },
  {
   "cell_type": "code",
   "execution_count": null,
   "metadata": {
    "collapsed": true
   },
   "outputs": [],
   "source": []
  }
 ],
 "metadata": {
  "kernelspec": {
   "display_name": "Python 3",
   "language": "python",
   "name": "python3"
  },
  "language_info": {
   "codemirror_mode": {
    "name": "ipython",
    "version": 3
   },
   "file_extension": ".py",
   "mimetype": "text/x-python",
   "name": "python",
   "nbconvert_exporter": "python",
   "pygments_lexer": "ipython3",
   "version": "3.6.3"
  }
 },
 "nbformat": 4,
 "nbformat_minor": 2
}
