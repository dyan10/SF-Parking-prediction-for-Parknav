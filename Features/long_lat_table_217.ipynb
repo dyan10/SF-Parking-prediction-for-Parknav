{
 "cells": [
  {
   "cell_type": "code",
   "execution_count": 10,
   "metadata": {},
   "outputs": [],
   "source": [
    "import pandas as pd\n",
    "import numpy as np\n",
    "import geocoder\n",
    "import warnings\n",
    "warnings.filterwarnings(\"ignore\")"
   ]
  },
  {
   "cell_type": "markdown",
   "metadata": {},
   "source": [
    "### Geocode training data\n",
    "#### If Street != From and To, it means the row represent a portion of the street, we take the mid point of lat & lng\n",
    "#### If Street == From or To, it means the row represent a perpendicular portion of the street, we take the intersection of the two streets"
   ]
  },
  {
   "cell_type": "code",
   "execution_count": 5,
   "metadata": {
    "collapsed": true
   },
   "outputs": [],
   "source": [
    "# get unique rows of street and From/To\n",
    "train = pd.read_csv('train-parking.csv')\n",
    "corrds = train[[\"Street\",\"From\",\"To\"]]\n",
    "uniquecords = corrds.drop_duplicates()"
   ]
  },
  {
   "cell_type": "code",
   "execution_count": 6,
   "metadata": {},
   "outputs": [
    {
     "data": {
      "text/html": [
       "<div>\n",
       "<style>\n",
       "    .dataframe thead tr:only-child th {\n",
       "        text-align: right;\n",
       "    }\n",
       "\n",
       "    .dataframe thead th {\n",
       "        text-align: left;\n",
       "    }\n",
       "\n",
       "    .dataframe tbody tr th {\n",
       "        vertical-align: top;\n",
       "    }\n",
       "</style>\n",
       "<table border=\"1\" class=\"dataframe\">\n",
       "  <thead>\n",
       "    <tr style=\"text-align: right;\">\n",
       "      <th></th>\n",
       "      <th>Street</th>\n",
       "      <th>From</th>\n",
       "      <th>To</th>\n",
       "    </tr>\n",
       "  </thead>\n",
       "  <tbody>\n",
       "    <tr>\n",
       "      <th>0</th>\n",
       "      <td>Mission Street</td>\n",
       "      <td>25th Street</td>\n",
       "      <td>26th Street</td>\n",
       "    </tr>\n",
       "    <tr>\n",
       "      <th>1</th>\n",
       "      <td>Polk Street</td>\n",
       "      <td>Ellis Street</td>\n",
       "      <td>Olive Street</td>\n",
       "    </tr>\n",
       "    <tr>\n",
       "      <th>2</th>\n",
       "      <td>Van Ness Avenue</td>\n",
       "      <td>Geary Boulevard</td>\n",
       "      <td>Myrtle Street</td>\n",
       "    </tr>\n",
       "    <tr>\n",
       "      <th>3</th>\n",
       "      <td>Van Ness Avenue</td>\n",
       "      <td>Bush Street</td>\n",
       "      <td>Fern Street</td>\n",
       "    </tr>\n",
       "    <tr>\n",
       "      <th>4</th>\n",
       "      <td>Van Ness Avenue</td>\n",
       "      <td>Daniel Burnham Court</td>\n",
       "      <td>Post Street</td>\n",
       "    </tr>\n",
       "  </tbody>\n",
       "</table>\n",
       "</div>"
      ],
      "text/plain": [
       "            Street                  From             To\n",
       "0   Mission Street           25th Street    26th Street\n",
       "1      Polk Street          Ellis Street   Olive Street\n",
       "2  Van Ness Avenue       Geary Boulevard  Myrtle Street\n",
       "3  Van Ness Avenue           Bush Street    Fern Street\n",
       "4  Van Ness Avenue  Daniel Burnham Court    Post Street"
      ]
     },
     "execution_count": 6,
     "metadata": {},
     "output_type": "execute_result"
    }
   ],
   "source": [
    "uniquecords.head()"
   ]
  },
  {
   "cell_type": "code",
   "execution_count": 7,
   "metadata": {
    "collapsed": true
   },
   "outputs": [],
   "source": [
    "# find the intersection coordinates of the target street and the To/From Street\n",
    "def findlatlng_from(row):\n",
    "    if (row[\"Street\"] != row[\"From\"]):\n",
    "        add = \"%s & %s, San Francisco, CA\" %(row[\"Street\"],row[\"From\"])\n",
    "        cord = geocoder.google(add).latlng\n",
    "        return cord\n",
    "    else:\n",
    "        return None\n",
    "\n",
    "def findlatlng_to(row):\n",
    "    if (row[\"Street\"] != row[\"To\"]):\n",
    "        add = \"%s & %s, San Francisco, CA\" %(row[\"Street\"],row[\"To\"])\n",
    "        cord = geocoder.google(add).latlng\n",
    "        return cord\n",
    "    else:\n",
    "        return None"
   ]
  },
  {
   "cell_type": "code",
   "execution_count": 8,
   "metadata": {
    "collapsed": true
   },
   "outputs": [],
   "source": [
    "# Google API minibatch - we do this since Google only allows a limited number of decoding each time\n",
    "def fillnull(row):\n",
    "    if (row['latlngfrom'] == None) and (row[\"Street\"] != row[\"From\"]):\n",
    "        add = \"%s & %s, San Francisco, CA\" %(row[\"Street\"],row[\"From\"])\n",
    "        cord = geocoder.google(add).latlng\n",
    "        return cord\n",
    "    else:\n",
    "        return row['latlngfrom']\n",
    "    \n",
    "def fillnull_to(row):\n",
    "    if (row['latlngto'] == None) and (row[\"Street\"] != row[\"To\"]):\n",
    "        add = \"%s & %s, San Francisco, CA\" %(row[\"Street\"],row[\"To\"])\n",
    "        cord = geocoder.google(add).latlng\n",
    "        return cord\n",
    "    else:\n",
    "        return row['latlngto']"
   ]
  },
  {
   "cell_type": "code",
   "execution_count": 30,
   "metadata": {},
   "outputs": [],
   "source": [
    "# Create a table of coordinates\n",
    "uniquecords[\"latlngfrom\"] = uniquecords.apply(findlatlng_from,axis =1)\n",
    "uniquecords[\"latlngto\"] = uniquecords.apply(findlatlng_to,axis =1)"
   ]
  },
  {
   "cell_type": "code",
   "execution_count": 35,
   "metadata": {
    "collapsed": true
   },
   "outputs": [],
   "source": [
    "# Fill nulls\n",
    "uniquecords[\"latlngfrom\"] = uniquecords.apply(fillnull,axis =1)\n",
    "uniquecords[\"latlngto\"] = uniquecords.apply(fillnull_to,axis =1)"
   ]
  },
  {
   "cell_type": "code",
   "execution_count": 38,
   "metadata": {},
   "outputs": [
    {
     "data": {
      "text/html": [
       "<div>\n",
       "<style>\n",
       "    .dataframe thead tr:only-child th {\n",
       "        text-align: right;\n",
       "    }\n",
       "\n",
       "    .dataframe thead th {\n",
       "        text-align: left;\n",
       "    }\n",
       "\n",
       "    .dataframe tbody tr th {\n",
       "        vertical-align: top;\n",
       "    }\n",
       "</style>\n",
       "<table border=\"1\" class=\"dataframe\">\n",
       "  <thead>\n",
       "    <tr style=\"text-align: right;\">\n",
       "      <th></th>\n",
       "      <th>Street</th>\n",
       "      <th>From</th>\n",
       "      <th>To</th>\n",
       "      <th>latlngfrom</th>\n",
       "      <th>latlngto</th>\n",
       "    </tr>\n",
       "  </thead>\n",
       "  <tbody>\n",
       "    <tr>\n",
       "      <th>0</th>\n",
       "      <td>Mission Street</td>\n",
       "      <td>25th Street</td>\n",
       "      <td>26th Street</td>\n",
       "      <td>[37.7506482, -122.4183159]</td>\n",
       "      <td>[37.749044, -122.4181659]</td>\n",
       "    </tr>\n",
       "    <tr>\n",
       "      <th>1</th>\n",
       "      <td>Polk Street</td>\n",
       "      <td>Ellis Street</td>\n",
       "      <td>Olive Street</td>\n",
       "      <td>[37.7840397, -122.4193807]</td>\n",
       "      <td>[37.784507, -122.4194781]</td>\n",
       "    </tr>\n",
       "    <tr>\n",
       "      <th>2</th>\n",
       "      <td>Van Ness Avenue</td>\n",
       "      <td>Geary Boulevard</td>\n",
       "      <td>Myrtle Street</td>\n",
       "      <td>[37.7856601, -122.4214764]</td>\n",
       "      <td>[37.785221, -122.4213855]</td>\n",
       "    </tr>\n",
       "    <tr>\n",
       "      <th>3</th>\n",
       "      <td>Van Ness Avenue</td>\n",
       "      <td>Bush Street</td>\n",
       "      <td>Fern Street</td>\n",
       "      <td>[37.7884986, -122.4218922]</td>\n",
       "      <td>[37.7880441, -122.4218018]</td>\n",
       "    </tr>\n",
       "    <tr>\n",
       "      <th>4</th>\n",
       "      <td>Van Ness Avenue</td>\n",
       "      <td>Daniel Burnham Court</td>\n",
       "      <td>Post Street</td>\n",
       "      <td>[37.7870844, -122.4217571]</td>\n",
       "      <td>[37.7866423, -122.4215171]</td>\n",
       "    </tr>\n",
       "  </tbody>\n",
       "</table>\n",
       "</div>"
      ],
      "text/plain": [
       "            Street                  From             To  \\\n",
       "0   Mission Street           25th Street    26th Street   \n",
       "1      Polk Street          Ellis Street   Olive Street   \n",
       "2  Van Ness Avenue       Geary Boulevard  Myrtle Street   \n",
       "3  Van Ness Avenue           Bush Street    Fern Street   \n",
       "4  Van Ness Avenue  Daniel Burnham Court    Post Street   \n",
       "\n",
       "                   latlngfrom                    latlngto  \n",
       "0  [37.7506482, -122.4183159]   [37.749044, -122.4181659]  \n",
       "1  [37.7840397, -122.4193807]   [37.784507, -122.4194781]  \n",
       "2  [37.7856601, -122.4214764]   [37.785221, -122.4213855]  \n",
       "3  [37.7884986, -122.4218922]  [37.7880441, -122.4218018]  \n",
       "4  [37.7870844, -122.4217571]  [37.7866423, -122.4215171]  "
      ]
     },
     "execution_count": 38,
     "metadata": {},
     "output_type": "execute_result"
    }
   ],
   "source": [
    "uniquecords.head()"
   ]
  },
  {
   "cell_type": "code",
   "execution_count": 45,
   "metadata": {
    "collapsed": true
   },
   "outputs": [],
   "source": [
    "# Get the final coordinates through averaging\n",
    "def getfinalgeo(row):\n",
    "    if row['latlngfrom']==None:\n",
    "        return row['latlngto']\n",
    "    elif row['latlngto']==None:\n",
    "        return row['latlngfrom']\n",
    "    else:\n",
    "        return list(np.average(np.array([row['latlngto'],row['latlngfrom']]),axis =0))"
   ]
  },
  {
   "cell_type": "code",
   "execution_count": 46,
   "metadata": {},
   "outputs": [],
   "source": [
    "uniquecords['latlng'] = uniquecords.apply(getfinalgeo,axis =1)\n",
    "uniquecords['lat'] = uniquecords['latlng'].apply(lambda x:x[0])\n",
    "uniquecords['lng'] = uniquecords['latlng'].apply(lambda x:x[1])"
   ]
  },
  {
   "cell_type": "code",
   "execution_count": 48,
   "metadata": {},
   "outputs": [
    {
     "data": {
      "text/html": [
       "<div>\n",
       "<style>\n",
       "    .dataframe thead tr:only-child th {\n",
       "        text-align: right;\n",
       "    }\n",
       "\n",
       "    .dataframe thead th {\n",
       "        text-align: left;\n",
       "    }\n",
       "\n",
       "    .dataframe tbody tr th {\n",
       "        vertical-align: top;\n",
       "    }\n",
       "</style>\n",
       "<table border=\"1\" class=\"dataframe\">\n",
       "  <thead>\n",
       "    <tr style=\"text-align: right;\">\n",
       "      <th></th>\n",
       "      <th>Street</th>\n",
       "      <th>From</th>\n",
       "      <th>To</th>\n",
       "      <th>latlngfrom</th>\n",
       "      <th>latlngto</th>\n",
       "      <th>latlng</th>\n",
       "      <th>lat</th>\n",
       "      <th>lng</th>\n",
       "    </tr>\n",
       "  </thead>\n",
       "  <tbody>\n",
       "    <tr>\n",
       "      <th>0</th>\n",
       "      <td>Mission Street</td>\n",
       "      <td>25th Street</td>\n",
       "      <td>26th Street</td>\n",
       "      <td>[37.7506482, -122.4183159]</td>\n",
       "      <td>[37.749044, -122.4181659]</td>\n",
       "      <td>[37.7498461, -122.4182409]</td>\n",
       "      <td>37.749846</td>\n",
       "      <td>-122.418241</td>\n",
       "    </tr>\n",
       "    <tr>\n",
       "      <th>1</th>\n",
       "      <td>Polk Street</td>\n",
       "      <td>Ellis Street</td>\n",
       "      <td>Olive Street</td>\n",
       "      <td>[37.7840397, -122.4193807]</td>\n",
       "      <td>[37.784507, -122.4194781]</td>\n",
       "      <td>[37.78427335, -122.4194294]</td>\n",
       "      <td>37.784273</td>\n",
       "      <td>-122.419429</td>\n",
       "    </tr>\n",
       "    <tr>\n",
       "      <th>2</th>\n",
       "      <td>Van Ness Avenue</td>\n",
       "      <td>Geary Boulevard</td>\n",
       "      <td>Myrtle Street</td>\n",
       "      <td>[37.7856601, -122.4214764]</td>\n",
       "      <td>[37.785221, -122.4213855]</td>\n",
       "      <td>[37.78544055, -122.42143095]</td>\n",
       "      <td>37.785441</td>\n",
       "      <td>-122.421431</td>\n",
       "    </tr>\n",
       "    <tr>\n",
       "      <th>3</th>\n",
       "      <td>Van Ness Avenue</td>\n",
       "      <td>Bush Street</td>\n",
       "      <td>Fern Street</td>\n",
       "      <td>[37.7884986, -122.4218922]</td>\n",
       "      <td>[37.7880441, -122.4218018]</td>\n",
       "      <td>[37.78827135, -122.421847]</td>\n",
       "      <td>37.788271</td>\n",
       "      <td>-122.421847</td>\n",
       "    </tr>\n",
       "    <tr>\n",
       "      <th>4</th>\n",
       "      <td>Van Ness Avenue</td>\n",
       "      <td>Daniel Burnham Court</td>\n",
       "      <td>Post Street</td>\n",
       "      <td>[37.7870844, -122.4217571]</td>\n",
       "      <td>[37.7866423, -122.4215171]</td>\n",
       "      <td>[37.78686335, -122.4216371]</td>\n",
       "      <td>37.786863</td>\n",
       "      <td>-122.421637</td>\n",
       "    </tr>\n",
       "  </tbody>\n",
       "</table>\n",
       "</div>"
      ],
      "text/plain": [
       "            Street                  From             To  \\\n",
       "0   Mission Street           25th Street    26th Street   \n",
       "1      Polk Street          Ellis Street   Olive Street   \n",
       "2  Van Ness Avenue       Geary Boulevard  Myrtle Street   \n",
       "3  Van Ness Avenue           Bush Street    Fern Street   \n",
       "4  Van Ness Avenue  Daniel Burnham Court    Post Street   \n",
       "\n",
       "                   latlngfrom                    latlngto  \\\n",
       "0  [37.7506482, -122.4183159]   [37.749044, -122.4181659]   \n",
       "1  [37.7840397, -122.4193807]   [37.784507, -122.4194781]   \n",
       "2  [37.7856601, -122.4214764]   [37.785221, -122.4213855]   \n",
       "3  [37.7884986, -122.4218922]  [37.7880441, -122.4218018]   \n",
       "4  [37.7870844, -122.4217571]  [37.7866423, -122.4215171]   \n",
       "\n",
       "                         latlng        lat         lng  \n",
       "0    [37.7498461, -122.4182409]  37.749846 -122.418241  \n",
       "1   [37.78427335, -122.4194294]  37.784273 -122.419429  \n",
       "2  [37.78544055, -122.42143095]  37.785441 -122.421431  \n",
       "3    [37.78827135, -122.421847]  37.788271 -122.421847  \n",
       "4   [37.78686335, -122.4216371]  37.786863 -122.421637  "
      ]
     },
     "execution_count": 48,
     "metadata": {},
     "output_type": "execute_result"
    }
   ],
   "source": [
    "uniquecords.head()"
   ]
  },
  {
   "cell_type": "code",
   "execution_count": 54,
   "metadata": {},
   "outputs": [],
   "source": [
    "uniquecords.to_csv(path_or_buf='/Users/yandixin_929/Desktop/MSAN/Advanced_Machine_Learning/project/long_lat_table_217.csv',index=False)"
   ]
  },
  {
   "cell_type": "code",
   "execution_count": null,
   "metadata": {
    "collapsed": true
   },
   "outputs": [],
   "source": []
  }
 ],
 "metadata": {
  "kernelspec": {
   "display_name": "Python 3",
   "language": "python",
   "name": "python3"
  },
  "language_info": {
   "codemirror_mode": {
    "name": "ipython",
    "version": 3
   },
   "file_extension": ".py",
   "mimetype": "text/x-python",
   "name": "python",
   "nbconvert_exporter": "python",
   "pygments_lexer": "ipython3",
   "version": "3.6.3"
  }
 },
 "nbformat": 4,
 "nbformat_minor": 2
}
