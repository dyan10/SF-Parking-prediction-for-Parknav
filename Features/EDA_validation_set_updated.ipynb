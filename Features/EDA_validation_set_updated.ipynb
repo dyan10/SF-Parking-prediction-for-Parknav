{
 "cells": [
  {
   "cell_type": "code",
   "execution_count": 1,
   "metadata": {
    "collapsed": true
   },
   "outputs": [],
   "source": [
    "import numpy as np\n",
    "import pandas as pd"
   ]
  },
  {
   "cell_type": "code",
   "execution_count": 2,
   "metadata": {
    "collapsed": true
   },
   "outputs": [],
   "source": [
    "test_raw = pd.read_csv('../data/test-no-label-parking.csv', parse_dates = [[3,4]], infer_datetime_format=True)"
   ]
  },
  {
   "cell_type": "code",
   "execution_count": 3,
   "metadata": {
    "collapsed": true
   },
   "outputs": [],
   "source": [
    "test_raw['Minute'] = test_raw.Date_Time.dt.minute\n",
    "test_raw['Hour'] = test_raw.Date_Time.dt.hour\n",
    "test_raw['Dow'] = test_raw.Date_Time.dt.weekday\n",
    "test_raw['Year'] = test_raw.Date_Time.dt.year\n",
    "test_raw['Month'] = test_raw.Date_Time.dt.month\n",
    "def day_type(x):\n",
    "    if x == 6 or x == 0:\n",
    "        return 1\n",
    "    else:\n",
    "        return 0\n",
    "test_raw['isweekend'] = test_raw['Dow'].apply(day_type)"
   ]
  },
  {
   "cell_type": "code",
   "execution_count": 4,
   "metadata": {},
   "outputs": [
    {
     "data": {
      "text/html": [
       "<div>\n",
       "<style>\n",
       "    .dataframe thead tr:only-child th {\n",
       "        text-align: right;\n",
       "    }\n",
       "\n",
       "    .dataframe thead th {\n",
       "        text-align: left;\n",
       "    }\n",
       "\n",
       "    .dataframe tbody tr th {\n",
       "        vertical-align: top;\n",
       "    }\n",
       "</style>\n",
       "<table border=\"1\" class=\"dataframe\">\n",
       "  <thead>\n",
       "    <tr style=\"text-align: right;\">\n",
       "      <th></th>\n",
       "      <th>Date_Time</th>\n",
       "      <th>Street</th>\n",
       "      <th>From</th>\n",
       "      <th>To</th>\n",
       "      <th>Street.Length</th>\n",
       "      <th>Minute</th>\n",
       "      <th>Hour</th>\n",
       "      <th>Dow</th>\n",
       "      <th>Year</th>\n",
       "      <th>Month</th>\n",
       "      <th>isweekend</th>\n",
       "    </tr>\n",
       "  </thead>\n",
       "  <tbody>\n",
       "    <tr>\n",
       "      <th>0</th>\n",
       "      <td>2014-03-28 16:34:00</td>\n",
       "      <td>Stockton Street</td>\n",
       "      <td>Stockton Tunnel</td>\n",
       "      <td>Stockton Street</td>\n",
       "      <td>35.786472</td>\n",
       "      <td>34</td>\n",
       "      <td>16</td>\n",
       "      <td>4</td>\n",
       "      <td>2014</td>\n",
       "      <td>3</td>\n",
       "      <td>0</td>\n",
       "    </tr>\n",
       "    <tr>\n",
       "      <th>1</th>\n",
       "      <td>2014-03-28 21:34:00</td>\n",
       "      <td>Van Ness Avenue</td>\n",
       "      <td>Hayes Street</td>\n",
       "      <td>Van Ness Avenue</td>\n",
       "      <td>63.787968</td>\n",
       "      <td>34</td>\n",
       "      <td>21</td>\n",
       "      <td>4</td>\n",
       "      <td>2014</td>\n",
       "      <td>3</td>\n",
       "      <td>0</td>\n",
       "    </tr>\n",
       "    <tr>\n",
       "      <th>2</th>\n",
       "      <td>2014-03-28 19:50:00</td>\n",
       "      <td>Van Ness Avenue</td>\n",
       "      <td>McAllister Street</td>\n",
       "      <td>Van Ness Avenue</td>\n",
       "      <td>56.007236</td>\n",
       "      <td>50</td>\n",
       "      <td>19</td>\n",
       "      <td>4</td>\n",
       "      <td>2014</td>\n",
       "      <td>3</td>\n",
       "      <td>0</td>\n",
       "    </tr>\n",
       "    <tr>\n",
       "      <th>3</th>\n",
       "      <td>2014-03-28 20:02:00</td>\n",
       "      <td>Mission Street</td>\n",
       "      <td>11th Street</td>\n",
       "      <td>Mission Street</td>\n",
       "      <td>139.651900</td>\n",
       "      <td>2</td>\n",
       "      <td>20</td>\n",
       "      <td>4</td>\n",
       "      <td>2014</td>\n",
       "      <td>3</td>\n",
       "      <td>0</td>\n",
       "    </tr>\n",
       "    <tr>\n",
       "      <th>4</th>\n",
       "      <td>2014-03-28 19:43:00</td>\n",
       "      <td>Hyde Street</td>\n",
       "      <td>Golden Gate Avenue</td>\n",
       "      <td>McAllister Street</td>\n",
       "      <td>105.144110</td>\n",
       "      <td>43</td>\n",
       "      <td>19</td>\n",
       "      <td>4</td>\n",
       "      <td>2014</td>\n",
       "      <td>3</td>\n",
       "      <td>0</td>\n",
       "    </tr>\n",
       "  </tbody>\n",
       "</table>\n",
       "</div>"
      ],
      "text/plain": [
       "            Date_Time           Street                From                 To  \\\n",
       "0 2014-03-28 16:34:00  Stockton Street     Stockton Tunnel    Stockton Street   \n",
       "1 2014-03-28 21:34:00  Van Ness Avenue        Hayes Street    Van Ness Avenue   \n",
       "2 2014-03-28 19:50:00  Van Ness Avenue   McAllister Street    Van Ness Avenue   \n",
       "3 2014-03-28 20:02:00   Mission Street         11th Street     Mission Street   \n",
       "4 2014-03-28 19:43:00      Hyde Street  Golden Gate Avenue  McAllister Street   \n",
       "\n",
       "   Street.Length  Minute  Hour  Dow  Year  Month  isweekend  \n",
       "0      35.786472      34    16    4  2014      3          0  \n",
       "1      63.787968      34    21    4  2014      3          0  \n",
       "2      56.007236      50    19    4  2014      3          0  \n",
       "3     139.651900       2    20    4  2014      3          0  \n",
       "4     105.144110      43    19    4  2014      3          0  "
      ]
     },
     "execution_count": 4,
     "metadata": {},
     "output_type": "execute_result"
    }
   ],
   "source": [
    "test_raw.head()"
   ]
  },
  {
   "cell_type": "code",
   "execution_count": 6,
   "metadata": {},
   "outputs": [],
   "source": [
    "train_raw = pd.read_csv('../data/train-parking.csv', parse_dates = [[3,4]], infer_datetime_format=True)\n",
    "train_raw['Minute'] = train_raw.Date_Time.dt.minute\n",
    "train_raw['Hour'] = train_raw.Date_Time.dt.hour\n",
    "train_raw['Dow'] = train_raw.Date_Time.dt.weekday\n",
    "train_raw['Year'] = train_raw.Date_Time.dt.year\n",
    "train_raw['Month'] = train_raw.Date_Time.dt.month\n",
    "train_raw['isweekend'] = train_raw['Dow'].apply(day_type)"
   ]
  },
  {
   "cell_type": "code",
   "execution_count": 7,
   "metadata": {},
   "outputs": [
    {
     "data": {
      "text/plain": [
       "Hour\n",
       "7      63\n",
       "8      36\n",
       "9      58\n",
       "10     32\n",
       "11     31\n",
       "12     33\n",
       "13    101\n",
       "14    109\n",
       "15     97\n",
       "16     98\n",
       "17     61\n",
       "18     99\n",
       "19     93\n",
       "20     93\n",
       "21     91\n",
       "22      5\n",
       "Name: Date_Time, dtype: int64"
      ]
     },
     "execution_count": 7,
     "metadata": {},
     "output_type": "execute_result"
    }
   ],
   "source": [
    "train_raw.groupby(['Hour'])['Date_Time'].count()"
   ]
  },
  {
   "cell_type": "code",
   "execution_count": 8,
   "metadata": {},
   "outputs": [
    {
     "data": {
      "text/plain": [
       "Hour\n",
       "7       6\n",
       "8      48\n",
       "9      51\n",
       "10     73\n",
       "11     76\n",
       "12     23\n",
       "13     21\n",
       "14     37\n",
       "15     29\n",
       "16     43\n",
       "17      3\n",
       "18     26\n",
       "19    102\n",
       "20     92\n",
       "21     72\n",
       "22     20\n",
       "23      4\n",
       "Name: Date_Time, dtype: int64"
      ]
     },
     "execution_count": 8,
     "metadata": {},
     "output_type": "execute_result"
    }
   ],
   "source": [
    "# notice that in test set we have time of 23, which is not present in the train\n",
    "test_raw.groupby(['Hour'])['Date_Time'].count()"
   ]
  },
  {
   "cell_type": "code",
   "execution_count": 9,
   "metadata": {},
   "outputs": [
    {
     "data": {
      "text/plain": [
       "Dow\n",
       "0    179\n",
       "1     94\n",
       "2    112\n",
       "3     91\n",
       "4    229\n",
       "5    284\n",
       "6    111\n",
       "Name: Date_Time, dtype: int64"
      ]
     },
     "execution_count": 9,
     "metadata": {},
     "output_type": "execute_result"
    }
   ],
   "source": [
    "train_raw.groupby(['Dow'])['Date_Time'].count()"
   ]
  },
  {
   "cell_type": "code",
   "execution_count": 10,
   "metadata": {},
   "outputs": [
    {
     "data": {
      "text/plain": [
       "Dow\n",
       "1     54\n",
       "2    248\n",
       "3     38\n",
       "4    194\n",
       "5    120\n",
       "6     72\n",
       "Name: Date_Time, dtype: int64"
      ]
     },
     "execution_count": 10,
     "metadata": {},
     "output_type": "execute_result"
    }
   ],
   "source": [
    "# notice that we dont even have Sunday on testset - so we won't include sundays in validation set\n",
    "test_raw.groupby(['Dow'])['Date_Time'].count()"
   ]
  },
  {
   "cell_type": "code",
   "execution_count": 11,
   "metadata": {},
   "outputs": [
    {
     "name": "stdout",
     "output_type": "stream",
     "text": [
      "train length: 1100 test length: 726\n"
     ]
    }
   ],
   "source": [
    "print('train length: {} test length: {}'.format(train_raw.shape[0], test_raw.shape[0]))"
   ]
  },
  {
   "cell_type": "code",
   "execution_count": 12,
   "metadata": {},
   "outputs": [
    {
     "data": {
      "text/plain": [
       "Dow\n",
       "1    0.102063\n",
       "2    0.121607\n",
       "3    0.098806\n",
       "4    0.248643\n",
       "5    0.308360\n",
       "6    0.120521\n",
       "Name: Date_Time, dtype: float64"
      ]
     },
     "execution_count": 12,
     "metadata": {},
     "output_type": "execute_result"
    }
   ],
   "source": [
    "train_raw[train_raw['Dow'] != 0].groupby(['Dow'])['Date_Time'].count()/train_raw[train_raw['Dow'] != 0].shape[0]"
   ]
  },
  {
   "cell_type": "code",
   "execution_count": 13,
   "metadata": {},
   "outputs": [
    {
     "data": {
      "text/plain": [
       "Dow\n",
       "1    0.074380\n",
       "2    0.341598\n",
       "3    0.052342\n",
       "4    0.267218\n",
       "5    0.165289\n",
       "6    0.099174\n",
       "Name: Date_Time, dtype: float64"
      ]
     },
     "execution_count": 13,
     "metadata": {},
     "output_type": "execute_result"
    }
   ],
   "source": [
    "test_raw.groupby(['Dow'])['Date_Time'].count()/test_raw.shape[0]"
   ]
  },
  {
   "cell_type": "code",
   "execution_count": 14,
   "metadata": {},
   "outputs": [
    {
     "data": {
      "text/plain": [
       "Street\n",
       "23rd Street           60\n",
       "Battery Street         0\n",
       "Bryant Street         11\n",
       "Bush Street           -2\n",
       "Columbus Avenue       -1\n",
       "Geary Street         -14\n",
       "Grove Street         -13\n",
       "Hyde Street           -5\n",
       "Jackson Street         3\n",
       "Jessie Street          4\n",
       "Jones Street         -34\n",
       "Kearny Street        -16\n",
       "Larkin Street        -31\n",
       "Leavenworth Street    -5\n",
       "Mason Street          -7\n",
       "Mission Street        34\n",
       "Montgomery Street     -7\n",
       "Pine Street           15\n",
       "Polk Street            0\n",
       "Post Street           -1\n",
       "Redwood Street        -2\n",
       "Stockton Street       -8\n",
       "Sutter Street         -6\n",
       "Taylor Street        -13\n",
       "Van Ness Avenue       23\n",
       "Washington Street     19\n",
       "Name: Date_Time, dtype: int64"
      ]
     },
     "execution_count": 14,
     "metadata": {},
     "output_type": "execute_result"
    }
   ],
   "source": [
    "(train_raw.groupby(['Street'])['Date_Time'].count()-test_raw.groupby(['Street'])['Date_Time'].count()*train_raw.shape[0]/test_raw.shape[0]).astype('int')"
   ]
  },
  {
   "cell_type": "markdown",
   "metadata": {},
   "source": [
    "### Validation 1: use the same proportion of oberservation by day of week as the test set"
   ]
  },
  {
   "cell_type": "code",
   "execution_count": 66,
   "metadata": {
    "collapsed": true
   },
   "outputs": [],
   "source": [
    "test_prop = test_raw.groupby(['Dow'])['Date_Time'].count()/test_raw.shape[0]"
   ]
  },
  {
   "cell_type": "code",
   "execution_count": 67,
   "metadata": {
    "collapsed": true
   },
   "outputs": [],
   "source": [
    "# assume that we want to have ~250 observations in the validation set, so we will select the following number of rows in the train set for each dow:\n",
    "n_rows_dow=(test_prop*250).astype('int')"
   ]
  },
  {
   "cell_type": "code",
   "execution_count": 68,
   "metadata": {
    "collapsed": true
   },
   "outputs": [],
   "source": [
    "valid_dow = pd.DataFrame()\n",
    "for dow, i in zip(n_rows_dow.index, n_rows_dow):\n",
    "    df_tmp = train_raw[train_raw['Dow']==dow].reset_index()\n",
    "    rows = np.random.choice(df_tmp.index.values, i, replace=False)\n",
    "    sampled_df = df_tmp.iloc[rows]\n",
    "    valid_dow = pd.concat([valid_dow, sampled_df])"
   ]
  },
  {
   "cell_type": "code",
   "execution_count": 69,
   "metadata": {},
   "outputs": [
    {
     "data": {
      "text/html": [
       "<div>\n",
       "<style>\n",
       "    .dataframe thead tr:only-child th {\n",
       "        text-align: right;\n",
       "    }\n",
       "\n",
       "    .dataframe thead th {\n",
       "        text-align: left;\n",
       "    }\n",
       "\n",
       "    .dataframe tbody tr th {\n",
       "        vertical-align: top;\n",
       "    }\n",
       "</style>\n",
       "<table border=\"1\" class=\"dataframe\">\n",
       "  <thead>\n",
       "    <tr style=\"text-align: right;\">\n",
       "      <th></th>\n",
       "      <th>index</th>\n",
       "      <th>Date_Time</th>\n",
       "      <th>Street</th>\n",
       "      <th>From</th>\n",
       "      <th>To</th>\n",
       "      <th>Real.Spots</th>\n",
       "      <th>Street.Length</th>\n",
       "      <th>any_spot</th>\n",
       "      <th>Minute</th>\n",
       "      <th>Hour</th>\n",
       "      <th>Dow</th>\n",
       "      <th>Year</th>\n",
       "      <th>Month</th>\n",
       "      <th>isweekend</th>\n",
       "    </tr>\n",
       "  </thead>\n",
       "  <tbody>\n",
       "    <tr>\n",
       "      <th>27</th>\n",
       "      <td>113</td>\n",
       "      <td>2014-01-28 15:41:00</td>\n",
       "      <td>Jackson Street</td>\n",
       "      <td>Polk Street</td>\n",
       "      <td>Van Ness Avenue</td>\n",
       "      <td>3</td>\n",
       "      <td>139.323970</td>\n",
       "      <td>1</td>\n",
       "      <td>41</td>\n",
       "      <td>15</td>\n",
       "      <td>1</td>\n",
       "      <td>2014</td>\n",
       "      <td>1</td>\n",
       "      <td>0</td>\n",
       "    </tr>\n",
       "    <tr>\n",
       "      <th>39</th>\n",
       "      <td>389</td>\n",
       "      <td>2014-02-11 13:38:00</td>\n",
       "      <td>Stockton Street</td>\n",
       "      <td>Stockton Street</td>\n",
       "      <td>Jackson Street</td>\n",
       "      <td>0</td>\n",
       "      <td>84.282980</td>\n",
       "      <td>0</td>\n",
       "      <td>38</td>\n",
       "      <td>13</td>\n",
       "      <td>1</td>\n",
       "      <td>2014</td>\n",
       "      <td>2</td>\n",
       "      <td>0</td>\n",
       "    </tr>\n",
       "    <tr>\n",
       "      <th>44</th>\n",
       "      <td>394</td>\n",
       "      <td>2014-02-11 13:43:00</td>\n",
       "      <td>Stockton Street</td>\n",
       "      <td>Stockton Tunnel</td>\n",
       "      <td>Stockton Street</td>\n",
       "      <td>0</td>\n",
       "      <td>35.786472</td>\n",
       "      <td>0</td>\n",
       "      <td>43</td>\n",
       "      <td>13</td>\n",
       "      <td>1</td>\n",
       "      <td>2014</td>\n",
       "      <td>2</td>\n",
       "      <td>0</td>\n",
       "    </tr>\n",
       "    <tr>\n",
       "      <th>80</th>\n",
       "      <td>927</td>\n",
       "      <td>2014-03-25 15:41:00</td>\n",
       "      <td>Montgomery Street</td>\n",
       "      <td>Verdi Place</td>\n",
       "      <td>Pacific Avenue</td>\n",
       "      <td>0</td>\n",
       "      <td>66.270280</td>\n",
       "      <td>0</td>\n",
       "      <td>41</td>\n",
       "      <td>15</td>\n",
       "      <td>1</td>\n",
       "      <td>2014</td>\n",
       "      <td>3</td>\n",
       "      <td>0</td>\n",
       "    </tr>\n",
       "    <tr>\n",
       "      <th>50</th>\n",
       "      <td>400</td>\n",
       "      <td>2014-02-11 13:15:00</td>\n",
       "      <td>Montgomery Street</td>\n",
       "      <td>Washington Street</td>\n",
       "      <td>Montgomery Street</td>\n",
       "      <td>0</td>\n",
       "      <td>51.695087</td>\n",
       "      <td>0</td>\n",
       "      <td>15</td>\n",
       "      <td>13</td>\n",
       "      <td>1</td>\n",
       "      <td>2014</td>\n",
       "      <td>2</td>\n",
       "      <td>0</td>\n",
       "    </tr>\n",
       "  </tbody>\n",
       "</table>\n",
       "</div>"
      ],
      "text/plain": [
       "    index           Date_Time             Street               From  \\\n",
       "27    113 2014-01-28 15:41:00     Jackson Street        Polk Street   \n",
       "39    389 2014-02-11 13:38:00    Stockton Street    Stockton Street   \n",
       "44    394 2014-02-11 13:43:00    Stockton Street    Stockton Tunnel   \n",
       "80    927 2014-03-25 15:41:00  Montgomery Street        Verdi Place   \n",
       "50    400 2014-02-11 13:15:00  Montgomery Street  Washington Street   \n",
       "\n",
       "                   To  Real.Spots  Street.Length  any_spot  Minute  Hour  Dow  \\\n",
       "27    Van Ness Avenue           3     139.323970         1      41    15    1   \n",
       "39     Jackson Street           0      84.282980         0      38    13    1   \n",
       "44    Stockton Street           0      35.786472         0      43    13    1   \n",
       "80     Pacific Avenue           0      66.270280         0      41    15    1   \n",
       "50  Montgomery Street           0      51.695087         0      15    13    1   \n",
       "\n",
       "    Year  Month  isweekend  \n",
       "27  2014      1          0  \n",
       "39  2014      2          0  \n",
       "44  2014      2          0  \n",
       "80  2014      3          0  \n",
       "50  2014      2          0  "
      ]
     },
     "execution_count": 69,
     "metadata": {},
     "output_type": "execute_result"
    }
   ],
   "source": [
    "valid_dow.head()"
   ]
  },
  {
   "cell_type": "code",
   "execution_count": 71,
   "metadata": {
    "collapsed": true
   },
   "outputs": [],
   "source": [
    "valid_dow.drop(['Minute','Hour','Dow','Year','Month','isweekend'], axis=1, inplace=True)"
   ]
  },
  {
   "cell_type": "code",
   "execution_count": 52,
   "metadata": {
    "collapsed": true
   },
   "outputs": [],
   "source": [
    "# train_raw = pd.read_csv('../data/train-parking.csv', parse_dates = [[3,4]], infer_datetime_format=True)\n",
    "# valid_dow = valid_dow[train_raw.columns]"
   ]
  },
  {
   "cell_type": "code",
   "execution_count": 81,
   "metadata": {
    "collapsed": true
   },
   "outputs": [],
   "source": [
    "valid_dow.to_csv('../data/valid_dow.csv', index_label='index')"
   ]
  },
  {
   "cell_type": "markdown",
   "metadata": {},
   "source": [
    "### Validation 2: use the same proportion of oberservation by hour_group as the test set"
   ]
  },
  {
   "cell_type": "code",
   "execution_count": 15,
   "metadata": {
    "collapsed": true
   },
   "outputs": [],
   "source": [
    "def hour_group(x):\n",
    "    if x <= 11:\n",
    "        return 'morning'\n",
    "    elif x > 11 and x<=17:\n",
    "        return  'afternoon'\n",
    "    else:\n",
    "        return 'night'"
   ]
  },
  {
   "cell_type": "code",
   "execution_count": 16,
   "metadata": {
    "collapsed": true
   },
   "outputs": [],
   "source": [
    "train_raw['Hour_group'] = train_raw['Hour'].apply(hour_group)\n",
    "test_raw['Hour_group'] = test_raw['Hour'].apply(hour_group)"
   ]
  },
  {
   "cell_type": "code",
   "execution_count": 17,
   "metadata": {},
   "outputs": [
    {
     "data": {
      "text/html": [
       "<div>\n",
       "<style>\n",
       "    .dataframe thead tr:only-child th {\n",
       "        text-align: right;\n",
       "    }\n",
       "\n",
       "    .dataframe thead th {\n",
       "        text-align: left;\n",
       "    }\n",
       "\n",
       "    .dataframe tbody tr th {\n",
       "        vertical-align: top;\n",
       "    }\n",
       "</style>\n",
       "<table border=\"1\" class=\"dataframe\">\n",
       "  <thead>\n",
       "    <tr style=\"text-align: right;\">\n",
       "      <th></th>\n",
       "      <th>Date_Time</th>\n",
       "      <th>Street</th>\n",
       "      <th>From</th>\n",
       "      <th>To</th>\n",
       "      <th>Real.Spots</th>\n",
       "      <th>Street.Length</th>\n",
       "      <th>any_spot</th>\n",
       "      <th>Minute</th>\n",
       "      <th>Hour</th>\n",
       "      <th>Dow</th>\n",
       "      <th>Year</th>\n",
       "      <th>Month</th>\n",
       "      <th>isweekend</th>\n",
       "      <th>Hour_group</th>\n",
       "    </tr>\n",
       "  </thead>\n",
       "  <tbody>\n",
       "    <tr>\n",
       "      <th>0</th>\n",
       "      <td>2014-01-07 16:19:00</td>\n",
       "      <td>Mission Street</td>\n",
       "      <td>25th Street</td>\n",
       "      <td>26th Street</td>\n",
       "      <td>4</td>\n",
       "      <td>179.132970</td>\n",
       "      <td>1</td>\n",
       "      <td>19</td>\n",
       "      <td>16</td>\n",
       "      <td>1</td>\n",
       "      <td>2014</td>\n",
       "      <td>1</td>\n",
       "      <td>0</td>\n",
       "      <td>afternoon</td>\n",
       "    </tr>\n",
       "    <tr>\n",
       "      <th>1</th>\n",
       "      <td>2014-01-18 20:42:00</td>\n",
       "      <td>Polk Street</td>\n",
       "      <td>Ellis Street</td>\n",
       "      <td>Olive Street</td>\n",
       "      <td>0</td>\n",
       "      <td>52.740210</td>\n",
       "      <td>0</td>\n",
       "      <td>42</td>\n",
       "      <td>20</td>\n",
       "      <td>5</td>\n",
       "      <td>2014</td>\n",
       "      <td>1</td>\n",
       "      <td>0</td>\n",
       "      <td>night</td>\n",
       "    </tr>\n",
       "    <tr>\n",
       "      <th>2</th>\n",
       "      <td>2014-01-18 20:39:00</td>\n",
       "      <td>Van Ness Avenue</td>\n",
       "      <td>Geary Boulevard</td>\n",
       "      <td>Myrtle Street</td>\n",
       "      <td>0</td>\n",
       "      <td>52.517840</td>\n",
       "      <td>0</td>\n",
       "      <td>39</td>\n",
       "      <td>20</td>\n",
       "      <td>5</td>\n",
       "      <td>2014</td>\n",
       "      <td>1</td>\n",
       "      <td>0</td>\n",
       "      <td>night</td>\n",
       "    </tr>\n",
       "    <tr>\n",
       "      <th>3</th>\n",
       "      <td>2014-01-18 20:38:00</td>\n",
       "      <td>Van Ness Avenue</td>\n",
       "      <td>Bush Street</td>\n",
       "      <td>Fern Street</td>\n",
       "      <td>0</td>\n",
       "      <td>52.405315</td>\n",
       "      <td>0</td>\n",
       "      <td>38</td>\n",
       "      <td>20</td>\n",
       "      <td>5</td>\n",
       "      <td>2014</td>\n",
       "      <td>1</td>\n",
       "      <td>0</td>\n",
       "      <td>night</td>\n",
       "    </tr>\n",
       "    <tr>\n",
       "      <th>4</th>\n",
       "      <td>2014-01-18 20:38:00</td>\n",
       "      <td>Van Ness Avenue</td>\n",
       "      <td>Daniel Burnham Court</td>\n",
       "      <td>Post Street</td>\n",
       "      <td>0</td>\n",
       "      <td>52.191193</td>\n",
       "      <td>0</td>\n",
       "      <td>38</td>\n",
       "      <td>20</td>\n",
       "      <td>5</td>\n",
       "      <td>2014</td>\n",
       "      <td>1</td>\n",
       "      <td>0</td>\n",
       "      <td>night</td>\n",
       "    </tr>\n",
       "  </tbody>\n",
       "</table>\n",
       "</div>"
      ],
      "text/plain": [
       "            Date_Time           Street                  From             To  \\\n",
       "0 2014-01-07 16:19:00   Mission Street           25th Street    26th Street   \n",
       "1 2014-01-18 20:42:00      Polk Street          Ellis Street   Olive Street   \n",
       "2 2014-01-18 20:39:00  Van Ness Avenue       Geary Boulevard  Myrtle Street   \n",
       "3 2014-01-18 20:38:00  Van Ness Avenue           Bush Street    Fern Street   \n",
       "4 2014-01-18 20:38:00  Van Ness Avenue  Daniel Burnham Court    Post Street   \n",
       "\n",
       "   Real.Spots  Street.Length  any_spot  Minute  Hour  Dow  Year  Month  \\\n",
       "0           4     179.132970         1      19    16    1  2014      1   \n",
       "1           0      52.740210         0      42    20    5  2014      1   \n",
       "2           0      52.517840         0      39    20    5  2014      1   \n",
       "3           0      52.405315         0      38    20    5  2014      1   \n",
       "4           0      52.191193         0      38    20    5  2014      1   \n",
       "\n",
       "   isweekend Hour_group  \n",
       "0          0  afternoon  \n",
       "1          0      night  \n",
       "2          0      night  \n",
       "3          0      night  \n",
       "4          0      night  "
      ]
     },
     "execution_count": 17,
     "metadata": {},
     "output_type": "execute_result"
    }
   ],
   "source": [
    "train_raw.head()"
   ]
  },
  {
   "cell_type": "code",
   "execution_count": 76,
   "metadata": {},
   "outputs": [
    {
     "data": {
      "text/plain": [
       "Hour_group\n",
       "afternoon    0.214876\n",
       "morning      0.349862\n",
       "night        0.435262\n",
       "Name: Date_Time, dtype: float64"
      ]
     },
     "execution_count": 76,
     "metadata": {},
     "output_type": "execute_result"
    }
   ],
   "source": [
    "test_raw.groupby(['Hour_group'])['Date_Time'].count()/test_raw.shape[0]"
   ]
  },
  {
   "cell_type": "code",
   "execution_count": 77,
   "metadata": {},
   "outputs": [
    {
     "data": {
      "text/plain": [
       "Hour_group\n",
       "afternoon    0.453636\n",
       "morning      0.200000\n",
       "night        0.346364\n",
       "Name: Date_Time, dtype: float64"
      ]
     },
     "execution_count": 77,
     "metadata": {},
     "output_type": "execute_result"
    }
   ],
   "source": [
    "train_raw.groupby(['Hour_group'])['Date_Time'].count()/train_raw.shape[0]"
   ]
  },
  {
   "cell_type": "code",
   "execution_count": 78,
   "metadata": {
    "collapsed": true
   },
   "outputs": [],
   "source": [
    "test_prop_hg = test_raw.groupby(['Hour_group'])['Date_Time'].count()/test_raw.shape[0]\n",
    "\n",
    "# assume that we want to have ~250 observations in the validation set, so we will select the following number of rows in the train set for each dow:\n",
    "n_rows_hg=(test_prop_hg*250).astype('int')"
   ]
  },
  {
   "cell_type": "code",
   "execution_count": 79,
   "metadata": {
    "collapsed": true
   },
   "outputs": [],
   "source": [
    "valid_hg = pd.DataFrame()\n",
    "for hg, i in zip(n_rows_hg.index, n_rows_hg):\n",
    "    df_tmp = train_raw[train_raw['Hour_group']==hg].reset_index()\n",
    "    rows = np.random.choice(df_tmp.index.values, i, replace=False)\n",
    "    sampled_df = df_tmp.iloc[rows]\n",
    "    valid_hg = pd.concat([valid_hg, sampled_df])"
   ]
  },
  {
   "cell_type": "code",
   "execution_count": 80,
   "metadata": {
    "collapsed": true
   },
   "outputs": [],
   "source": [
    "valid_hg.drop(['Minute','Hour','Dow','Year','Month','isweekend','Hour_group'], axis=1, inplace=True)"
   ]
  },
  {
   "cell_type": "code",
   "execution_count": 83,
   "metadata": {},
   "outputs": [
    {
     "data": {
      "text/html": [
       "<div>\n",
       "<style>\n",
       "    .dataframe thead tr:only-child th {\n",
       "        text-align: right;\n",
       "    }\n",
       "\n",
       "    .dataframe thead th {\n",
       "        text-align: left;\n",
       "    }\n",
       "\n",
       "    .dataframe tbody tr th {\n",
       "        vertical-align: top;\n",
       "    }\n",
       "</style>\n",
       "<table border=\"1\" class=\"dataframe\">\n",
       "  <thead>\n",
       "    <tr style=\"text-align: right;\">\n",
       "      <th></th>\n",
       "      <th>index</th>\n",
       "      <th>Date_Time</th>\n",
       "      <th>Street</th>\n",
       "      <th>From</th>\n",
       "      <th>To</th>\n",
       "      <th>Real.Spots</th>\n",
       "      <th>Street.Length</th>\n",
       "      <th>any_spot</th>\n",
       "    </tr>\n",
       "  </thead>\n",
       "  <tbody>\n",
       "    <tr>\n",
       "      <th>448</th>\n",
       "      <td>983</td>\n",
       "      <td>2014-03-26 16:01:00</td>\n",
       "      <td>Bush Street</td>\n",
       "      <td>Taylor Street</td>\n",
       "      <td>Mason Street</td>\n",
       "      <td>0</td>\n",
       "      <td>146.52574</td>\n",
       "      <td>0</td>\n",
       "    </tr>\n",
       "    <tr>\n",
       "      <th>445</th>\n",
       "      <td>979</td>\n",
       "      <td>2014-03-26 14:10:00</td>\n",
       "      <td>Polk Street</td>\n",
       "      <td>Bonita Street</td>\n",
       "      <td>Green Street</td>\n",
       "      <td>0</td>\n",
       "      <td>51.76525</td>\n",
       "      <td>0</td>\n",
       "    </tr>\n",
       "    <tr>\n",
       "      <th>69</th>\n",
       "      <td>134</td>\n",
       "      <td>2014-01-30 16:27:00</td>\n",
       "      <td>Polk Street</td>\n",
       "      <td>Jackson Street</td>\n",
       "      <td>Washington Street</td>\n",
       "      <td>0</td>\n",
       "      <td>98.40858</td>\n",
       "      <td>0</td>\n",
       "    </tr>\n",
       "    <tr>\n",
       "      <th>44</th>\n",
       "      <td>101</td>\n",
       "      <td>2014-01-28 13:56:00</td>\n",
       "      <td>Van Ness Avenue</td>\n",
       "      <td>Clay Street</td>\n",
       "      <td>Washington Street</td>\n",
       "      <td>2</td>\n",
       "      <td>98.93023</td>\n",
       "      <td>1</td>\n",
       "    </tr>\n",
       "    <tr>\n",
       "      <th>493</th>\n",
       "      <td>1036</td>\n",
       "      <td>2014-03-27 13:21:00</td>\n",
       "      <td>Washington Street</td>\n",
       "      <td>Hotaling Street</td>\n",
       "      <td>Columbus Avenue</td>\n",
       "      <td>0</td>\n",
       "      <td>51.84337</td>\n",
       "      <td>0</td>\n",
       "    </tr>\n",
       "  </tbody>\n",
       "</table>\n",
       "</div>"
      ],
      "text/plain": [
       "     index           Date_Time             Street             From  \\\n",
       "448    983 2014-03-26 16:01:00        Bush Street    Taylor Street   \n",
       "445    979 2014-03-26 14:10:00        Polk Street    Bonita Street   \n",
       "69     134 2014-01-30 16:27:00        Polk Street   Jackson Street   \n",
       "44     101 2014-01-28 13:56:00    Van Ness Avenue      Clay Street   \n",
       "493   1036 2014-03-27 13:21:00  Washington Street  Hotaling Street   \n",
       "\n",
       "                    To  Real.Spots  Street.Length  any_spot  \n",
       "448       Mason Street           0      146.52574         0  \n",
       "445       Green Street           0       51.76525         0  \n",
       "69   Washington Street           0       98.40858         0  \n",
       "44   Washington Street           2       98.93023         1  \n",
       "493    Columbus Avenue           0       51.84337         0  "
      ]
     },
     "execution_count": 83,
     "metadata": {},
     "output_type": "execute_result"
    }
   ],
   "source": [
    "valid_hg.head()"
   ]
  },
  {
   "cell_type": "code",
   "execution_count": 84,
   "metadata": {
    "collapsed": true
   },
   "outputs": [],
   "source": [
    "valid_hg.to_csv('../data/valid_hg.csv', index_label='index')"
   ]
  },
  {
   "cell_type": "markdown",
   "metadata": {
    "collapsed": true
   },
   "source": [
    "### Group by street , is weekend and hour group"
   ]
  },
  {
   "cell_type": "code",
   "execution_count": 18,
   "metadata": {
    "collapsed": true
   },
   "outputs": [],
   "source": [
    "frac = test_raw.groupby(['Street','isweekend','Hour_group'])['Date_Time'].count()/test_raw.shape[0]\n",
    "frac = frac.reset_index()"
   ]
  },
  {
   "cell_type": "code",
   "execution_count": 19,
   "metadata": {
    "collapsed": true
   },
   "outputs": [],
   "source": [
    "frac['pct'] = frac['Date_Time']\n",
    "frac['count'] = (300*frac['pct']).astype('int')\n",
    "frac = frac.drop('Date_Time', axis =1)"
   ]
  },
  {
   "cell_type": "code",
   "execution_count": 20,
   "metadata": {},
   "outputs": [
    {
     "data": {
      "text/html": [
       "<div>\n",
       "<style>\n",
       "    .dataframe thead tr:only-child th {\n",
       "        text-align: right;\n",
       "    }\n",
       "\n",
       "    .dataframe thead th {\n",
       "        text-align: left;\n",
       "    }\n",
       "\n",
       "    .dataframe tbody tr th {\n",
       "        vertical-align: top;\n",
       "    }\n",
       "</style>\n",
       "<table border=\"1\" class=\"dataframe\">\n",
       "  <thead>\n",
       "    <tr style=\"text-align: right;\">\n",
       "      <th></th>\n",
       "      <th>Street</th>\n",
       "      <th>isweekend</th>\n",
       "      <th>Hour_group</th>\n",
       "      <th>pct</th>\n",
       "      <th>count</th>\n",
       "    </tr>\n",
       "  </thead>\n",
       "  <tbody>\n",
       "    <tr>\n",
       "      <th>0</th>\n",
       "      <td>23rd Street</td>\n",
       "      <td>0</td>\n",
       "      <td>afternoon</td>\n",
       "      <td>0.011019</td>\n",
       "      <td>3</td>\n",
       "    </tr>\n",
       "    <tr>\n",
       "      <th>1</th>\n",
       "      <td>23rd Street</td>\n",
       "      <td>0</td>\n",
       "      <td>morning</td>\n",
       "      <td>0.002755</td>\n",
       "      <td>0</td>\n",
       "    </tr>\n",
       "    <tr>\n",
       "      <th>2</th>\n",
       "      <td>Battery Street</td>\n",
       "      <td>0</td>\n",
       "      <td>afternoon</td>\n",
       "      <td>0.002755</td>\n",
       "      <td>0</td>\n",
       "    </tr>\n",
       "    <tr>\n",
       "      <th>3</th>\n",
       "      <td>Battery Street</td>\n",
       "      <td>0</td>\n",
       "      <td>morning</td>\n",
       "      <td>0.004132</td>\n",
       "      <td>1</td>\n",
       "    </tr>\n",
       "    <tr>\n",
       "      <th>4</th>\n",
       "      <td>Battery Street</td>\n",
       "      <td>0</td>\n",
       "      <td>night</td>\n",
       "      <td>0.004132</td>\n",
       "      <td>1</td>\n",
       "    </tr>\n",
       "  </tbody>\n",
       "</table>\n",
       "</div>"
      ],
      "text/plain": [
       "           Street  isweekend Hour_group       pct  count\n",
       "0     23rd Street          0  afternoon  0.011019      3\n",
       "1     23rd Street          0    morning  0.002755      0\n",
       "2  Battery Street          0  afternoon  0.002755      0\n",
       "3  Battery Street          0    morning  0.004132      1\n",
       "4  Battery Street          0      night  0.004132      1"
      ]
     },
     "execution_count": 20,
     "metadata": {},
     "output_type": "execute_result"
    }
   ],
   "source": [
    "frac.head()"
   ]
  },
  {
   "cell_type": "code",
   "execution_count": 23,
   "metadata": {
    "collapsed": true
   },
   "outputs": [],
   "source": [
    "valset = pd.DataFrame()\n",
    "for i in range(len(frac)):\n",
    "    street, wkn, hg, n = frac.iloc[i][['Street','isweekend','Hour_group','count']]\n",
    "    df_tmp = train_raw[(train_raw['Street']==street) & \n",
    "                       (train_raw['isweekend']==wkn) & \n",
    "                       (train_raw['Hour_group']==hg)].reset_index()\n",
    "    # In order not to take all the data in one segment into the val set, we only take sample if the number of samples\n",
    "    # in training is 2 times or more than the number of sample we want to take into val\n",
    "    if (len(df_tmp)>= 2*n) and (n!=0) :\n",
    "        rows = np.random.choice(df_tmp.index.values, n, replace=False)\n",
    "        sampled_df = df_tmp.iloc[rows]\n",
    "        valset = pd.concat([valset, sampled_df])"
   ]
  },
  {
   "cell_type": "code",
   "execution_count": 24,
   "metadata": {},
   "outputs": [
    {
     "data": {
      "text/plain": [
       "(156, 15)"
      ]
     },
     "execution_count": 24,
     "metadata": {},
     "output_type": "execute_result"
    }
   ],
   "source": [
    "valset.shape"
   ]
  },
  {
   "cell_type": "code",
   "execution_count": 25,
   "metadata": {},
   "outputs": [
    {
     "data": {
      "text/plain": [
       "Index(['index', 'Date_Time', 'Street', 'From', 'To', 'Real.Spots',\n",
       "       'Street.Length', 'any_spot', 'Minute', 'Hour', 'Dow', 'Year', 'Month',\n",
       "       'isweekend', 'Hour_group'],\n",
       "      dtype='object')"
      ]
     },
     "execution_count": 25,
     "metadata": {},
     "output_type": "execute_result"
    }
   ],
   "source": [
    "valset.columns"
   ]
  },
  {
   "cell_type": "code",
   "execution_count": 26,
   "metadata": {
    "collapsed": true
   },
   "outputs": [],
   "source": [
    "valset.drop(['Minute','Hour','Dow','Year','Month','isweekend','Hour_group'], axis=1, inplace=True)"
   ]
  },
  {
   "cell_type": "code",
   "execution_count": 27,
   "metadata": {
    "collapsed": true
   },
   "outputs": [],
   "source": [
    "valset.to_csv('../data/valid_swhg.csv', index_label='index')"
   ]
  },
  {
   "cell_type": "code",
   "execution_count": null,
   "metadata": {
    "collapsed": true
   },
   "outputs": [],
   "source": []
  }
 ],
 "metadata": {
  "kernelspec": {
   "display_name": "Python 3",
   "language": "python",
   "name": "python3"
  },
  "language_info": {
   "codemirror_mode": {
    "name": "ipython",
    "version": 3
   },
   "file_extension": ".py",
   "mimetype": "text/x-python",
   "name": "python",
   "nbconvert_exporter": "python",
   "pygments_lexer": "ipython3",
   "version": "3.6.2"
  }
 },
 "nbformat": 4,
 "nbformat_minor": 2
}
