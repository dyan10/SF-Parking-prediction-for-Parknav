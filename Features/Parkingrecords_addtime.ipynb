{
 "cells": [
  {
   "cell_type": "code",
   "execution_count": null,
   "metadata": {
    "collapsed": true
   },
   "outputs": [],
   "source": [
    "import datetime\n",
    "import re\n",
    "\n",
    "park_rec = pd.read_csv('/Users/yandixin_929/Desktop/MSAN/Advanced_Machine_Learning/project/parkingrecords.csv')\n",
    "def getdate(x):\n",
    "    m = re.search(r'(\\d+)', str(x))\n",
    "    return (datetime.datetime.fromtimestamp(int(m.group(1))/1000.0).strftime('%Y-%m-%d %H:%M:%S'))\n",
    "\n",
    "park_rec['Date_Time'] = park_rec['datetime'].apply(getdate)"
   ]
  },
  {
   "cell_type": "code",
   "execution_count": null,
   "metadata": {
    "collapsed": true
   },
   "outputs": [],
   "source": [
    "# convert to datetime format:\n",
    "park_rec['Date_Time'] = pd.to_datetime(park_rec['Date_Time'], format='%Y-%m-%d %H:%M:%S')\n",
    "park_rec['Minute'] = park_rec.Date_Time.dt.minute\n",
    "park_rec['Hour'] = park_rec.Date_Time.dt.hour\n",
    "park_rec['Dow'] = park_rec.Date_Time.dt.weekday\n",
    "park_rec['Time'] = park_rec[\"Hour\"]*100 + park_rec['Minute']\n",
    "def day_type(x):\n",
    "    if x == 6 or x == 0:\n",
    "        return 1\n",
    "    else:\n",
    "        return 0\n",
    "    \n",
    "park_rec['isweekend'] = park_rec['Dow'].apply(day_type)\n",
    "park_rec['isweekend'] = park_rec['Dow'].apply(day_type)\n",
    "\n",
    "park_rec.drop('datetime',axis=1, inplace = True)"
   ]
  },
  {
   "cell_type": "code",
   "execution_count": null,
   "metadata": {
    "collapsed": true
   },
   "outputs": [],
   "source": [
    "park_rec.to_csv('/Users/yandixin_929/Desktop/MSAN/Advanced_Machine_Learning/project/park_rec_dt_217.csv', index=False)"
   ]
  }
 ],
 "metadata": {
  "kernelspec": {
   "display_name": "Python 3",
   "language": "python",
   "name": "python3"
  },
  "language_info": {
   "codemirror_mode": {
    "name": "ipython",
    "version": 3
   },
   "file_extension": ".py",
   "mimetype": "text/x-python",
   "name": "python",
   "nbconvert_exporter": "python",
   "pygments_lexer": "ipython3",
   "version": "3.6.3"
  }
 },
 "nbformat": 4,
 "nbformat_minor": 2
}
